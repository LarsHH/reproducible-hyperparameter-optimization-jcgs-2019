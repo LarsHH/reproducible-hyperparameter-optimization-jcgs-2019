{
 "cells": [
  {
   "cell_type": "code",
   "execution_count": 2,
   "metadata": {
    "collapsed": true
   },
   "outputs": [],
   "source": [
    "import pandas as pd"
   ]
  },
  {
   "cell_type": "markdown",
   "metadata": {},
   "source": [
    "# IMDB"
   ]
  },
  {
   "cell_type": "code",
   "execution_count": 2,
   "metadata": {
    "collapsed": true
   },
   "outputs": [],
   "source": [
    "imdb0 = pd.read_csv(\"./training-curves/results.csv\")\n",
    "imdb1 = pd.read_csv(\"./training-curves/results (1).csv\") \n",
    "imdb2 = pd.read_csv(\"./training-curves/results (2).csv\")\n",
    "imdb3 = pd.read_csv(\"./training-curves/results (3).csv\")\n",
    "imdb4 = pd.read_csv(\"./training-curves/imdb0.csv\")\n",
    "imdb5 = pd.read_csv(\"./training-curves/imdb1.csv\")\n",
    "imdb6 = pd.read_csv(\"./training-curves/imdb2.csv\")\n",
    "imdb7 = pd.read_csv(\"./training-curves/imdb3.csv\")"
   ]
  },
  {
   "cell_type": "code",
   "execution_count": 6,
   "metadata": {},
   "outputs": [
    {
     "data": {
      "text/html": [
       "<div>\n",
       "<style scoped>\n",
       "    .dataframe tbody tr th:only-of-type {\n",
       "        vertical-align: middle;\n",
       "    }\n",
       "\n",
       "    .dataframe tbody tr th {\n",
       "        vertical-align: top;\n",
       "    }\n",
       "\n",
       "    .dataframe thead th {\n",
       "        text-align: right;\n",
       "    }\n",
       "</style>\n",
       "<table border=\"1\" class=\"dataframe\">\n",
       "  <thead>\n",
       "    <tr style=\"text-align: right;\">\n",
       "      <th></th>\n",
       "      <th>Trial-ID</th>\n",
       "      <th>Status</th>\n",
       "      <th>Iteration</th>\n",
       "      <th>batch_size</th>\n",
       "      <th>dropout</th>\n",
       "      <th>gpu</th>\n",
       "      <th>hidden_dim</th>\n",
       "      <th>lr</th>\n",
       "      <th>max_features</th>\n",
       "      <th>recurrent_dropout</th>\n",
       "      <th>Objective</th>\n",
       "      <th>acc</th>\n",
       "      <th>loss</th>\n",
       "      <th>val_loss</th>\n",
       "    </tr>\n",
       "  </thead>\n",
       "  <tbody>\n",
       "    <tr>\n",
       "      <th>0</th>\n",
       "      <td>1</td>\n",
       "      <td>INTERMEDIATE</td>\n",
       "      <td>0</td>\n",
       "      <td>128</td>\n",
       "      <td>0.630026</td>\n",
       "      <td>1</td>\n",
       "      <td>176</td>\n",
       "      <td>0.001662</td>\n",
       "      <td>20000</td>\n",
       "      <td>0.310548</td>\n",
       "      <td>0.79752</td>\n",
       "      <td>0.73108</td>\n",
       "      <td>0.535280</td>\n",
       "      <td>0.445803</td>\n",
       "    </tr>\n",
       "    <tr>\n",
       "      <th>1</th>\n",
       "      <td>3</td>\n",
       "      <td>INTERMEDIATE</td>\n",
       "      <td>0</td>\n",
       "      <td>128</td>\n",
       "      <td>0.630026</td>\n",
       "      <td>1</td>\n",
       "      <td>176</td>\n",
       "      <td>0.001662</td>\n",
       "      <td>20000</td>\n",
       "      <td>0.310548</td>\n",
       "      <td>0.76684</td>\n",
       "      <td>0.73092</td>\n",
       "      <td>0.532583</td>\n",
       "      <td>0.479070</td>\n",
       "    </tr>\n",
       "    <tr>\n",
       "      <th>2</th>\n",
       "      <td>2</td>\n",
       "      <td>INTERMEDIATE</td>\n",
       "      <td>0</td>\n",
       "      <td>128</td>\n",
       "      <td>0.630026</td>\n",
       "      <td>1</td>\n",
       "      <td>176</td>\n",
       "      <td>0.001662</td>\n",
       "      <td>20000</td>\n",
       "      <td>0.310548</td>\n",
       "      <td>0.78636</td>\n",
       "      <td>0.73116</td>\n",
       "      <td>0.534804</td>\n",
       "      <td>0.457844</td>\n",
       "    </tr>\n",
       "    <tr>\n",
       "      <th>3</th>\n",
       "      <td>1</td>\n",
       "      <td>INTERMEDIATE</td>\n",
       "      <td>1</td>\n",
       "      <td>128</td>\n",
       "      <td>0.630026</td>\n",
       "      <td>1</td>\n",
       "      <td>176</td>\n",
       "      <td>0.001662</td>\n",
       "      <td>20000</td>\n",
       "      <td>0.310548</td>\n",
       "      <td>0.83864</td>\n",
       "      <td>0.83608</td>\n",
       "      <td>0.381884</td>\n",
       "      <td>0.383688</td>\n",
       "    </tr>\n",
       "    <tr>\n",
       "      <th>4</th>\n",
       "      <td>3</td>\n",
       "      <td>INTERMEDIATE</td>\n",
       "      <td>1</td>\n",
       "      <td>128</td>\n",
       "      <td>0.630026</td>\n",
       "      <td>1</td>\n",
       "      <td>176</td>\n",
       "      <td>0.001662</td>\n",
       "      <td>20000</td>\n",
       "      <td>0.310548</td>\n",
       "      <td>0.84116</td>\n",
       "      <td>0.83688</td>\n",
       "      <td>0.377870</td>\n",
       "      <td>0.365818</td>\n",
       "    </tr>\n",
       "  </tbody>\n",
       "</table>\n",
       "</div>"
      ],
      "text/plain": [
       "   Trial-ID        Status  Iteration  batch_size   dropout  gpu  hidden_dim  \\\n",
       "0         1  INTERMEDIATE          0         128  0.630026    1         176   \n",
       "1         3  INTERMEDIATE          0         128  0.630026    1         176   \n",
       "2         2  INTERMEDIATE          0         128  0.630026    1         176   \n",
       "3         1  INTERMEDIATE          1         128  0.630026    1         176   \n",
       "4         3  INTERMEDIATE          1         128  0.630026    1         176   \n",
       "\n",
       "         lr  max_features  recurrent_dropout  Objective      acc      loss  \\\n",
       "0  0.001662         20000           0.310548    0.79752  0.73108  0.535280   \n",
       "1  0.001662         20000           0.310548    0.76684  0.73092  0.532583   \n",
       "2  0.001662         20000           0.310548    0.78636  0.73116  0.534804   \n",
       "3  0.001662         20000           0.310548    0.83864  0.83608  0.381884   \n",
       "4  0.001662         20000           0.310548    0.84116  0.83688  0.377870   \n",
       "\n",
       "   val_loss  \n",
       "0  0.445803  \n",
       "1  0.479070  \n",
       "2  0.457844  \n",
       "3  0.383688  \n",
       "4  0.365818  "
      ]
     },
     "execution_count": 6,
     "metadata": {},
     "output_type": "execute_result"
    }
   ],
   "source": [
    "imdb0.head()"
   ]
  },
  {
   "cell_type": "code",
   "execution_count": 7,
   "metadata": {},
   "outputs": [
    {
     "data": {
      "text/html": [
       "<div>\n",
       "<style scoped>\n",
       "    .dataframe tbody tr th:only-of-type {\n",
       "        vertical-align: middle;\n",
       "    }\n",
       "\n",
       "    .dataframe tbody tr th {\n",
       "        vertical-align: top;\n",
       "    }\n",
       "\n",
       "    .dataframe thead th {\n",
       "        text-align: right;\n",
       "    }\n",
       "</style>\n",
       "<table border=\"1\" class=\"dataframe\">\n",
       "  <thead>\n",
       "    <tr style=\"text-align: right;\">\n",
       "      <th></th>\n",
       "      <th>Trial-ID</th>\n",
       "      <th>Status</th>\n",
       "      <th>Iteration</th>\n",
       "      <th>batch_size</th>\n",
       "      <th>dropout</th>\n",
       "      <th>gpu</th>\n",
       "      <th>hidden_dim</th>\n",
       "      <th>lr</th>\n",
       "      <th>max_features</th>\n",
       "      <th>recurrent_dropout</th>\n",
       "      <th>Objective</th>\n",
       "      <th>acc</th>\n",
       "      <th>loss</th>\n",
       "      <th>val_loss</th>\n",
       "    </tr>\n",
       "  </thead>\n",
       "  <tbody>\n",
       "    <tr>\n",
       "      <th>0</th>\n",
       "      <td>3</td>\n",
       "      <td>INTERMEDIATE</td>\n",
       "      <td>0</td>\n",
       "      <td>128</td>\n",
       "      <td>0.185486</td>\n",
       "      <td>2</td>\n",
       "      <td>198</td>\n",
       "      <td>0.004934</td>\n",
       "      <td>20000</td>\n",
       "      <td>0.242921</td>\n",
       "      <td>0.80156</td>\n",
       "      <td>0.69760</td>\n",
       "      <td>0.574149</td>\n",
       "      <td>0.428400</td>\n",
       "    </tr>\n",
       "    <tr>\n",
       "      <th>1</th>\n",
       "      <td>2</td>\n",
       "      <td>INTERMEDIATE</td>\n",
       "      <td>0</td>\n",
       "      <td>128</td>\n",
       "      <td>0.185486</td>\n",
       "      <td>2</td>\n",
       "      <td>198</td>\n",
       "      <td>0.004934</td>\n",
       "      <td>20000</td>\n",
       "      <td>0.242921</td>\n",
       "      <td>0.65612</td>\n",
       "      <td>0.71100</td>\n",
       "      <td>0.560769</td>\n",
       "      <td>0.865297</td>\n",
       "    </tr>\n",
       "    <tr>\n",
       "      <th>2</th>\n",
       "      <td>1</td>\n",
       "      <td>INTERMEDIATE</td>\n",
       "      <td>0</td>\n",
       "      <td>128</td>\n",
       "      <td>0.185486</td>\n",
       "      <td>2</td>\n",
       "      <td>198</td>\n",
       "      <td>0.004934</td>\n",
       "      <td>20000</td>\n",
       "      <td>0.242921</td>\n",
       "      <td>0.72676</td>\n",
       "      <td>0.69312</td>\n",
       "      <td>0.569137</td>\n",
       "      <td>0.576050</td>\n",
       "    </tr>\n",
       "    <tr>\n",
       "      <th>3</th>\n",
       "      <td>3</td>\n",
       "      <td>INTERMEDIATE</td>\n",
       "      <td>1</td>\n",
       "      <td>128</td>\n",
       "      <td>0.185486</td>\n",
       "      <td>2</td>\n",
       "      <td>198</td>\n",
       "      <td>0.004934</td>\n",
       "      <td>20000</td>\n",
       "      <td>0.242921</td>\n",
       "      <td>0.85024</td>\n",
       "      <td>0.86480</td>\n",
       "      <td>0.318536</td>\n",
       "      <td>0.339944</td>\n",
       "    </tr>\n",
       "    <tr>\n",
       "      <th>4</th>\n",
       "      <td>2</td>\n",
       "      <td>INTERMEDIATE</td>\n",
       "      <td>1</td>\n",
       "      <td>128</td>\n",
       "      <td>0.185486</td>\n",
       "      <td>2</td>\n",
       "      <td>198</td>\n",
       "      <td>0.004934</td>\n",
       "      <td>20000</td>\n",
       "      <td>0.242921</td>\n",
       "      <td>0.84464</td>\n",
       "      <td>0.86124</td>\n",
       "      <td>0.328870</td>\n",
       "      <td>0.348360</td>\n",
       "    </tr>\n",
       "  </tbody>\n",
       "</table>\n",
       "</div>"
      ],
      "text/plain": [
       "   Trial-ID        Status  Iteration  batch_size   dropout  gpu  hidden_dim  \\\n",
       "0         3  INTERMEDIATE          0         128  0.185486    2         198   \n",
       "1         2  INTERMEDIATE          0         128  0.185486    2         198   \n",
       "2         1  INTERMEDIATE          0         128  0.185486    2         198   \n",
       "3         3  INTERMEDIATE          1         128  0.185486    2         198   \n",
       "4         2  INTERMEDIATE          1         128  0.185486    2         198   \n",
       "\n",
       "         lr  max_features  recurrent_dropout  Objective      acc      loss  \\\n",
       "0  0.004934         20000           0.242921    0.80156  0.69760  0.574149   \n",
       "1  0.004934         20000           0.242921    0.65612  0.71100  0.560769   \n",
       "2  0.004934         20000           0.242921    0.72676  0.69312  0.569137   \n",
       "3  0.004934         20000           0.242921    0.85024  0.86480  0.318536   \n",
       "4  0.004934         20000           0.242921    0.84464  0.86124  0.328870   \n",
       "\n",
       "   val_loss  \n",
       "0  0.428400  \n",
       "1  0.865297  \n",
       "2  0.576050  \n",
       "3  0.339944  \n",
       "4  0.348360  "
      ]
     },
     "execution_count": 7,
     "metadata": {},
     "output_type": "execute_result"
    }
   ],
   "source": [
    "imdb1.head()"
   ]
  },
  {
   "cell_type": "code",
   "execution_count": 21,
   "metadata": {
    "collapsed": true
   },
   "outputs": [],
   "source": [
    "imdb1.loc[:, 'Trial-ID'] = imdb1.loc[:, 'Trial-ID'] + imdb0['Trial-ID'].max()\n",
    "imdb2.loc[:, 'Trial-ID'] = imdb2.loc[:, 'Trial-ID'] + imdb1['Trial-ID'].max()\n",
    "imdb3.loc[:, 'Trial-ID'] = imdb3.loc[:, 'Trial-ID'] + imdb2['Trial-ID'].max()\n",
    "imdb4.loc[:, 'Trial-ID'] = imdb4.loc[:, 'Trial-ID'] + imdb3['Trial-ID'].max()\n",
    "imdb5.loc[:, 'Trial-ID'] = imdb5.loc[:, 'Trial-ID'] + imdb4['Trial-ID'].max()\n",
    "imdb6.loc[:, 'Trial-ID'] = imdb6.loc[:, 'Trial-ID'] + imdb5['Trial-ID'].max()\n",
    "imdb7.loc[:, 'Trial-ID'] = imdb7.loc[:, 'Trial-ID'] + imdb6['Trial-ID'].max()"
   ]
  },
  {
   "cell_type": "code",
   "execution_count": 22,
   "metadata": {
    "collapsed": true
   },
   "outputs": [],
   "source": [
    "imdbnew = pd.concat([imdb0, imdb1, imdb2, imdb3, imdb4, imdb5, imdb6, imdb7])"
   ]
  },
  {
   "cell_type": "code",
   "execution_count": 26,
   "metadata": {
    "collapsed": true
   },
   "outputs": [],
   "source": [
    "imdbnew.to_csv(\"training-curves/imdb_complete.csv\", index=False)"
   ]
  },
  {
   "cell_type": "markdown",
   "metadata": {},
   "source": [
    "# IMDB CuDNN"
   ]
  },
  {
   "cell_type": "code",
   "execution_count": 3,
   "metadata": {},
   "outputs": [],
   "source": [
    "cudnnimdb = [pd.read_csv(\"./imdblstm/imdb_cudnn_{}.csv\".format(i)) for i in range(1,6)]"
   ]
  },
  {
   "cell_type": "code",
   "execution_count": 4,
   "metadata": {
    "collapsed": true
   },
   "outputs": [],
   "source": [
    "for i in range(1,5):\n",
    "    cudnnimdb[i].loc[:, 'Trial-ID'] = cudnnimdb[i].loc[:, 'Trial-ID'] + cudnnimdb[i-1]['Trial-ID'].max()"
   ]
  },
  {
   "cell_type": "code",
   "execution_count": 5,
   "metadata": {
    "collapsed": true
   },
   "outputs": [],
   "source": [
    "cudnnimdb_merged = pd.concat(cudnnimdb)"
   ]
  },
  {
   "cell_type": "code",
   "execution_count": 6,
   "metadata": {},
   "outputs": [
    {
     "data": {
      "text/plain": [
       "16209"
      ]
     },
     "execution_count": 6,
     "metadata": {},
     "output_type": "execute_result"
    }
   ],
   "source": [
    "cudnnimdb_merged['Trial-ID'].max()"
   ]
  },
  {
   "cell_type": "code",
   "execution_count": 7,
   "metadata": {
    "collapsed": true
   },
   "outputs": [],
   "source": [
    "cudnnimdb_completed = cudnnimdb_merged.query(\"Status == 'COMPLETED'\").sort_values(by=\"Trial-ID\").drop(['Status', 'Iteration', 'test_acc'], axis=1)"
   ]
  },
  {
   "cell_type": "code",
   "execution_count": 8,
   "metadata": {},
   "outputs": [
    {
     "data": {
      "text/plain": [
       "97"
      ]
     },
     "execution_count": 8,
     "metadata": {},
     "output_type": "execute_result"
    }
   ],
   "source": [
    "(cudnnimdb_completed.groupby('dropout_embedding').agg('count').loc[:,'Trial-ID'] != 25).sum()"
   ]
  },
  {
   "cell_type": "code",
   "execution_count": 9,
   "metadata": {},
   "outputs": [
    {
     "data": {
      "text/plain": [
       "651"
      ]
     },
     "execution_count": 9,
     "metadata": {},
     "output_type": "execute_result"
    }
   ],
   "source": [
    "len(cudnnimdb_completed.groupby('dropout_embedding').agg('count').loc[:,'Trial-ID'])"
   ]
  },
  {
   "cell_type": "code",
   "execution_count": 10,
   "metadata": {},
   "outputs": [],
   "source": [
    "cudnnimdb_final = pd.merge(cudnnimdb_completed, cudnnimdb_merged.loc[cudnnimdb_merged.test_acc.notnull(),['Trial-ID', 'test_acc']], on=['Trial-ID'] )"
   ]
  },
  {
   "cell_type": "code",
   "execution_count": 11,
   "metadata": {},
   "outputs": [
    {
     "data": {
      "text/html": [
       "<div>\n",
       "<style scoped>\n",
       "    .dataframe tbody tr th:only-of-type {\n",
       "        vertical-align: middle;\n",
       "    }\n",
       "\n",
       "    .dataframe tbody tr th {\n",
       "        vertical-align: top;\n",
       "    }\n",
       "\n",
       "    .dataframe thead th {\n",
       "        text-align: right;\n",
       "    }\n",
       "</style>\n",
       "<table border=\"1\" class=\"dataframe\">\n",
       "  <thead>\n",
       "    <tr style=\"text-align: right;\">\n",
       "      <th></th>\n",
       "      <th>Objective</th>\n",
       "      <th>Trial-ID</th>\n",
       "      <th>acc</th>\n",
       "      <th>batch_size</th>\n",
       "      <th>decay</th>\n",
       "      <th>dropout_embedding</th>\n",
       "      <th>dropout_lstm</th>\n",
       "      <th>embedding_regularizer</th>\n",
       "      <th>hidden_dim</th>\n",
       "      <th>kernel_regularizer</th>\n",
       "      <th>loss</th>\n",
       "      <th>lr</th>\n",
       "      <th>max_features</th>\n",
       "      <th>recurrent_regularizer</th>\n",
       "      <th>rho</th>\n",
       "      <th>val_loss</th>\n",
       "      <th>test_acc</th>\n",
       "    </tr>\n",
       "  </thead>\n",
       "  <tbody>\n",
       "    <tr>\n",
       "      <th>0</th>\n",
       "      <td>0.8016</td>\n",
       "      <td>1</td>\n",
       "      <td>0.79570</td>\n",
       "      <td>16</td>\n",
       "      <td>3.318116e-08</td>\n",
       "      <td>0.40268</td>\n",
       "      <td>0.09012</td>\n",
       "      <td>4.542953e-09</td>\n",
       "      <td>199</td>\n",
       "      <td>0.120845</td>\n",
       "      <td>0.480063</td>\n",
       "      <td>0.001411</td>\n",
       "      <td>38897</td>\n",
       "      <td>0.0371</td>\n",
       "      <td>0.870638</td>\n",
       "      <td>0.455114</td>\n",
       "      <td>0.80508</td>\n",
       "    </tr>\n",
       "    <tr>\n",
       "      <th>1</th>\n",
       "      <td>0.8272</td>\n",
       "      <td>2</td>\n",
       "      <td>0.84190</td>\n",
       "      <td>16</td>\n",
       "      <td>3.318116e-08</td>\n",
       "      <td>0.40268</td>\n",
       "      <td>0.09012</td>\n",
       "      <td>4.542953e-09</td>\n",
       "      <td>199</td>\n",
       "      <td>0.120845</td>\n",
       "      <td>0.407657</td>\n",
       "      <td>0.001411</td>\n",
       "      <td>38897</td>\n",
       "      <td>0.0371</td>\n",
       "      <td>0.870638</td>\n",
       "      <td>0.431528</td>\n",
       "      <td>0.83320</td>\n",
       "    </tr>\n",
       "    <tr>\n",
       "      <th>2</th>\n",
       "      <td>0.8276</td>\n",
       "      <td>3</td>\n",
       "      <td>0.84095</td>\n",
       "      <td>16</td>\n",
       "      <td>3.318116e-08</td>\n",
       "      <td>0.40268</td>\n",
       "      <td>0.09012</td>\n",
       "      <td>4.542953e-09</td>\n",
       "      <td>199</td>\n",
       "      <td>0.120845</td>\n",
       "      <td>0.408343</td>\n",
       "      <td>0.001411</td>\n",
       "      <td>38897</td>\n",
       "      <td>0.0371</td>\n",
       "      <td>0.870638</td>\n",
       "      <td>0.426137</td>\n",
       "      <td>0.83412</td>\n",
       "    </tr>\n",
       "    <tr>\n",
       "      <th>3</th>\n",
       "      <td>0.8276</td>\n",
       "      <td>4</td>\n",
       "      <td>0.84295</td>\n",
       "      <td>16</td>\n",
       "      <td>3.318116e-08</td>\n",
       "      <td>0.40268</td>\n",
       "      <td>0.09012</td>\n",
       "      <td>4.542953e-09</td>\n",
       "      <td>199</td>\n",
       "      <td>0.120845</td>\n",
       "      <td>0.407736</td>\n",
       "      <td>0.001411</td>\n",
       "      <td>38897</td>\n",
       "      <td>0.0371</td>\n",
       "      <td>0.870638</td>\n",
       "      <td>0.431300</td>\n",
       "      <td>0.83392</td>\n",
       "    </tr>\n",
       "    <tr>\n",
       "      <th>4</th>\n",
       "      <td>0.8280</td>\n",
       "      <td>5</td>\n",
       "      <td>0.84005</td>\n",
       "      <td>16</td>\n",
       "      <td>3.318116e-08</td>\n",
       "      <td>0.40268</td>\n",
       "      <td>0.09012</td>\n",
       "      <td>4.542953e-09</td>\n",
       "      <td>199</td>\n",
       "      <td>0.120845</td>\n",
       "      <td>0.408263</td>\n",
       "      <td>0.001411</td>\n",
       "      <td>38897</td>\n",
       "      <td>0.0371</td>\n",
       "      <td>0.870638</td>\n",
       "      <td>0.426169</td>\n",
       "      <td>0.83412</td>\n",
       "    </tr>\n",
       "  </tbody>\n",
       "</table>\n",
       "</div>"
      ],
      "text/plain": [
       "   Objective  Trial-ID      acc  batch_size         decay  dropout_embedding  \\\n",
       "0     0.8016         1  0.79570          16  3.318116e-08            0.40268   \n",
       "1     0.8272         2  0.84190          16  3.318116e-08            0.40268   \n",
       "2     0.8276         3  0.84095          16  3.318116e-08            0.40268   \n",
       "3     0.8276         4  0.84295          16  3.318116e-08            0.40268   \n",
       "4     0.8280         5  0.84005          16  3.318116e-08            0.40268   \n",
       "\n",
       "   dropout_lstm  embedding_regularizer  hidden_dim  kernel_regularizer  \\\n",
       "0       0.09012           4.542953e-09         199            0.120845   \n",
       "1       0.09012           4.542953e-09         199            0.120845   \n",
       "2       0.09012           4.542953e-09         199            0.120845   \n",
       "3       0.09012           4.542953e-09         199            0.120845   \n",
       "4       0.09012           4.542953e-09         199            0.120845   \n",
       "\n",
       "       loss        lr  max_features  recurrent_regularizer       rho  \\\n",
       "0  0.480063  0.001411         38897                 0.0371  0.870638   \n",
       "1  0.407657  0.001411         38897                 0.0371  0.870638   \n",
       "2  0.408343  0.001411         38897                 0.0371  0.870638   \n",
       "3  0.407736  0.001411         38897                 0.0371  0.870638   \n",
       "4  0.408263  0.001411         38897                 0.0371  0.870638   \n",
       "\n",
       "   val_loss  test_acc  \n",
       "0  0.455114   0.80508  \n",
       "1  0.431528   0.83320  \n",
       "2  0.426137   0.83412  \n",
       "3  0.431300   0.83392  \n",
       "4  0.426169   0.83412  "
      ]
     },
     "execution_count": 11,
     "metadata": {},
     "output_type": "execute_result"
    }
   ],
   "source": [
    "cudnnimdb_final.head()"
   ]
  },
  {
   "cell_type": "code",
   "execution_count": 12,
   "metadata": {
    "collapsed": true
   },
   "outputs": [],
   "source": [
    "cudnnimdb_final.to_csv(\"imdblstm/imdb_results.csv\", index=False)"
   ]
  },
  {
   "cell_type": "markdown",
   "metadata": {},
   "source": [
    "# IMDB CuDNN Shuffle"
   ]
  },
  {
   "cell_type": "code",
   "execution_count": 28,
   "metadata": {
    "collapsed": true
   },
   "outputs": [],
   "source": [
    "cudnnimdb = [pd.read_csv(\"./imdblstm/imdb-shuffle-{}.csv\".format(i)) for i in range(0,6)]"
   ]
  },
  {
   "cell_type": "code",
   "execution_count": 29,
   "metadata": {},
   "outputs": [
    {
     "name": "stdout",
     "output_type": "stream",
     "text": [
      "3\n"
     ]
    }
   ],
   "source": [
    "for i in range(1,6):\n",
    "    cudnnimdb[i].loc[:, 'Trial-ID'] = cudnnimdb[i].loc[:, 'Trial-ID'] + cudnnimdb[i-1]['Trial-ID'].max()"
   ]
  },
  {
   "cell_type": "code",
   "execution_count": 30,
   "metadata": {
    "collapsed": true
   },
   "outputs": [],
   "source": [
    "cudnnimdb_merged = pd.concat(cudnnimdb)"
   ]
  },
  {
   "cell_type": "code",
   "execution_count": 31,
   "metadata": {},
   "outputs": [
    {
     "data": {
      "text/plain": [
       "13470"
      ]
     },
     "execution_count": 31,
     "metadata": {},
     "output_type": "execute_result"
    }
   ],
   "source": [
    "cudnnimdb_merged['Trial-ID'].max()"
   ]
  },
  {
   "cell_type": "code",
   "execution_count": 50,
   "metadata": {
    "collapsed": true
   },
   "outputs": [],
   "source": [
    "cudnnimdb_completed = cudnnimdb_merged.query(\"Status == 'COMPLETED'\").sort_values(by=\"Trial-ID\").drop(['Status', 'Iteration'], axis=1)"
   ]
  },
  {
   "cell_type": "code",
   "execution_count": 53,
   "metadata": {
    "collapsed": true
   },
   "outputs": [],
   "source": [
    "cudnnimdb_completed.to_csv(\"imdblstm/imdb_results_shuffled.csv\", index=False)"
   ]
  },
  {
   "cell_type": "code",
   "execution_count": 58,
   "metadata": {},
   "outputs": [
    {
     "data": {
      "text/plain": [
       "6"
      ]
     },
     "execution_count": 58,
     "metadata": {},
     "output_type": "execute_result"
    }
   ],
   "source": [
    "(cudnnimdb_completed.groupby('dropout_embedding').agg('count').loc[:,'Trial-ID'] != 25).sum()"
   ]
  },
  {
   "cell_type": "code",
   "execution_count": 59,
   "metadata": {},
   "outputs": [
    {
     "data": {
      "text/plain": [
       "539"
      ]
     },
     "execution_count": 59,
     "metadata": {},
     "output_type": "execute_result"
    }
   ],
   "source": [
    "len(cudnnimdb_completed.groupby('dropout_embedding').agg('count').loc[:,'Trial-ID'])"
   ]
  },
  {
   "cell_type": "markdown",
   "metadata": {},
   "source": [
    "# MNIST"
   ]
  },
  {
   "cell_type": "code",
   "execution_count": 13,
   "metadata": {
    "collapsed": true
   },
   "outputs": [],
   "source": [
    "mnist0 = pd.read_csv(\"./mnistcnn/results0.csv\")\n",
    "mnist1 = pd.read_csv(\"./mnistcnn/results1.csv\")\n",
    "mnist2 = pd.read_csv(\"./mnistcnn/results2.csv\")\n",
    "mnist3 = pd.read_csv(\"./mnistcnn/results3.csv\")\n",
    "mnist4 = pd.read_csv(\"./mnistcnn/results4.csv\")"
   ]
  },
  {
   "cell_type": "code",
   "execution_count": 14,
   "metadata": {},
   "outputs": [
    {
     "data": {
      "text/html": [
       "<div>\n",
       "<style scoped>\n",
       "    .dataframe tbody tr th:only-of-type {\n",
       "        vertical-align: middle;\n",
       "    }\n",
       "\n",
       "    .dataframe tbody tr th {\n",
       "        vertical-align: top;\n",
       "    }\n",
       "\n",
       "    .dataframe thead th {\n",
       "        text-align: right;\n",
       "    }\n",
       "</style>\n",
       "<table border=\"1\" class=\"dataframe\">\n",
       "  <thead>\n",
       "    <tr style=\"text-align: right;\">\n",
       "      <th></th>\n",
       "      <th>Trial-ID</th>\n",
       "      <th>Status</th>\n",
       "      <th>Iteration</th>\n",
       "      <th>dropout</th>\n",
       "      <th>lr</th>\n",
       "      <th>lr_decay</th>\n",
       "      <th>top_dropout</th>\n",
       "      <th>Objective</th>\n",
       "      <th>test_loss</th>\n",
       "    </tr>\n",
       "  </thead>\n",
       "  <tbody>\n",
       "    <tr>\n",
       "      <th>0</th>\n",
       "      <td>9</td>\n",
       "      <td>INTERMEDIATE</td>\n",
       "      <td>15</td>\n",
       "      <td>0.098702</td>\n",
       "      <td>0.042292</td>\n",
       "      <td>2.376943e-08</td>\n",
       "      <td>0.131907</td>\n",
       "      <td>0.044594</td>\n",
       "      <td>0.039489</td>\n",
       "    </tr>\n",
       "    <tr>\n",
       "      <th>1</th>\n",
       "      <td>3</td>\n",
       "      <td>INTERMEDIATE</td>\n",
       "      <td>15</td>\n",
       "      <td>0.098702</td>\n",
       "      <td>0.042292</td>\n",
       "      <td>2.376943e-08</td>\n",
       "      <td>0.131907</td>\n",
       "      <td>0.043856</td>\n",
       "      <td>0.040495</td>\n",
       "    </tr>\n",
       "    <tr>\n",
       "      <th>2</th>\n",
       "      <td>6</td>\n",
       "      <td>INTERMEDIATE</td>\n",
       "      <td>15</td>\n",
       "      <td>0.098702</td>\n",
       "      <td>0.042292</td>\n",
       "      <td>2.376943e-08</td>\n",
       "      <td>0.131907</td>\n",
       "      <td>0.048140</td>\n",
       "      <td>0.039094</td>\n",
       "    </tr>\n",
       "    <tr>\n",
       "      <th>3</th>\n",
       "      <td>9</td>\n",
       "      <td>COMPLETED</td>\n",
       "      <td>15</td>\n",
       "      <td>0.098702</td>\n",
       "      <td>0.042292</td>\n",
       "      <td>2.376943e-08</td>\n",
       "      <td>0.131907</td>\n",
       "      <td>0.044594</td>\n",
       "      <td>0.039489</td>\n",
       "    </tr>\n",
       "    <tr>\n",
       "      <th>4</th>\n",
       "      <td>6</td>\n",
       "      <td>COMPLETED</td>\n",
       "      <td>15</td>\n",
       "      <td>0.098702</td>\n",
       "      <td>0.042292</td>\n",
       "      <td>2.376943e-08</td>\n",
       "      <td>0.131907</td>\n",
       "      <td>0.048140</td>\n",
       "      <td>0.039094</td>\n",
       "    </tr>\n",
       "  </tbody>\n",
       "</table>\n",
       "</div>"
      ],
      "text/plain": [
       "   Trial-ID        Status  Iteration   dropout        lr      lr_decay  \\\n",
       "0         9  INTERMEDIATE         15  0.098702  0.042292  2.376943e-08   \n",
       "1         3  INTERMEDIATE         15  0.098702  0.042292  2.376943e-08   \n",
       "2         6  INTERMEDIATE         15  0.098702  0.042292  2.376943e-08   \n",
       "3         9     COMPLETED         15  0.098702  0.042292  2.376943e-08   \n",
       "4         6     COMPLETED         15  0.098702  0.042292  2.376943e-08   \n",
       "\n",
       "   top_dropout  Objective  test_loss  \n",
       "0     0.131907   0.044594   0.039489  \n",
       "1     0.131907   0.043856   0.040495  \n",
       "2     0.131907   0.048140   0.039094  \n",
       "3     0.131907   0.044594   0.039489  \n",
       "4     0.131907   0.048140   0.039094  "
      ]
     },
     "execution_count": 14,
     "metadata": {},
     "output_type": "execute_result"
    }
   ],
   "source": [
    "mnist0.head()"
   ]
  },
  {
   "cell_type": "code",
   "execution_count": 6,
   "metadata": {},
   "outputs": [
    {
     "data": {
      "text/html": [
       "<div>\n",
       "<style scoped>\n",
       "    .dataframe tbody tr th:only-of-type {\n",
       "        vertical-align: middle;\n",
       "    }\n",
       "\n",
       "    .dataframe tbody tr th {\n",
       "        vertical-align: top;\n",
       "    }\n",
       "\n",
       "    .dataframe thead th {\n",
       "        text-align: right;\n",
       "    }\n",
       "</style>\n",
       "<table border=\"1\" class=\"dataframe\">\n",
       "  <thead>\n",
       "    <tr style=\"text-align: right;\">\n",
       "      <th></th>\n",
       "      <th>Trial-ID</th>\n",
       "      <th>Status</th>\n",
       "      <th>Iteration</th>\n",
       "      <th>dropout</th>\n",
       "      <th>lr</th>\n",
       "      <th>lr_decay</th>\n",
       "      <th>top_dropout</th>\n",
       "      <th>Objective</th>\n",
       "      <th>test_loss</th>\n",
       "    </tr>\n",
       "  </thead>\n",
       "  <tbody>\n",
       "    <tr>\n",
       "      <th>0</th>\n",
       "      <td>1</td>\n",
       "      <td>INTERMEDIATE</td>\n",
       "      <td>15</td>\n",
       "      <td>0.455228</td>\n",
       "      <td>0.020329</td>\n",
       "      <td>0.000011</td>\n",
       "      <td>0.307316</td>\n",
       "      <td>0.036981</td>\n",
       "      <td>0.031062</td>\n",
       "    </tr>\n",
       "    <tr>\n",
       "      <th>1</th>\n",
       "      <td>7</td>\n",
       "      <td>INTERMEDIATE</td>\n",
       "      <td>15</td>\n",
       "      <td>0.455228</td>\n",
       "      <td>0.020329</td>\n",
       "      <td>0.000011</td>\n",
       "      <td>0.307316</td>\n",
       "      <td>0.042388</td>\n",
       "      <td>0.033308</td>\n",
       "    </tr>\n",
       "    <tr>\n",
       "      <th>2</th>\n",
       "      <td>4</td>\n",
       "      <td>INTERMEDIATE</td>\n",
       "      <td>15</td>\n",
       "      <td>0.455228</td>\n",
       "      <td>0.020329</td>\n",
       "      <td>0.000011</td>\n",
       "      <td>0.307316</td>\n",
       "      <td>0.037627</td>\n",
       "      <td>0.031520</td>\n",
       "    </tr>\n",
       "    <tr>\n",
       "      <th>3</th>\n",
       "      <td>9</td>\n",
       "      <td>INTERMEDIATE</td>\n",
       "      <td>15</td>\n",
       "      <td>0.455228</td>\n",
       "      <td>0.020329</td>\n",
       "      <td>0.000011</td>\n",
       "      <td>0.307316</td>\n",
       "      <td>0.038914</td>\n",
       "      <td>0.033915</td>\n",
       "    </tr>\n",
       "    <tr>\n",
       "      <th>4</th>\n",
       "      <td>3</td>\n",
       "      <td>INTERMEDIATE</td>\n",
       "      <td>15</td>\n",
       "      <td>0.455228</td>\n",
       "      <td>0.020329</td>\n",
       "      <td>0.000011</td>\n",
       "      <td>0.307316</td>\n",
       "      <td>0.037050</td>\n",
       "      <td>0.033154</td>\n",
       "    </tr>\n",
       "  </tbody>\n",
       "</table>\n",
       "</div>"
      ],
      "text/plain": [
       "   Trial-ID        Status  Iteration   dropout        lr  lr_decay  \\\n",
       "0         1  INTERMEDIATE         15  0.455228  0.020329  0.000011   \n",
       "1         7  INTERMEDIATE         15  0.455228  0.020329  0.000011   \n",
       "2         4  INTERMEDIATE         15  0.455228  0.020329  0.000011   \n",
       "3         9  INTERMEDIATE         15  0.455228  0.020329  0.000011   \n",
       "4         3  INTERMEDIATE         15  0.455228  0.020329  0.000011   \n",
       "\n",
       "   top_dropout  Objective  test_loss  \n",
       "0     0.307316   0.036981   0.031062  \n",
       "1     0.307316   0.042388   0.033308  \n",
       "2     0.307316   0.037627   0.031520  \n",
       "3     0.307316   0.038914   0.033915  \n",
       "4     0.307316   0.037050   0.033154  "
      ]
     },
     "execution_count": 6,
     "metadata": {},
     "output_type": "execute_result"
    }
   ],
   "source": [
    "mnist1.head()"
   ]
  },
  {
   "cell_type": "code",
   "execution_count": 7,
   "metadata": {},
   "outputs": [
    {
     "data": {
      "text/html": [
       "<div>\n",
       "<style scoped>\n",
       "    .dataframe tbody tr th:only-of-type {\n",
       "        vertical-align: middle;\n",
       "    }\n",
       "\n",
       "    .dataframe tbody tr th {\n",
       "        vertical-align: top;\n",
       "    }\n",
       "\n",
       "    .dataframe thead th {\n",
       "        text-align: right;\n",
       "    }\n",
       "</style>\n",
       "<table border=\"1\" class=\"dataframe\">\n",
       "  <thead>\n",
       "    <tr style=\"text-align: right;\">\n",
       "      <th></th>\n",
       "      <th>Trial-ID</th>\n",
       "      <th>Status</th>\n",
       "      <th>Iteration</th>\n",
       "      <th>dropout</th>\n",
       "      <th>lr</th>\n",
       "      <th>lr_decay</th>\n",
       "      <th>top_dropout</th>\n",
       "      <th>Objective</th>\n",
       "      <th>test_loss</th>\n",
       "    </tr>\n",
       "  </thead>\n",
       "  <tbody>\n",
       "    <tr>\n",
       "      <th>0</th>\n",
       "      <td>4</td>\n",
       "      <td>INTERMEDIATE</td>\n",
       "      <td>15</td>\n",
       "      <td>0.049809</td>\n",
       "      <td>0.007612</td>\n",
       "      <td>0.000011</td>\n",
       "      <td>0.424734</td>\n",
       "      <td>0.077693</td>\n",
       "      <td>0.062142</td>\n",
       "    </tr>\n",
       "    <tr>\n",
       "      <th>1</th>\n",
       "      <td>6</td>\n",
       "      <td>INTERMEDIATE</td>\n",
       "      <td>15</td>\n",
       "      <td>0.049809</td>\n",
       "      <td>0.007612</td>\n",
       "      <td>0.000011</td>\n",
       "      <td>0.424734</td>\n",
       "      <td>0.069594</td>\n",
       "      <td>0.062726</td>\n",
       "    </tr>\n",
       "    <tr>\n",
       "      <th>2</th>\n",
       "      <td>2</td>\n",
       "      <td>INTERMEDIATE</td>\n",
       "      <td>15</td>\n",
       "      <td>0.049809</td>\n",
       "      <td>0.007612</td>\n",
       "      <td>0.000011</td>\n",
       "      <td>0.424734</td>\n",
       "      <td>0.060178</td>\n",
       "      <td>0.055121</td>\n",
       "    </tr>\n",
       "    <tr>\n",
       "      <th>3</th>\n",
       "      <td>3</td>\n",
       "      <td>INTERMEDIATE</td>\n",
       "      <td>15</td>\n",
       "      <td>0.049809</td>\n",
       "      <td>0.007612</td>\n",
       "      <td>0.000011</td>\n",
       "      <td>0.424734</td>\n",
       "      <td>0.059416</td>\n",
       "      <td>0.059143</td>\n",
       "    </tr>\n",
       "    <tr>\n",
       "      <th>4</th>\n",
       "      <td>5</td>\n",
       "      <td>INTERMEDIATE</td>\n",
       "      <td>15</td>\n",
       "      <td>0.049809</td>\n",
       "      <td>0.007612</td>\n",
       "      <td>0.000011</td>\n",
       "      <td>0.424734</td>\n",
       "      <td>0.056417</td>\n",
       "      <td>0.051852</td>\n",
       "    </tr>\n",
       "  </tbody>\n",
       "</table>\n",
       "</div>"
      ],
      "text/plain": [
       "   Trial-ID        Status  Iteration   dropout        lr  lr_decay  \\\n",
       "0         4  INTERMEDIATE         15  0.049809  0.007612  0.000011   \n",
       "1         6  INTERMEDIATE         15  0.049809  0.007612  0.000011   \n",
       "2         2  INTERMEDIATE         15  0.049809  0.007612  0.000011   \n",
       "3         3  INTERMEDIATE         15  0.049809  0.007612  0.000011   \n",
       "4         5  INTERMEDIATE         15  0.049809  0.007612  0.000011   \n",
       "\n",
       "   top_dropout  Objective  test_loss  \n",
       "0     0.424734   0.077693   0.062142  \n",
       "1     0.424734   0.069594   0.062726  \n",
       "2     0.424734   0.060178   0.055121  \n",
       "3     0.424734   0.059416   0.059143  \n",
       "4     0.424734   0.056417   0.051852  "
      ]
     },
     "execution_count": 7,
     "metadata": {},
     "output_type": "execute_result"
    }
   ],
   "source": [
    "mnist2.head()"
   ]
  },
  {
   "cell_type": "code",
   "execution_count": 8,
   "metadata": {},
   "outputs": [
    {
     "data": {
      "text/html": [
       "<div>\n",
       "<style scoped>\n",
       "    .dataframe tbody tr th:only-of-type {\n",
       "        vertical-align: middle;\n",
       "    }\n",
       "\n",
       "    .dataframe tbody tr th {\n",
       "        vertical-align: top;\n",
       "    }\n",
       "\n",
       "    .dataframe thead th {\n",
       "        text-align: right;\n",
       "    }\n",
       "</style>\n",
       "<table border=\"1\" class=\"dataframe\">\n",
       "  <thead>\n",
       "    <tr style=\"text-align: right;\">\n",
       "      <th></th>\n",
       "      <th>Trial-ID</th>\n",
       "      <th>Status</th>\n",
       "      <th>Iteration</th>\n",
       "      <th>dropout</th>\n",
       "      <th>lr</th>\n",
       "      <th>lr_decay</th>\n",
       "      <th>top_dropout</th>\n",
       "      <th>Objective</th>\n",
       "      <th>test_loss</th>\n",
       "    </tr>\n",
       "  </thead>\n",
       "  <tbody>\n",
       "    <tr>\n",
       "      <th>0</th>\n",
       "      <td>9</td>\n",
       "      <td>INTERMEDIATE</td>\n",
       "      <td>15</td>\n",
       "      <td>0.464728</td>\n",
       "      <td>0.002626</td>\n",
       "      <td>2.951939e-07</td>\n",
       "      <td>0.472051</td>\n",
       "      <td>0.114417</td>\n",
       "      <td>0.100752</td>\n",
       "    </tr>\n",
       "    <tr>\n",
       "      <th>1</th>\n",
       "      <td>3</td>\n",
       "      <td>INTERMEDIATE</td>\n",
       "      <td>15</td>\n",
       "      <td>0.464728</td>\n",
       "      <td>0.002626</td>\n",
       "      <td>2.951939e-07</td>\n",
       "      <td>0.472051</td>\n",
       "      <td>0.126462</td>\n",
       "      <td>0.115474</td>\n",
       "    </tr>\n",
       "    <tr>\n",
       "      <th>2</th>\n",
       "      <td>6</td>\n",
       "      <td>INTERMEDIATE</td>\n",
       "      <td>15</td>\n",
       "      <td>0.464728</td>\n",
       "      <td>0.002626</td>\n",
       "      <td>2.951939e-07</td>\n",
       "      <td>0.472051</td>\n",
       "      <td>0.123477</td>\n",
       "      <td>0.111836</td>\n",
       "    </tr>\n",
       "    <tr>\n",
       "      <th>3</th>\n",
       "      <td>9</td>\n",
       "      <td>COMPLETED</td>\n",
       "      <td>15</td>\n",
       "      <td>0.464728</td>\n",
       "      <td>0.002626</td>\n",
       "      <td>2.951939e-07</td>\n",
       "      <td>0.472051</td>\n",
       "      <td>0.114417</td>\n",
       "      <td>0.100752</td>\n",
       "    </tr>\n",
       "    <tr>\n",
       "      <th>4</th>\n",
       "      <td>6</td>\n",
       "      <td>COMPLETED</td>\n",
       "      <td>15</td>\n",
       "      <td>0.464728</td>\n",
       "      <td>0.002626</td>\n",
       "      <td>2.951939e-07</td>\n",
       "      <td>0.472051</td>\n",
       "      <td>0.123477</td>\n",
       "      <td>0.111836</td>\n",
       "    </tr>\n",
       "  </tbody>\n",
       "</table>\n",
       "</div>"
      ],
      "text/plain": [
       "   Trial-ID        Status  Iteration   dropout        lr      lr_decay  \\\n",
       "0         9  INTERMEDIATE         15  0.464728  0.002626  2.951939e-07   \n",
       "1         3  INTERMEDIATE         15  0.464728  0.002626  2.951939e-07   \n",
       "2         6  INTERMEDIATE         15  0.464728  0.002626  2.951939e-07   \n",
       "3         9     COMPLETED         15  0.464728  0.002626  2.951939e-07   \n",
       "4         6     COMPLETED         15  0.464728  0.002626  2.951939e-07   \n",
       "\n",
       "   top_dropout  Objective  test_loss  \n",
       "0     0.472051   0.114417   0.100752  \n",
       "1     0.472051   0.126462   0.115474  \n",
       "2     0.472051   0.123477   0.111836  \n",
       "3     0.472051   0.114417   0.100752  \n",
       "4     0.472051   0.123477   0.111836  "
      ]
     },
     "execution_count": 8,
     "metadata": {},
     "output_type": "execute_result"
    }
   ],
   "source": [
    "mnist3.head()"
   ]
  },
  {
   "cell_type": "code",
   "execution_count": 15,
   "metadata": {
    "collapsed": true
   },
   "outputs": [],
   "source": [
    "mnist1.loc[:, 'Trial-ID'] = mnist1.loc[:, 'Trial-ID'] + mnist0['Trial-ID'].max()\n",
    "mnist2.loc[:, 'Trial-ID'] = mnist2.loc[:, 'Trial-ID'] + mnist1['Trial-ID'].max()\n",
    "mnist3.loc[:, 'Trial-ID'] = mnist3.loc[:, 'Trial-ID'] + mnist2['Trial-ID'].max()\n",
    "mnist4.loc[:, 'Trial-ID'] = mnist4.loc[:, 'Trial-ID'] + mnist3['Trial-ID'].max()"
   ]
  },
  {
   "cell_type": "code",
   "execution_count": 16,
   "metadata": {
    "collapsed": true
   },
   "outputs": [],
   "source": [
    "mnistnew = pd.concat([mnist0, mnist1, mnist2, mnist3, mnist4])"
   ]
  },
  {
   "cell_type": "code",
   "execution_count": 17,
   "metadata": {
    "collapsed": true
   },
   "outputs": [],
   "source": [
    "mnistnew.query(\"Status == 'COMPLETED'\").to_csv(\"./mnistcnn/mnist_with_test_set_merged.csv\", index=False)"
   ]
  },
  {
   "cell_type": "markdown",
   "metadata": {},
   "source": [
    "# MNIST CNN Unshuffled"
   ]
  },
  {
   "cell_type": "code",
   "execution_count": 36,
   "metadata": {
    "collapsed": true
   },
   "outputs": [],
   "source": [
    "mnist_unshuffled = [pd.read_csv(\"./mnistcnn/mnistcnn-unshuffled-{}.csv\".format(i)) for i in range(6)]"
   ]
  },
  {
   "cell_type": "code",
   "execution_count": 37,
   "metadata": {
    "collapsed": true
   },
   "outputs": [],
   "source": [
    "for i in range(1,6):\n",
    "    mnist_unshuffled[i].loc[:, 'Trial-ID'] = mnist_unshuffled[i].loc[:, 'Trial-ID'] + mnist_unshuffled[i-1]['Trial-ID'].max()"
   ]
  },
  {
   "cell_type": "code",
   "execution_count": 38,
   "metadata": {
    "collapsed": true
   },
   "outputs": [],
   "source": [
    "mnist_unshuffled_merged = pd.concat(mnist_unshuffled)"
   ]
  },
  {
   "cell_type": "code",
   "execution_count": 39,
   "metadata": {},
   "outputs": [
    {
     "data": {
      "text/plain": [
       "15000"
      ]
     },
     "execution_count": 39,
     "metadata": {},
     "output_type": "execute_result"
    }
   ],
   "source": [
    "mnist_unshuffled_merged['Trial-ID'].max()"
   ]
  },
  {
   "cell_type": "code",
   "execution_count": 40,
   "metadata": {
    "collapsed": true
   },
   "outputs": [],
   "source": [
    "mnist_unshuffled_merged.query(\"Status == 'COMPLETED'\").to_csv(\"./mnistcnn/mnist-unshuffled-merged.csv\", index=False)"
   ]
  },
  {
   "cell_type": "markdown",
   "metadata": {},
   "source": [
    "# Boston"
   ]
  },
  {
   "cell_type": "code",
   "execution_count": 16,
   "metadata": {
    "collapsed": true
   },
   "outputs": [],
   "source": [
    "n=4\n",
    "name = 'boston-shuffled-'"
   ]
  },
  {
   "cell_type": "code",
   "execution_count": 17,
   "metadata": {
    "collapsed": true
   },
   "outputs": [],
   "source": [
    "boston = [pd.read_csv(\"./bostongbrt/{}{}.csv\".format(name, i)) for i in range(n)]"
   ]
  },
  {
   "cell_type": "code",
   "execution_count": 18,
   "metadata": {
    "collapsed": true
   },
   "outputs": [],
   "source": [
    "for i in range(1,n):\n",
    "    boston[i].loc[:, 'Trial-ID'] = boston[i].loc[:, 'Trial-ID'] + boston[i-1]['Trial-ID'].max()"
   ]
  },
  {
   "cell_type": "code",
   "execution_count": 19,
   "metadata": {
    "collapsed": true
   },
   "outputs": [],
   "source": [
    "boston_merged = pd.concat(boston)"
   ]
  },
  {
   "cell_type": "code",
   "execution_count": 20,
   "metadata": {},
   "outputs": [
    {
     "data": {
      "text/plain": [
       "25000"
      ]
     },
     "execution_count": 20,
     "metadata": {},
     "output_type": "execute_result"
    }
   ],
   "source": [
    "boston_merged['Trial-ID'].max()"
   ]
  },
  {
   "cell_type": "code",
   "execution_count": 21,
   "metadata": {
    "collapsed": true
   },
   "outputs": [],
   "source": [
    "boston_merged.query(\"Status == 'COMPLETED'\").to_csv(\"./bostongbrt/{}merged.csv\".format(name), index=False)"
   ]
  }
 ],
 "metadata": {
  "kernelspec": {
   "display_name": "Python 3",
   "language": "python",
   "name": "python3"
  },
  "language_info": {
   "codemirror_mode": {
    "name": "ipython",
    "version": 3
   },
   "file_extension": ".py",
   "mimetype": "text/x-python",
   "name": "python",
   "nbconvert_exporter": "python",
   "pygments_lexer": "ipython3",
   "version": "3.6.1"
  }
 },
 "nbformat": 4,
 "nbformat_minor": 2
}
