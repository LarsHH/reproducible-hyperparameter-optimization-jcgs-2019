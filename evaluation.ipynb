{
 "cells": [
  {
   "cell_type": "code",
   "execution_count": 1,
   "metadata": {},
   "outputs": [
    {
     "name": "stderr",
     "output_type": "stream",
     "text": [
      "Warning message:\n",
      "“package ‘rlang’ was built under R version 3.4.4”Warning message:\n",
      "“package ‘repr’ was built under R version 3.4.4”── Attaching packages ─────────────────────────────────────── tidyverse 1.2.1 ──\n",
      "✔ ggplot2 2.2.1     ✔ purrr   0.2.5\n",
      "✔ tibble  1.4.2     ✔ dplyr   0.7.8\n",
      "✔ tidyr   0.8.1     ✔ stringr 1.3.1\n",
      "✔ readr   1.1.1     ✔ forcats 0.3.0\n",
      "Warning message:\n",
      "“package ‘tibble’ was built under R version 3.4.3”Warning message:\n",
      "“package ‘tidyr’ was built under R version 3.4.4”Warning message:\n",
      "“package ‘purrr’ was built under R version 3.4.4”Warning message:\n",
      "“package ‘dplyr’ was built under R version 3.4.4”Warning message:\n",
      "“package ‘stringr’ was built under R version 3.4.4”Warning message:\n",
      "“package ‘forcats’ was built under R version 3.4.3”── Conflicts ────────────────────────────────────────── tidyverse_conflicts() ──\n",
      "✖ purrr::%@%()         masks rlang::%@%()\n",
      "✖ purrr::%||%()        masks rlang::%||%()\n",
      "✖ purrr::as_function() masks rlang::as_function()\n",
      "✖ dplyr::filter()      masks stats::filter()\n",
      "✖ purrr::flatten()     masks rlang::flatten()\n",
      "✖ purrr::flatten_chr() masks rlang::flatten_chr()\n",
      "✖ purrr::flatten_dbl() masks rlang::flatten_dbl()\n",
      "✖ purrr::flatten_int() masks rlang::flatten_int()\n",
      "✖ purrr::flatten_lgl() masks rlang::flatten_lgl()\n",
      "✖ purrr::invoke()      masks rlang::invoke()\n",
      "✖ dplyr::lag()         masks stats::lag()\n",
      "✖ purrr::list_along()  masks rlang::list_along()\n",
      "✖ purrr::modify()      masks rlang::modify()\n",
      "✖ purrr::rep_along()   masks rlang::rep_along()\n",
      "✖ purrr::splice()      masks rlang::splice()\n",
      "Warning message:\n",
      "“package ‘xtable’ was built under R version 3.4.4”"
     ]
    }
   ],
   "source": [
    "library(rlang)\n",
    "library(repr)\n",
    "library(tidyverse)\n",
    "options(repr.plot.width=8, repr.plot.height=4)\n",
    "library(xtable)\n",
    "library(latex2exp)\n",
    "library(\"dplyr\")\n"
   ]
  },
  {
   "cell_type": "code",
   "execution_count": 337,
   "metadata": {},
   "outputs": [],
   "source": [
    "# Data operations\n",
    "group_data <- function(df, grouping_feature) {\n",
    "    # Takes Sherpa dataframe and returns dataframe with \n",
    "    # Lambda (i.e. group), Group mean and Psi\n",
    "    #\n",
    "    # Args:\n",
    "    #     df: Sherpa output dataframe.\n",
    "    #     grouping_feature: feature to group by.\n",
    "    #\n",
    "    # Returns:\n",
    "    #     tbl: Lambda (i.e. group), Group mean and Psi\n",
    "    names(df)[names(df) == grouping_feature] <- 'grouping_feature'\n",
    "    df <- as.tibble(df)\n",
    "    grpdf <- df %>% group_by_at('grouping_feature') %>%\n",
    "            summarise(mean=mean(Objective), count=n()) %>%\n",
    "            filter(count==25) %>%\n",
    "            arrange(mean) %>%\n",
    "            mutate(Lambda = 1:n()) %>%\n",
    "            inner_join(df, by='grouping_feature') %>%\n",
    "            rename(Psi=Objective, Mean=mean) %>%\n",
    "            select(Lambda, Psi)\n",
    "    return(grpdf)\n",
    "}\n",
    "\n",
    "subsample_groups <- function(tbl, num_groups) {\n",
    "    # Helper to subsample by hyperparameter setting (Lambda).\n",
    "    #\n",
    "    # Args:\n",
    "    #     tbl: the dataframe/tibble\n",
    "    #     num_groups: the number to subsample i.e. K\n",
    "    #\n",
    "    # Returns:\n",
    "    #     The subsampled tibble.\n",
    "    return(filter(tbl, Lambda %in% sample(unique(tbl$Lambda), num_groups, replace=F)))\n",
    "}\n",
    "\n",
    "subsample_trials <- function(tbl, num_trials, replace=F) {\n",
    "    # Helper to subsample trials for the existing groups.\n",
    "    #\n",
    "    # Args:\n",
    "    #     tbl: the dataframe/tibble\n",
    "    #     num_trials: the number to subsample i.e. n_lambda\n",
    "    #\n",
    "    # Returns:\n",
    "    #     The subsampled tibble.\n",
    "    return(tbl %>% group_by(Lambda) %>% sample_n(num_trials, replace=replace))\n",
    "}\n",
    "\n",
    "add_trials <- function(tbl, newtbl) {\n",
    "    # Helper to combine new trials with previous.\n",
    "    #\n",
    "    # Args:\n",
    "    #     tbl: the dataframe/tibble with the previous trials.\n",
    "    #     newtbl: the dataframe with the new trials.\n",
    "    #\n",
    "    # Returns:\n",
    "    #     The joined tibble.\n",
    "    return(full_join(tbl, newtbl, by=c(\"Lambda\", \"Psi\")) %>%\n",
    "           arrange(Lambda))\n",
    "}"
   ]
  },
  {
   "cell_type": "code",
   "execution_count": 477,
   "metadata": {},
   "outputs": [],
   "source": [
    "CalcPocockErrorAndSampleSize <- function (n, alpha){\n",
    "    # Calculate the alpha dash values and sample size for interim analyses\n",
    "    #\n",
    "    # Args:\n",
    "    #   n: vector of sample size at each analysis.\n",
    "    #   alpha: overall type 1 error.\n",
    "    #\n",
    "    # Returns:\n",
    "    #   A list containing alpha dash and the sample size at each analysis.\n",
    "    if (length(n) > 1){\n",
    "        if (length(n) == 3) {\n",
    "            alpha.dash <- rep(0.02317456, 3)\n",
    "        } else if (length(n) == 5) {\n",
    "            alpha.dash <- rep(0.01693147, 5)\n",
    "        } else {\n",
    "            information.fraction <- n/max(n)\n",
    "            spent.error <- alpha * log(1+(exp(1)-1)*information.fraction)\n",
    "            alpha.dash <- c(spent.error[1], diff(spent.error))\n",
    "        }\n",
    "        n.delta <- c(n[1], diff(n))\n",
    "    } else {\n",
    "        alpha.dash <- alpha\n",
    "        n.delta <- n\n",
    "    }\n",
    "    return(list(alpha.dash=alpha.dash, n.delta=n.delta))\n",
    "}\n",
    "\n",
    "FilterTrials <- function(tbl, n.lambda, alpha, min.idx=NULL) {\n",
    "    # Testing procedure to generate nullset from candidates.\n",
    "    #\n",
    "    # Args:\n",
    "    #   psi: list with minimum objective values for each trial.\n",
    "    #   n.lambda: vector of sample sizes for each interim analysis,\n",
    "    #             also determines the number of analyses.\n",
    "    #   alpha: overall type 1 error.\n",
    "    #\n",
    "    # Returns:\n",
    "    #   List of null sets corresponding to each interim analysis.\n",
    "    pocock <- CalcPocockErrorAndSampleSize(n.lambda, alpha)\n",
    "    alpha.dash <- pocock$alpha.dash\n",
    "    n.lambda.delta <- pocock$n.delta\n",
    "    total.trials <- 0\n",
    "    \n",
    "    # H and H0 denote indices with respect to psi\n",
    "    for (i in 1:length(n.lambda)){\n",
    "        new.trials <- subsample_trials(tbl, n.lambda.delta[i], replace=F)\n",
    "        tbl <- anti_join(tbl, new.trials, by = c(\"Lambda\", \"Psi\"))\n",
    "        if (i > 1) {\n",
    "            new.trials <- filter(new.trials, Lambda %in% unique(trials$Lambda))\n",
    "            trials <- add_trials(trials, new.trials)\n",
    "        } else {\n",
    "            trials <- new.trials\n",
    "        }\n",
    "        total.trials <- total.trials + nrow(new.trials)\n",
    "        trials <- filter_by_anova(trials, alpha=alpha.dash[i], verbose=F)\n",
    "    }\n",
    "    return(list(trials=trials, total.trials=total.trials))\n",
    "}\n",
    "\n",
    "filter_by_anova <- function(df, alpha=0.05, verbose=T) {\n",
    "    # Binary Search ANOVA\n",
    "    #\n",
    "    # Args:\n",
    "    #     df: available trials with grouping variable Lambda\n",
    "    #     alpha: type I error level\n",
    "    #     verbose: option for turn output on/off\n",
    "    #\n",
    "    # Returns:\n",
    "    #     Tibble of found nullset.\n",
    "    df <- df  %>% \n",
    "        group_by(Lambda) %>% \n",
    "        summarise(ObservedMean=mean(Psi)) %>% \n",
    "        arrange(ObservedMean) %>% \n",
    "        mutate(Rank=1:n()) %>% \n",
    "        inner_join(df, 'Lambda')\n",
    "    K <- max(df$Rank)\n",
    "    l <- 1\n",
    "    h <- K\n",
    "    p <- h\n",
    "    count <- 1\n",
    "    while(l != h){\n",
    "\n",
    "        pval <- anova(lm(Psi ~ factor(Lambda), df, subset=Rank<=p))$'Pr(>F)'[1]\n",
    "        reject <- pval < alpha/ceiling(log2(K)+1)\n",
    "#         reject <- pval < alpha\n",
    "        if (verbose) {\n",
    "            cat(paste(\"Test \", count, \"/\", ceiling(log2(K)+1), \"\\n\",\n",
    "                      \"l=\",l,\" h=\",h,\" p=\",p,\"\\n\",\n",
    "                      ifelse(reject,\"Reject\", \"Accept\"), \" (p-val=\", pval, \")\", \"\\n\\n\"\n",
    "                      , sep=\"\"))\n",
    "        }\n",
    "        if(reject){\n",
    "            h <- p - 1\n",
    "        } else {\n",
    "            l <- p\n",
    "        }\n",
    "        p <- ceiling((l+h)/2)\n",
    "        count <- count + 1\n",
    "    }\n",
    "    if (verbose) {cat(paste(\"l=\",l,\" h=\",h,\"\\n\", sep=\"\"))}\n",
    "    return(filter(df, Rank<=l) %>% select(Lambda, Psi))\n",
    "}\n",
    "\n",
    "plot_groups <- function(df) {\n",
    "    # Helper to make quick plots of the groups.\n",
    "\n",
    "    # Args:\n",
    "    #     df: dataframe/tibble containing groups\n",
    "    #         with at least a Lambda and Psi column.\n",
    "\n",
    "    # Returns:\n",
    "    #     Plot.\n",
    "    p <- ggplot(df, aes(x=Psi, fill=factor(Lambda)))\n",
    "    p <- p + geom_density()\n",
    "    p <- p + labs(fill = \"HP Setting\", x=\"Loss\", y=\"Density\")\n",
    "    return(p)\n",
    "}\n",
    "\n",
    "EvalMetrics <- function(tbl, n.lambda, alpha, num.runs, K, test.tbl=NULL) {\n",
    "    # Function to evaluate metrics from results section 1.\n",
    "    #\n",
    "    # Args:\n",
    "    #     tbl: all available trials.\n",
    "    #     n.lambda: vector of sample sizes.\n",
    "    #     alpha: type I error level\n",
    "    #     num.runs: number of simulations\n",
    "    #     K: number of candidate hyperparameter settings\n",
    "    #     test.tbl: test results.\n",
    "    #\n",
    "    # Returns:\n",
    "    #     List of metrics.\n",
    "    H0.size <- rep(NA, num.runs)\n",
    "    lambda.star.in.H0 <- rep(NA, num.runs)\n",
    "    num.trials <- rep(NA, num.runs)\n",
    "    rejection.power <- rep(NA, num.runs)\n",
    "    for(i in 1:num.runs) {\n",
    "        subsampleGroups <- subsample_groups(tbl, num_groups=K)\n",
    "        rval <- FilterTrials(subsampleGroups, n.lambda=n.lambda, alpha=0.05)\n",
    "        filteredTbl <- rval$trials\n",
    "        num.trials[i] <- rval$total.trials\n",
    "        H0.size[i] <- length(unique(filteredTbl$Lambda))\n",
    "        lambda.star.in.H0[i] <- min(subsampleGroups$Lambda) %in% unique(filteredTbl$Lambda)\n",
    "        rejection.power[i] <- (K - H0.size[i] - !lambda.star.in.H0[i])/(K-1)\n",
    "    }\n",
    "    return(list(lambda.star.in.H0=mean(lambda.star.in.H0),\n",
    "                H0.size=mean(H0.size),\n",
    "                avg.num.trials=mean(num.trials),\n",
    "                rejection.power=mean(rejection.power)))\n",
    "}\n"
   ]
  },
  {
   "cell_type": "code",
   "execution_count": 436,
   "metadata": {},
   "outputs": [],
   "source": []
  },
  {
   "cell_type": "code",
   "execution_count": 461,
   "metadata": {},
   "outputs": [
    {
     "data": {
      "text/html": [
       "<dl>\n",
       "\t<dt>$lambda.star.in.H0</dt>\n",
       "\t\t<dd>1</dd>\n",
       "\t<dt>$H0.size</dt>\n",
       "\t\t<dd>4.827</dd>\n",
       "\t<dt>$avg.num.trials</dt>\n",
       "\t\t<dd>364.677</dd>\n",
       "\t<dt>$rejection.power</dt>\n",
       "\t\t<dd>0.961343434343434</dd>\n",
       "</dl>\n"
      ],
      "text/latex": [
       "\\begin{description}\n",
       "\\item[\\$lambda.star.in.H0] 1\n",
       "\\item[\\$H0.size] 4.827\n",
       "\\item[\\$avg.num.trials] 364.677\n",
       "\\item[\\$rejection.power] 0.961343434343434\n",
       "\\end{description}\n"
      ],
      "text/markdown": [
       "$lambda.star.in.H0\n",
       ":   1\n",
       "$H0.size\n",
       ":   4.827\n",
       "$avg.num.trials\n",
       ":   364.677\n",
       "$rejection.power\n",
       ":   0.961343434343434\n",
       "\n",
       "\n"
      ],
      "text/plain": [
       "$lambda.star.in.H0\n",
       "[1] 1\n",
       "\n",
       "$H0.size\n",
       "[1] 4.827\n",
       "\n",
       "$avg.num.trials\n",
       "[1] 364.677\n",
       "\n",
       "$rejection.power\n",
       "[1] 0.9613434\n"
      ]
     },
     "metadata": {},
     "output_type": "display_data"
    }
   ],
   "source": [
    "EvalMetrics(tbl=tbl, n.lambda=c(3,6,9), alpha=0.05, num.runs=1000, K=100)"
   ]
  },
  {
   "cell_type": "code",
   "execution_count": 475,
   "metadata": {},
   "outputs": [
    {
     "data": {
      "text/html": [
       "<dl>\n",
       "\t<dt>$lambda.star.in.H0</dt>\n",
       "\t\t<dd>0.999</dd>\n",
       "\t<dt>$H0.size</dt>\n",
       "\t\t<dd>4.117</dd>\n",
       "\t<dt>$avg.num.trials</dt>\n",
       "\t\t<dd>348.126</dd>\n",
       "\t<dt>$rejection.power</dt>\n",
       "\t\t<dd>0.968505050505051</dd>\n",
       "</dl>\n"
      ],
      "text/latex": [
       "\\begin{description}\n",
       "\\item[\\$lambda.star.in.H0] 0.999\n",
       "\\item[\\$H0.size] 4.117\n",
       "\\item[\\$avg.num.trials] 348.126\n",
       "\\item[\\$rejection.power] 0.968505050505051\n",
       "\\end{description}\n"
      ],
      "text/markdown": [
       "$lambda.star.in.H0\n",
       ":   0.999\n",
       "$H0.size\n",
       ":   4.117\n",
       "$avg.num.trials\n",
       ":   348.126\n",
       "$rejection.power\n",
       ":   0.968505050505051\n",
       "\n",
       "\n"
      ],
      "text/plain": [
       "$lambda.star.in.H0\n",
       "[1] 0.999\n",
       "\n",
       "$H0.size\n",
       "[1] 4.117\n",
       "\n",
       "$avg.num.trials\n",
       "[1] 348.126\n",
       "\n",
       "$rejection.power\n",
       "[1] 0.9685051\n"
      ]
     },
     "metadata": {},
     "output_type": "display_data"
    }
   ],
   "source": [
    "EvalMetrics(tbl=tbl, n.lambda=c(3,6,9), alpha=0.05, num.runs=1000, K=100)"
   ]
  },
  {
   "cell_type": "code",
   "execution_count": 473,
   "metadata": {},
   "outputs": [],
   "source": [
    "tbl <- group_data(completed, 'dropout')\n",
    "# round1 <- subsample_trials(tbl, 3)\n",
    "# round2 <- add_trials(round1, subsample_trials(tbl, 3))"
   ]
  },
  {
   "cell_type": "code",
   "execution_count": 228,
   "metadata": {},
   "outputs": [
    {
     "data": {},
     "metadata": {},
     "output_type": "display_data"
    },
    {
     "data": {
      "image/png": "[encoded data removed]",
      "text/plain": [
       "plot without title"
      ]
     },
     "metadata": {},
     "output_type": "display_data"
    }
   ],
   "source": [
    "plot_groups(filter_by_anova(subsample_trials(subsample_groups(tbl, 150), 25), verbose=F, alpha=0.1))"
   ]
  },
  {
   "cell_type": "code",
   "execution_count": 472,
   "metadata": {},
   "outputs": [
    {
     "data": {
      "text/html": [
       "0.068"
      ],
      "text/latex": [
       "0.068"
      ],
      "text/markdown": [
       "0.068"
      ],
      "text/plain": [
       "[1] 0.068"
      ]
     },
     "metadata": {},
     "output_type": "display_data"
    },
    {
     "data": {
      "image/png": "[encoded data removed]",
      "text/plain": [
       "Plot with title “Histogram of H0.size[which(H0.size < K)]”"
      ]
     },
     "metadata": {},
     "output_type": "display_data"
    }
   ],
   "source": [
    "K <- 100\n",
    "n <- 10\n",
    "n.lambda <- c(3,6,9)\n",
    "alpha <- 0.05\n",
    "num.runs <- 500\n",
    "H0.size <- rep(NA, num.runs)\n",
    "for(i in 1:num.runs){\n",
    "    df <- as.tibble(data.frame(Psi=rnorm(K*n, mean=0, sd=1), Lambda=rep(1:K, each=n)))\n",
    "    filtered.df <- FilterTrials(tbl=df, n.lambda=n.lambda, alpha=alpha)$trials\n",
    "    H0.size[i] <- length(unique(filtered.df$Lambda))\n",
    "}\n",
    "mean(H0.size<K)\n",
    "hist(H0.size[which(H0.size<K)])"
   ]
  },
  {
   "cell_type": "code",
   "execution_count": 458,
   "metadata": {},
   "outputs": [
    {
     "data": {
      "text/html": [
       "0.04"
      ],
      "text/latex": [
       "0.04"
      ],
      "text/markdown": [
       "0.04"
      ],
      "text/plain": [
       "[1] 0.04"
      ]
     },
     "metadata": {},
     "output_type": "display_data"
    },
    {
     "data": {
      "image/png": "[encoded data removed]",
      "text/plain": [
       "Plot with title “Histogram of H0.size[which(H0.size < K)]”"
      ]
     },
     "metadata": {},
     "output_type": "display_data"
    }
   ],
   "source": [
    "K <- 100\n",
    "n <- 10\n",
    "alpha <- 0.35\n",
    "num.runs <- 100\n",
    "H0.size <- rep(NA, num.runs)\n",
    "for(i in 1:num.runs){\n",
    "    df <- as.tibble(data.frame(Psi=rnorm(K*n, mean=0, sd=1), Lambda=rep(1:K, each=n)))\n",
    "    filtered.df <- filter_by_anova(df, alpha=alpha, verbose=F)\n",
    "    H0.size[i] <- length(unique(filtered.df$Lambda))\n",
    "}\n",
    "mean(H0.size<K)\n",
    "hist(H0.size[which(H0.size<K)])"
   ]
  },
  {
   "cell_type": "code",
   "execution_count": null,
   "metadata": {},
   "outputs": [],
   "source": [
    "RejectByHolmBonf <- function(xbar, var.xbar, alpha=0.05){\n",
    "    # Reject values in x via Holm-Bonferroni procedure\n",
    "    # My own implementation.\n",
    "    #\n",
    "    # Args:\n",
    "    #   x: vector of xbar values.\n",
    "    #   var.x: variance associate with xbar values.\n",
    "    #   alpha: type 1 error level\n",
    "    #\n",
    "    # Returns:\n",
    "    #   values in x that were not rejected.\n",
    "    K <- length(xbar)\n",
    "    min.idx <- which.min(xbar)\n",
    "\n",
    "    x.star <- xbar[min.idx]\n",
    "    var.x.star <- var.xbar[min.idx]\n",
    "\n",
    "    x.test <- xbar[-min.idx]\n",
    "    var.x.test <- var.xbar[-min.idx]\n",
    "\n",
    "    w.star <- (x.test - x.star)/sqrt(var.x.test + var.x.star)\n",
    "\n",
    "    w <- rep(NA, K*(K-1)/2)\n",
    "    count <- 1\n",
    "    for(i in 1:(K-1)){\n",
    "        for(j in (i+1):K){\n",
    "            temp <- (xbar[i] - xbar[j])/sqrt(var.xbar[i] + var.xbar[j])\n",
    "            w[count] <- abs(temp)\n",
    "            count <- count + 1\n",
    "        }\n",
    "    }\n",
    "    p <- 1.-pnorm(w)\n",
    "    p.ordered <- sort(p)\n",
    "    \n",
    "    k <- 1:length(w)\n",
    "    accept.test <- p.ordered > (alpha/(length(w) + 1 - k))\n",
    "    \n",
    "    if (sum(accept.test) == 0) {\n",
    "        # Reject all\n",
    "        accept.idxs <- c()\n",
    "    } else if (sum(accept.test) == K-1) {\n",
    "        # Accept all\n",
    "        accept.idxs <- k\n",
    "    } else {\n",
    "        k.accept <- which(accept.test)[1]\n",
    "        accept.p <- p.ordered[k.accept:length(w)]\n",
    "        accept.idxs <- match(accept.p, p)\n",
    "    }\n",
    "    w.star.accepted <- intersect(w[accept.idxs], w.star)\n",
    "    accept.original.idxs <- match(w.star.accepted, w.star)\n",
    "    return(c(x.star, x.test[accept.original.idxs]))\n",
    "}\n",
    "\n",
    "# RejectByHolmBonf <- function(x, var.x, alpha=0.05, min.idx=NULL){\n",
    "#     # Reject values in x via Holm-Bonferroni procedure\n",
    "#     # My own implementation.\n",
    "#     #\n",
    "#     # Args:\n",
    "#     #   x: vector of xbar values.\n",
    "#     #   var.x: variance associate with xbar values.\n",
    "#     #   alpha: type 1 error level\n",
    "#     #\n",
    "#     # Returns:\n",
    "#     #   values in x that were not rejected.\n",
    "#     K <- length(x)\n",
    "    \n",
    "#     if (is.null(min.idx)){\n",
    "#         min.idx <- which.min(x)\n",
    "#     }\n",
    "    \n",
    "#     x.star <- x[min.idx]\n",
    "#     var.x.star <- var.x[min.idx]\n",
    "    \n",
    "#     x.test <- x[-min.idx]\n",
    "#     var.x.test <- var.x[-min.idx]\n",
    "\n",
    "#     w <- (x.test - x.star)/sqrt(var.x.test + var.x.star)\n",
    "#     p <- 1.-pnorm(w)\n",
    "    \n",
    "#     p.ordered <- sort(p)\n",
    "    \n",
    "#     k <- 1:(K-1)\n",
    "#     accept.test <- p.ordered > (alpha/(K - k))\n",
    "    \n",
    "#     if (sum(accept.test) == 0) {\n",
    "#         # Reject all\n",
    "#         accept.idxs <- c()\n",
    "#     } else if (sum(accept.test) == K-1) {\n",
    "#         # Accept all\n",
    "#         accept.idxs <- k\n",
    "#     } else {\n",
    "#         k.accept <- which(accept.test)[1]\n",
    "#         accept.p <- p.ordered[k.accept:(K-1)]\n",
    "#         accept.idxs <- match(accept.p, p)\n",
    "#     }\n",
    "#     return(c(x.star, x.test[accept.idxs]))\n",
    "# }\n",
    "\n",
    "RejectByHolmBonfR <- function(x, var.x, alpha=0.05, min.idx=NULL){\n",
    "    # Reject values in x via Holm-Bonferroni procedure\n",
    "    # R implementation\n",
    "    #\n",
    "    # Args:\n",
    "    #   x: vector of xbar values.\n",
    "    #   var.x: variance associate with xbar values.\n",
    "    #   alpha: type 1 error level\n",
    "    #\n",
    "    # Returns:\n",
    "    #   values in x that were not rejected.\n",
    "    N <- length(x)\n",
    "    if (is.null(min.idx)){\n",
    "        min.idx <- which.min(x)\n",
    "    }\n",
    "    \n",
    "    x.star <- x[min.idx]\n",
    "    var.x.star <- var.x[min.idx]\n",
    "    \n",
    "    x.test <- x[-min.idx]\n",
    "    var.x.test <- var.x[-min.idx]\n",
    "\n",
    "    w <- (x.test - x.star)/sqrt(var.x.test + var.x.star)\n",
    "    p <- 1.-pnorm(w)\n",
    "    accept <- p.adjust(p, \"holm\") > alpha\n",
    "    \n",
    "    return(c(x.star, x.test[accept]))\n",
    "}\n",
    "\n",
    "\n",
    "TestRejectByHolmBonf <- function() {\n",
    "    N <- 100\n",
    "    n <- 10\n",
    "    num.runs <- 1000\n",
    "    fp <- 0\n",
    "    for (i in 1:num.runs) {\n",
    "        x <- matrix(c(rep(1, n), rexp((N-1)*n, 1)), nrow=N, ncol=n, byrow = T)\n",
    "        xbar <- apply(x, 1, mean)\n",
    "        var.xbar <- apply(x, 1, var)/n\n",
    "        xbar.notrejected <- RejectByHolmBonf(xbar[xbar>=1], var.xbar[xbar>=1], alpha=0.05)\n",
    "        if (length(xbar.notrejected) < sum(xbar>=1)) {\n",
    "            fp <- fp + 1\n",
    "        }\n",
    "    }\n",
    "    print(\"TestRejectByHolmBonf\")\n",
    "    print(fp/num.runs > 0.03 && fp/num.runs < 0.06)\n",
    "}\n",
    "\n",
    "TestRejectByHolmBonf()\n",
    "\n",
    "\n",
    "CalcPocockErrorAndSampleSize <- function (n, alpha){\n",
    "    # Calculate the alpha dash values and sample size for interim analyses\n",
    "    #\n",
    "    # Args:\n",
    "    #   n: vector of sample size at each analysis.\n",
    "    #   alpha: overall type 1 error.\n",
    "    #\n",
    "    # Returns:\n",
    "    #   A list containing alpha dash and the sample size at each analysis.\n",
    "    if (length(n) > 1){\n",
    "        if (length(n) == 3) {\n",
    "            alpha.dash <- rep(0.02317456, 3)\n",
    "        } else if (length(n) == 5) {\n",
    "            alpha.dash <- rep(0.01693147, 5)\n",
    "        } else {\n",
    "            information.fraction <- n/max(n)\n",
    "            spent.error <- alpha * log(1+(exp(1)-1)*information.fraction)\n",
    "            alpha.dash <- c(spent.error[1], diff(spent.error))\n",
    "        }\n",
    "        n.delta <- c(n[1], diff(n))\n",
    "    } else {\n",
    "        alpha.dash <- alpha\n",
    "        n.delta <- n\n",
    "    }\n",
    "    return(list(alpha.dash=alpha.dash, n.delta=n.delta))\n",
    "}\n",
    "\n",
    "TestCalcPocockErrorAndSampleSize <- function() {\n",
    "    # Compare to values obtained from Lan paper\n",
    "    # Should be c(2.1217, 2.1217, 2.1217, 2.1217, 2.1217)\n",
    "    # as page 3 Table 1 from the paper\n",
    "    n <- c(1,2,3,4,5)\n",
    "    rval <- CalcPocockErrorAndSampleSize(n, 0.05)\n",
    "    cval <- qnorm(1-rval$alpha.dash)\n",
    "    print(\"TestCalcPocockErrorAndSampleSize\")\n",
    "    print(all(cval == rep(2.1217, 5)))\n",
    "}\n",
    "TestCalcPocockErrorAndSampleSize()\n",
    "\n",
    "GenerateH0 <- function(psi, n.lambda, alpha, min.idx=NULL) {\n",
    "    # Testing procedure to generate nullset from candidates.\n",
    "    #\n",
    "    # Args:\n",
    "    #   psi: list with minimum objective values for each trial.\n",
    "    #   n.lambda: vector of sample sizes for each interim analysis,\n",
    "    #             also determines the number of analyses.\n",
    "    #   alpha: overall type 1 error.\n",
    "    #\n",
    "    # Returns:\n",
    "    #   List of null sets corresponding to each interim analysis.\n",
    "    pocock <- CalcPocockErrorAndSampleSize(n.lambda, alpha)\n",
    "    alpha.dash <- pocock$alpha.dash\n",
    "    n.lambda.delta <- pocock$n.delta\n",
    "    \n",
    "    # H and H0 denote indices with respect to psi\n",
    "    H0 <- list()\n",
    "    H <- 1:length(psi)\n",
    "    trials <- lapply(psi, sample, size=0)\n",
    "    for (i in 1:length(n.lambda)){\n",
    "        new.trials <- lapply(psi, sample, size=n.lambda.delta[i])\n",
    "        trials <- mapply(c, trials, new.trials, SIMPLIFY=F)\n",
    "        tau.hat <- unlist(lapply(trials, mean))\n",
    "        nu.hat <- unlist(lapply(trials, var))\n",
    "        if (n.lambda.delta[i] > 1){\n",
    "            H0.tau <- RejectByHolmBonf(x=tau.hat[H], var.x=nu.hat[H]/n.lambda[i], alpha=alpha.dash[i], min.idx=min.idx)\n",
    "        } else {\n",
    "            H0.tau <- min(tau.hat[H])\n",
    "        }\n",
    "        H0[[i]] <- match(H0.tau, tau.hat)\n",
    "        H <- H0[[i]]\n",
    "    }\n",
    "    return(list(H0=H0, trials=trials))\n",
    "}\n",
    "\n",
    "TestGenerateH0 <- function() {\n",
    "    psi <- list()\n",
    "    for(i in 1:50) {\n",
    "        psi[[i]] <- rep(i, 25) + rnorm(25, 0, 0.1)\n",
    "    }\n",
    "    test1 <- GenerateH0(psi, n.lambda=c(1), alpha=0.05)$H0[[1]] == 1\n",
    "    test5 <- GenerateH0(psi, n.lambda=c(5), alpha=0.05)$H0[[1]] == 1\n",
    "    test10 <- GenerateH0(psi, n.lambda=c(10), alpha=0.05)$H0[[1]] == 1\n",
    "    test369 <- GenerateH0(psi, n.lambda=c(3,6,9), alpha=0.05)$H0[[1]] == 1\n",
    "    print(\"TestGenerateH0\")\n",
    "    print(all(c(test1, test5, test10, test369)))\n",
    "}\n",
    "TestGenerateH0()\n",
    "\n",
    "CalcNumTrials <- function (N, H0, n){\n",
    "    # Calculate now many trials were used.\n",
    "    #\n",
    "    # Args:\n",
    "    #   N: starting number of trials.\n",
    "    #   H0: the null set(s) for each interim analysis as list.\n",
    "    #   n: sample size at each interim analysis.\n",
    "    #\n",
    "    # Returns:\n",
    "    #   The number of trials that were used.\n",
    "    num.trials <- 0\n",
    "    trials.per.analysis <- c(N, unlist(lapply(H0, length)))\n",
    "    if (length(n) > 1){\n",
    "        n.delta <- n - c(0, n[1:(length(n)-1)])\n",
    "    } else {\n",
    "        n.delta <- n\n",
    "    }\n",
    "    for (i in 1:length(n.delta)){\n",
    "        num.trials <- num.trials + n.delta[i]*trials.per.analysis[i]\n",
    "    }\n",
    "    return(num.trials)\n",
    "}\n",
    "TestCalcNumTrials <- function() {\n",
    "    N <- 100\n",
    "    H0 <- list(`1`=c(1:50), `2`=1:10, `3`=1:5)\n",
    "    n <- c(10, 20, 30)\n",
    "    \n",
    "    # should be 10*100 + 50*10 + 10*10\n",
    "    print(\"TestCalcNumTrials\")\n",
    "    print(CalcNumTrials(N, H0, n) == 10*100 + 50*10 + 10*10)\n",
    "}\n",
    "TestCalcNumTrials()\n",
    "\n",
    "EvalMetrics <- function(psi, n.lambda, alpha, num.runs, N, psi.test=NULL){\n",
    "    # Generate paper results\n",
    "    #\n",
    "    # Args:\n",
    "    #   psi: list with minimum objective values for each trial.\n",
    "    #   n.lambda: vector of sample sizes for each interim analysis,\n",
    "    #             also determines the number of analyses.\n",
    "    #   alpha: overall type 1 error.\n",
    "    #   num.runs: number of simulations to run.\n",
    "    #   best.trial: the index of the best trial in psi.\n",
    "    #\n",
    "    # Returns:\n",
    "    #   List of paper metrics.\n",
    "    lambda.star.in.H0 <- rep(NA, num.runs)\n",
    "    lambda.star.test.in.H0 <- rep(NA, num.runs)\n",
    "    size.H0 <- rep(NA, num.runs)\n",
    "    lambda.in.H0c <- rep(NA, num.runs)\n",
    "    lambda.test.in.H0c <- rep(NA, num.runs)\n",
    "    num.trials <- rep(NA, num.runs)\n",
    "\n",
    "    for (j in 1:num.runs){\n",
    "        psi.idxs <- sample(1:length(psi), N, replace = F)\n",
    "        psi.sample <- psi[psi.idxs]\n",
    "        \n",
    "        mean.psi.sample <- unlist(lapply(psi.sample, mean))\n",
    "        best.trial <- which.min(mean.psi.sample)\n",
    "        \n",
    "        H0 <- GenerateH0(psi.sample, n.lambda=n.lambda, alpha=alpha)$H0\n",
    "        \n",
    "        lambda.star.in.H0[j] <- best.trial %in% H0[[length(n.lambda)]]\n",
    "        size.H0[j] <- length(H0[[length(n.lambda)]])\n",
    "        size.H0c <- N-size.H0[j]\n",
    "        lambda.in.H0c[j] <- (size.H0c - !lambda.star.in.H0[j])/(N-1)\n",
    "        num.trials[j] <- CalcNumTrials(N=N, H0=H0, n=n.lambda)\n",
    "        \n",
    "        if(!is.null(psi.test)) {\n",
    "            psi.sample.test <- psi.test[psi.idxs]\n",
    "            mean.psi.sample.test <- unlist(lapply(psi.sample.test, mean))\n",
    "            best.trial.test <- which.min(mean.psi.sample.test)\n",
    "            lambda.star.test.in.H0[j] <- best.trial.test %in% H0[[length(n.lambda)]]\n",
    "            lambda.test.in.H0c[j] <- (size.H0c - !lambda.star.test.in.H0[j])/(N-1)\n",
    "        }\n",
    "        \n",
    "    }\n",
    "    if(!is.null(psi.test)) {\n",
    "        return(list(lambda.star.in.H0=mean(lambda.star.in.H0),\n",
    "                lambda.star.test.in.H0=mean(lambda.star.test.in.H0),\n",
    "                size.H0=mean(size.H0),\n",
    "                lambda.in.H0c=mean(lambda.in.H0c),\n",
    "                lambda.test.in.H0c=mean(lambda.test.in.H0c),\n",
    "                avg.num.trials=mean(num.trials)))\n",
    "    } else {\n",
    "        return(list(lambda.star.in.H0=mean(lambda.star.in.H0),\n",
    "                size.H0=mean(size.H0),\n",
    "                lambda.in.H0c=mean(lambda.in.H0c),\n",
    "                avg.num.trials=mean(num.trials)))\n",
    "    }\n",
    "    \n",
    "}\n",
    "TestEvalMetrics <- function() {\n",
    "    psi <- list()\n",
    "    psi.test <- list()\n",
    "    for(i in 1:50) {\n",
    "        psi[[i]] <- rep(i, 25) + rnorm(25, 0, 0.1)\n",
    "        psi.test[[i]] <- rep(i, 25) + rnorm(25, 0, 0.1)\n",
    "    }\n",
    "    psi.test[[1]] <- psi.test[[1]] + 1\n",
    "    rval <- EvalMetrics(psi, n.lambda=c(3,6,9), alpha=0.05, num.runs=100, N=length(psi), psi.test=psi.test)\n",
    "    rval$avg.num.trials == 50*3 + 1*3 + 1*3\n",
    "    print(\"TestEvalMetrics\")\n",
    "    print(rval$lambda.star.in.H0 == 1.)\n",
    "    print(rval$size.H0 == 1.)\n",
    "    print(rval$lambda.in.H0c == 1.)\n",
    "    print(rval$avg.num.trials == 50*3 + 1*3 + 1*3)\n",
    "    print(rval$lambda.star.test.in.H0 == 0.)\n",
    "#     print(rval$lambda.test.in.H0c == 1.)\n",
    "    \n",
    "}\n",
    "TestEvalMetrics()\n",
    "\n",
    "EvalComparisonDiff <- function(psi, n.lambda, alpha, num.runs, N, post.opt.runs=25, sample.lambda=T, psi.test=NULL){\n",
    "    # Simulate how many times one would declare a significant\n",
    "    # difference between the method and itself.\n",
    "    #\n",
    "    # Args:\n",
    "    #   psi: list with minimum objective values for each trial.\n",
    "    #   n.lambda: vector of sample sizes for each interim analysis,\n",
    "    #             also determines the number of analyses.\n",
    "    #   alpha: overall type 1 error.\n",
    "    #   num.runs: number of simulations to run.\n",
    "    #   best.trial: the index of the best trial in psi.\n",
    "    #   post.opt.runs: how many times to run the best trial to get CI.\n",
    "    #\n",
    "    # Returns:\n",
    "    #   List of paper metrics.\n",
    "    diff <- rep(NA, num.runs)\n",
    "    \n",
    "    for (j in 1:num.runs){\n",
    "        psi.idxs <- sample(1:length(psi), N, replace = F)\n",
    "        psi.sample <- psi[psi.idxs]\n",
    "        if(!is.null(psi.test)){\n",
    "            psi.sample.test <- psi.test[psi.idxs]\n",
    "        }\n",
    "        \n",
    "#         psi.shuffle <- lapply(psi.sample, sample, size=25, replace=F)\n",
    "#         psi.1 <- lapply(psi.shuffle, `[`, i =1:12)\n",
    "#         psi.2 <- lapply(psi.shuffle, `[`, i =13:25)\n",
    "        \n",
    "        rval.1 <- GenerateH0(psi.sample, n.lambda=n.lambda, alpha=alpha)\n",
    "        rval.2 <- GenerateH0(psi.sample, n.lambda=n.lambda, alpha=alpha)\n",
    "\n",
    "#         selected.trial.1 <- sample(rval.1$H0[[length(n.lambda)]], 1)\n",
    "#         selected.trial.2 <- sample(rval.2$H0[[length(n.lambda)]], 1)\n",
    "\n",
    "        selected.trial.1 <- rval.1$H0[[length(n.lambda)]]\n",
    "        selected.trial.2 <- rval.2$H0[[length(n.lambda)]]\n",
    "        selected.trial.1 <- ifelse(length(selected.trial.1)>1 && sample.lambda, sample(selected.trial.1, 1), selected.trial.1[1])\n",
    "        selected.trial.2 <- ifelse(length(selected.trial.2)>1 && sample.lambda, sample(selected.trial.2, 1), selected.trial.2[1])\n",
    "        if(!is.null(psi.test)){\n",
    "            post.trial.1 <- psi.sample.test[[selected.trial.1]][1:25]\n",
    "            post.trial.2 <- psi.sample.test[[selected.trial.2]][1:25]\n",
    "        } else {\n",
    "            post.trial.1 <- psi.sample[[selected.trial.1]][1:25]\n",
    "            post.trial.2 <- psi.sample[[selected.trial.2]][1:25]\n",
    "        }\n",
    "\n",
    "        \n",
    "        diff[j] <- mean(post.trial.1)-mean(post.trial.2)\n",
    "    }\n",
    "    return(diff)\n",
    "}\n",
    "\n",
    "EvalMeanVar <- function(psi, n.lambda, alpha, num.runs, N, post.opt.runs=25, sample.lambda=T, psi.test=NULL){\n",
    "    # Simulate the mean and variance across expected prediction\n",
    "    # error one would get from repeatedly running the method.\n",
    "    #\n",
    "    # Args:\n",
    "    #   psi: list with minimum objective values for each trial.\n",
    "    #   n.lambda: vector of sample sizes for each interim analysis,\n",
    "    #             also determines the number of analyses.\n",
    "    #   alpha: overall type 1 error.\n",
    "    #   num.runs: number of simulations to run.\n",
    "    #   sample.lambda: whether to sample lambda.star from H0 or\n",
    "    #       take the best observed.\n",
    "    #   post.opt.runs: how many times to run the best trial to get CI.\n",
    "    #\n",
    "    # Returns:\n",
    "    #   List of mean and variance\n",
    "    expected.prediction.error <- rep(NA, num.runs)\n",
    "    \n",
    "    for (j in 1:num.runs){\n",
    "        psi.idxs <- sample(1:length(psi), N, replace = F)\n",
    "        psi.sample <- psi[psi.idxs]\n",
    "        if(!is.null(psi.test)){\n",
    "            psi.sample.test <- psi.test[psi.idxs]\n",
    "        }\n",
    "        \n",
    "        rval <- GenerateH0(psi.sample, n.lambda=n.lambda, alpha=alpha)\n",
    "\n",
    "        H0 <- rval$H0[[length(n.lambda)]]\n",
    "        lambda.star <- ifelse(length(H0)>1 && sample.lambda, sample(H0, 1), H0[1])\n",
    "\n",
    "        if(!is.null(psi.test)){\n",
    "            lambda.star.mc.samples <- sample(psi.sample.test[[lambda.star]], post.opt.runs, replace=F)\n",
    "        } else {\n",
    "            lambda.star.mc.samples <- sample(psi.sample[[lambda.star]], post.opt.runs, replace=F)\n",
    "        }\n",
    "\n",
    "        expected.prediction.error[j] <- mean(lambda.star.mc.samples)\n",
    "    }\n",
    "    return(list(mean=mean(expected.prediction.error),\n",
    "                var=var(expected.prediction.error),\n",
    "                expected.prediction.error=expected.prediction.error))\n",
    "}"
   ]
  },
  {
   "cell_type": "markdown",
   "metadata": {},
   "source": [
    "# Toy Examples"
   ]
  },
  {
   "cell_type": "markdown",
   "metadata": {},
   "source": [
    "## Type I Error"
   ]
  },
  {
   "cell_type": "code",
   "execution_count": null,
   "metadata": {},
   "outputs": [],
   "source": [
    "HolmBonfTypeOneErrorNormal <- function() {\n",
    "    N <- 100\n",
    "    n <- 10\n",
    "    num.runs <- 100\n",
    "    fp <- 0\n",
    "    l <- rep(NA, num.runs)\n",
    "    l.H0 <- rep(NA, num.runs)\n",
    "    for (i in 1:num.runs) {\n",
    "        x <- matrix(rnorm((N)*n, mean=0, sd=1), nrow=N, ncol=n, byrow = T)\n",
    "        xbar <- apply(x, 1, mean)\n",
    "        var.xbar <- apply(x, 1, var)/n\n",
    "        xbar.notrejected <- RejectByHolmBonf(xbar, var.xbar, alpha=0.05)\n",
    "        if (length(xbar.notrejected) < N) {\n",
    "            fp <- fp + 1\n",
    "        }\n",
    "        l[i] <- N\n",
    "        l.H0[i] <- length(xbar.notrejected)\n",
    "    }\n",
    "    cat(paste(\"Type I Error (Normal): \", fp/num.runs))\n",
    "    return(list(l=l, l.H0=l.H0))\n",
    "}\n",
    "HolmBonfTypeOneErrorNormal()"
   ]
  },
  {
   "cell_type": "code",
   "execution_count": null,
   "metadata": {},
   "outputs": [],
   "source": [
    "HolmBonfTypeOneErrorNormalCorrected <- function() {\n",
    "    N <- 100\n",
    "    n <- 10\n",
    "    num.runs <- 10000\n",
    "    fp <- 0\n",
    "    l <- rep(NA, num.runs)\n",
    "    l.H0 <- rep(NA, num.runs)\n",
    "    for (i in 1:num.runs) {\n",
    "        x <- matrix(rnorm((N)*n, mean=0, sd=1), nrow=N, ncol=n, byrow = T)\n",
    "        xbar <- apply(x, 1, mean)\n",
    "        var.xbar <- apply(x, 1, var)/n\n",
    "        min.idx <- 1\n",
    "        xbar.notrejected <- RejectByHolmBonfR(xbar, var.xbar, alpha=0.05, min.idx=min.idx)\n",
    "        if (length(xbar.notrejected) < N) {\n",
    "            fp <- fp + 1\n",
    "        }\n",
    "        l[i] <- N\n",
    "        l.H0[i] <- length(xbar.notrejected)\n",
    "    }\n",
    "    cat(paste(\"Type I Error (Normal): \", fp/num.runs))\n",
    "    return(list(l=l, l.H0=l.H0))\n",
    "}\n",
    "rval <- HolmBonfTypeOneErrorNormalCorrected()"
   ]
  },
  {
   "cell_type": "code",
   "execution_count": null,
   "metadata": {},
   "outputs": [],
   "source": [
    "HolmBonfTypeOneErrorNormalPairwise <- function() {\n",
    "    K <- 100\n",
    "    n <- 50\n",
    "    num.runs <- 500\n",
    "    fp <- 0\n",
    "    l <- rep(NA, num.runs)\n",
    "    l.H0 <- rep(NA, num.runs)\n",
    "    for (i in 1:num.runs) {\n",
    "        x <- matrix(NA, nrow=K, ncol=n)\n",
    "        x[1,] <- rnorm(n)\n",
    "        for(j in 2:K){\n",
    "            x[j,] <- rnorm(n)\n",
    "            while(mean(x[j,]) < mean(x[1,])){\n",
    "                x[j,] <- rnorm(n)\n",
    "            }\n",
    "        }\n",
    "        xbar <- apply(x, 1, mean)\n",
    "        var.xbar <- apply(x, 1, var)/n\n",
    "        xbar.notrejected <- RejectByHolmBonf(xbar, var.xbar, alpha=0.05)\n",
    "        l[i] <- K\n",
    "        l.H0[i] <- length(xbar.notrejected)\n",
    "    }\n",
    "    cat(paste(\"Type I Error (Normal): \", mean(l != l.H0)))\n",
    "    return(list(l=l, l.H0=l.H0))\n",
    "}\n",
    "rval <- HolmBonfTypeOneErrorNormalPairwise()"
   ]
  },
  {
   "cell_type": "code",
   "execution_count": null,
   "metadata": {
    "collapsed": true
   },
   "outputs": [],
   "source": [
    "x <- matrix(rnorm(100), 10, 10, byrow = T)"
   ]
  },
  {
   "cell_type": "code",
   "execution_count": null,
   "metadata": {},
   "outputs": [],
   "source": [
    "x[1,]"
   ]
  },
  {
   "cell_type": "code",
   "execution_count": null,
   "metadata": {},
   "outputs": [],
   "source": [
    "split(x, rep(1:nrow(x), each = ncol(x)))[[1]]"
   ]
  },
  {
   "cell_type": "code",
   "execution_count": null,
   "metadata": {
    "collapsed": true
   },
   "outputs": [],
   "source": [
    "?split"
   ]
  },
  {
   "cell_type": "code",
   "execution_count": null,
   "metadata": {},
   "outputs": [],
   "source": [
    "ProcedureTypeOneError <- function() {\n",
    "    K <- 100\n",
    "    n <- 25\n",
    "    n.lambda <- c(3,6,9)\n",
    "    num.runs <- 100\n",
    "    fp <- 0\n",
    "    l <- rep(NA, num.runs)\n",
    "    l.H0 <- rep(NA, num.runs)\n",
    "    for (i in 1:num.runs) {\n",
    "        x.sample <- matrix(rnorm((K)*n, mean=0, sd=1), nrow=K, ncol=n, byrow = T)\n",
    "        x <- split(x.sample, rep(1:nrow(x.sample), each = ncol(x.sample)))\n",
    "        H0 <- GenerateH0(x, n.lambda=n.lambda, alpha=alpha, min.idx=1)$H0\n",
    "        l[i] <- K\n",
    "        l.H0[i] <- length(H0[[length(n.lambda)]])\n",
    "    }\n",
    "    cat(paste(\"Type I Error (Normal): \", mean(l != l.H0)))\n",
    "    return(list(l=l, l.H0=l.H0))\n",
    "}\n",
    "rval <- ProcedureTypeOneError()"
   ]
  },
  {
   "cell_type": "code",
   "execution_count": null,
   "metadata": {},
   "outputs": [],
   "source": [
    "ProcedureTypeOneError <- function() {\n",
    "    K <- 100\n",
    "    n <- 50\n",
    "    n.lambda <- c(3,6,9)\n",
    "    num.runs <- 100\n",
    "    fp <- 0\n",
    "    l <- rep(NA, num.runs)\n",
    "    l.H0 <- rep(NA, num.runs)\n",
    "    for (i in 1:num.runs) {\n",
    "        x <- list()\n",
    "        x[[1]] <- rnorm(n)\n",
    "        for(j in 2:K){\n",
    "            x[[j]] <- rnorm(n)\n",
    "            while(mean(x[[j]]) < mean(x[[1]])){\n",
    "                x[[j]] <- rnorm(n)\n",
    "            }\n",
    "        }\n",
    "        H0 <- GenerateH0(x, n.lambda=n.lambda, alpha=alpha)$H0\n",
    "        l[i] <- K\n",
    "        l.H0[i] <- length(H0[[length(n.lambda)]])\n",
    "    }\n",
    "    cat(paste(\"Type I Error (Normal): \", mean(l != l.H0)))\n",
    "    return(list(l=l, l.H0=l.H0))\n",
    "}\n",
    "rval <- ProcedureTypeOneError()"
   ]
  },
  {
   "cell_type": "code",
   "execution_count": null,
   "metadata": {},
   "outputs": [],
   "source": [
    "rval$l.H0"
   ]
  },
  {
   "cell_type": "markdown",
   "metadata": {},
   "source": [
    "# MNIST"
   ]
  },
  {
   "cell_type": "code",
   "execution_count": 7,
   "metadata": {},
   "outputs": [
    {
     "name": "stdout",
     "output_type": "stream",
     "text": [
      "[1] \"Skipping 51 with number of repetitions 1\"\n",
      "[1] \"Skipping 102 with number of repetitions 1\"\n",
      "[1] \"Skipping 145 with number of repetitions 24\"\n",
      "[1] \"Skipping 146 with number of repetitions 24\"\n",
      "[1] \"Skipping 148 with number of repetitions 24\"\n",
      "[1] \"Skipping 161 with number of repetitions 22\"\n"
     ]
    }
   ],
   "source": [
    "results <- read.csv(\"./mnistcnn/mnist_results.csv\", header = T)\n",
    "completed <- subset(results, Status == 'COMPLETED')\n",
    "\n",
    "dropout.unique <- unique(completed$dropout)\n",
    "num.distinct.values <- length(dropout.unique)\n",
    "psi.mnist <- list()\n",
    "group.idx <- 1\n",
    "psi.idx <- 1\n",
    "for (group.idx in 1:num.distinct.values){\n",
    "    this.df <- subset(completed, dropout == dropout.unique[group.idx])\n",
    "    if (length(this.df$Objective) == 25){\n",
    "        psi.mnist[[psi.idx]] = this.df$Objective\n",
    "        psi.idx <- psi.idx + 1\n",
    "    } else {\n",
    "        print(paste(\"Skipping\", group.idx, \"with number of repetitions\", length(this.df$Objective)))\n",
    "    }\n",
    "}\n",
    "\n",
    "num.groups <- length(psi.mnist)"
   ]
  },
  {
   "cell_type": "code",
   "execution_count": null,
   "metadata": {},
   "outputs": [],
   "source": [
    "num.groups"
   ]
  },
  {
   "cell_type": "code",
   "execution_count": null,
   "metadata": {
    "collapsed": true
   },
   "outputs": [],
   "source": [
    "mean.psi <- unlist(lapply(psi.mnist, mean))\n",
    "lambda.star <- which.min(mean.psi)"
   ]
  },
  {
   "cell_type": "code",
   "execution_count": null,
   "metadata": {},
   "outputs": [],
   "source": [
    "num.samples <- 5\n",
    "# grp.idxs <- match(sort(sapply(psi.mnist, mean)), sapply(psi.mnist, mean))[1:num.samples]\n",
    "mean.sample <- sample(sapply(psi.mnist, mean), 100)\n",
    "grp.idxs <- match(sort(mean.sample), sapply(psi.mnist, mean))[1:num.samples]\n",
    "# grp.idxs <- sample(1:num.groups, num.samples)\n",
    "plot.df <- data.frame(MinValLoss=rep(NA, num.samples*25), Hyperparameters=rep(NA, num.samples*25))\n",
    "for(i in 1:num.samples){\n",
    "    plot.df$MinValLoss[((i-1)*25 + 1):((i)*25)] <- psi.mnist[[grp.idxs[i]]]\n",
    "    plot.df$Hyperparameters[((i-1)*25 + 1):((i)*25)] <- paste(grp.idxs[i], sep=\"\")\n",
    "}\n",
    "p <- ggplot(plot.df, aes(x=MinValLoss, fill=Hyperparameters))\n",
    "p <- p + geom_density(alpha=0.4)\n",
    "p <- p + labs(fill = \"HP Setting\", x=\"Minimum Validation Loss\", y=\"Density\")\n",
    "p"
   ]
  },
  {
   "cell_type": "code",
   "execution_count": null,
   "metadata": {
    "collapsed": true
   },
   "outputs": [],
   "source": [
    "ggsave(\"figures/MNIST-density.pdf\", plot=p, width=8, height=4)"
   ]
  },
  {
   "cell_type": "code",
   "execution_count": null,
   "metadata": {},
   "outputs": [],
   "source": [
    "N <- 50\n",
    "n.rows <- 4\n",
    "mnist.results <- data.frame('1'=rep(NA, n.rows),\n",
    "                            '5'=rep(NA, n.rows),\n",
    "                            '10'=rep(NA, n.rows),\n",
    "                            '3,6,9'=rep(NA, n.rows))\n",
    "rownames(mnist.results) <- c('$\\\\hat{\\\\Pr}(\\\\lambda^* \\\\in \\\\mathcal{H}_0)$',\n",
    "                             '$\\\\bar{|\\\\mathcal{H}_0|}$',\n",
    "                             '$\\\\hat{\\\\Pr}(\\\\lambda \\\\in \\\\mathcal{H}_0^c | \\\\lambda \\\\neq \\\\lambda^*)$',\n",
    "                             'Avg Evaluations')\n",
    "colnames(mnist.results) <- c('1', '5', '10', '(3,6,9)')\n",
    "num.runs <- 1000\n",
    "\n",
    "\n",
    "rval <- EvalMetrics(psi=psi.mnist, n.lambda=c(1), alpha=0.05, num.runs=num.runs, N=N)\n",
    "mnist.results[,1] <- unlist(rval)\n",
    "\n",
    "rval <- EvalMetrics(psi=psi.mnist, n.lambda=c(5), alpha=0.05, num.runs=num.runs, N=N)\n",
    "mnist.results[,2] <- unlist(rval)\n",
    "\n",
    "rval <- EvalMetrics(psi=psi.mnist, n.lambda=c(10), alpha=0.05, num.runs=num.runs, N=N)\n",
    "mnist.results[,3] <- unlist(rval)\n",
    "\n",
    "rval <- EvalMetrics(psi=psi.mnist, n.lambda=c(3,6,9), alpha=0.05, num.runs=num.runs, N=N)\n",
    "mnist.results[,4] <- unlist(rval)\n",
    "\n",
    "mnist.results <- round(mnist.results,2)\n",
    "mnist.results[4,] <- as.character(mnist.results[4,])\n",
    "mnist.results"
   ]
  },
  {
   "cell_type": "code",
   "execution_count": null,
   "metadata": {},
   "outputs": [],
   "source": [
    "print(xtable(mnist.results), type=\"latex\", sanitize.text.function = function(x){x})"
   ]
  },
  {
   "cell_type": "code",
   "execution_count": null,
   "metadata": {},
   "outputs": [],
   "source": [
    "N <- 100\n",
    "n.rows <- 4\n",
    "mnist.results <- data.frame('1'=rep(NA, n.rows),\n",
    "                            '5'=rep(NA, n.rows),\n",
    "                            '10'=rep(NA, n.rows),\n",
    "                            '3,6,9'=rep(NA, n.rows))\n",
    "rownames(mnist.results) <- c('$\\\\hat{\\\\Pr}(\\\\lambda^* \\\\in \\\\mathcal{H}_0)$',\n",
    "                             '$\\\\bar{|\\\\mathcal{H}_0|}$',\n",
    "                             '$\\\\hat{\\\\Pr}(\\\\lambda \\\\in \\\\mathcal{H}_0^c | \\\\lambda \\\\neq \\\\lambda^*)$',\n",
    "                             'Avg Evaluations')\n",
    "colnames(mnist.results) <- c('1', '5', '10', '(3,6,9)')\n",
    "num.runs <- 1000\n",
    "\n",
    "\n",
    "rval <- EvalMetrics(psi=psi.mnist, n.lambda=c(1), alpha=0.05, num.runs=num.runs, N=N)\n",
    "mnist.results[,1] <- unlist(rval)\n",
    "\n",
    "rval <- EvalMetrics(psi=psi.mnist, n.lambda=c(5), alpha=0.05, num.runs=num.runs, N=N)\n",
    "mnist.results[,2] <- unlist(rval)\n",
    "\n",
    "rval <- EvalMetrics(psi=psi.mnist, n.lambda=c(10), alpha=0.05, num.runs=num.runs, N=N)\n",
    "mnist.results[,3] <- unlist(rval)\n",
    "\n",
    "rval <- EvalMetrics(psi=psi.mnist, n.lambda=c(3,6,9), alpha=0.05, num.runs=num.runs, N=N)\n",
    "mnist.results[,4] <- unlist(rval)\n",
    "\n",
    "mnist.results <- round(mnist.results,2)\n",
    "mnist.results[4,] <- as.character(mnist.results[4,])\n",
    "mnist.results"
   ]
  },
  {
   "cell_type": "code",
   "execution_count": null,
   "metadata": {},
   "outputs": [],
   "source": [
    "print(xtable(mnist.results), type=\"latex\", sanitize.text.function = function(x){x})"
   ]
  },
  {
   "cell_type": "code",
   "execution_count": null,
   "metadata": {},
   "outputs": [],
   "source": [
    "N <- 150\n",
    "n.rows <- 4\n",
    "mnist.results <- data.frame('1'=rep(NA, n.rows),\n",
    "                            '5'=rep(NA, n.rows),\n",
    "                            '10'=rep(NA, n.rows),\n",
    "                            '3,6,9'=rep(NA, n.rows))\n",
    "rownames(mnist.results) <- c('$\\\\hat{\\\\Pr}(\\\\lambda^* \\\\in \\\\mathcal{H}_0)$',\n",
    "                             '$\\\\bar{|\\\\mathcal{H}_0|}$',\n",
    "                             '$\\\\hat{\\\\Pr}(\\\\lambda \\\\in \\\\mathcal{H}_0^c | \\\\lambda \\\\neq \\\\lambda^*)$',\n",
    "                             'Avg Evaluations')\n",
    "colnames(mnist.results) <- c('1', '5', '10', '(3,6,9)')\n",
    "num.runs <- 1000\n",
    "\n",
    "\n",
    "rval <- EvalMetrics(psi=psi.mnist, n.lambda=c(1), alpha=0.05, num.runs=num.runs, N=N)\n",
    "mnist.results[,1] <- unlist(rval)\n",
    "\n",
    "rval <- EvalMetrics(psi=psi.mnist, n.lambda=c(5), alpha=0.05, num.runs=num.runs, N=N)\n",
    "mnist.results[,2] <- unlist(rval)\n",
    "\n",
    "rval <- EvalMetrics(psi=psi.mnist, n.lambda=c(10), alpha=0.05, num.runs=num.runs, N=N)\n",
    "mnist.results[,3] <- unlist(rval)\n",
    "\n",
    "rval <- EvalMetrics(psi=psi.mnist, n.lambda=c(3,6,9), alpha=0.05, num.runs=num.runs, N=N)\n",
    "mnist.results[,4] <- unlist(rval)\n",
    "\n",
    "mnist.results <- round(mnist.results,2)\n",
    "mnist.results[4,] <- as.character(mnist.results[4,])\n",
    "mnist.results"
   ]
  },
  {
   "cell_type": "code",
   "execution_count": null,
   "metadata": {},
   "outputs": [],
   "source": [
    "print(xtable(mnist.results), type=\"latex\", sanitize.text.function = function(x){x})"
   ]
  },
  {
   "cell_type": "markdown",
   "metadata": {},
   "source": [
    "# Average Expected Difference"
   ]
  },
  {
   "cell_type": "code",
   "execution_count": null,
   "metadata": {
    "collapsed": true
   },
   "outputs": [],
   "source": [
    "diff <- EvalComparisonDiff(psi.mnist, n.lambda=c(3,6,9), alpha=0.05, num.runs=1000, N=50, post.opt.runs=25, sample.lambda = T)"
   ]
  },
  {
   "cell_type": "code",
   "execution_count": null,
   "metadata": {},
   "outputs": [],
   "source": [
    "round(mean(abs(diff)), 5)"
   ]
  },
  {
   "cell_type": "code",
   "execution_count": null,
   "metadata": {
    "collapsed": true
   },
   "outputs": [],
   "source": [
    "diff <- EvalComparisonDiff(psi.mnist, n.lambda=c(3,6,9), alpha=0.05, num.runs=1000, N=50, post.opt.runs=25, sample.lambda = F)"
   ]
  },
  {
   "cell_type": "code",
   "execution_count": null,
   "metadata": {},
   "outputs": [],
   "source": [
    "round(mean(abs(diff)), 5)"
   ]
  },
  {
   "cell_type": "code",
   "execution_count": null,
   "metadata": {
    "collapsed": true
   },
   "outputs": [],
   "source": [
    "diff <- EvalComparisonDiff(psi.mnist, n.lambda=c(1), alpha=0.05, num.runs=1000, N=172, post.opt.runs=25)"
   ]
  },
  {
   "cell_type": "code",
   "execution_count": null,
   "metadata": {},
   "outputs": [],
   "source": [
    "round(mean(abs(diff)), 5)"
   ]
  },
  {
   "cell_type": "markdown",
   "metadata": {},
   "source": [
    "# IMDB"
   ]
  },
  {
   "cell_type": "code",
   "execution_count": null,
   "metadata": {},
   "outputs": [],
   "source": [
    "completed <- read.csv(\"./imdblstm//imdb_results.csv\", header = T)\n",
    "test.acc <- read.csv(\"./imdblstm//imdb_results_test.csv\", header = T)\n",
    "\n",
    "\n",
    "dropout_embedding.unique <- unique(completed$dropout_embedding)\n",
    "num.distinct.values <- length(dropout_embedding.unique)\n",
    "psi.imdb <- list()\n",
    "psi.imdb.test <- list()\n",
    "group.idx <- 1\n",
    "psi.idx <- 1\n",
    "for (group.idx in 1:num.distinct.values){\n",
    "    this.df <- subset(completed, dropout_embedding == dropout_embedding.unique[group.idx])\n",
    "    this.test.df <- subset(test.acc, dropout_embedding == dropout_embedding.unique[group.idx])\n",
    "    if (length(this.df$Objective) == 25){\n",
    "        psi.imdb[[psi.idx]] = 1.-this.df$Objective\n",
    "        psi.imdb.test[[psi.idx]] = 1.-this.test.df$test_acc\n",
    "        psi.idx <- psi.idx + 1\n",
    "    } else {\n",
    "        print(paste(\"Skipping\", group.idx, \"with number of repetitions\", length(this.df$Objective)))\n",
    "    }\n",
    "}\n",
    "\n",
    "num.groups <- length(psi.imdb)"
   ]
  },
  {
   "cell_type": "code",
   "execution_count": null,
   "metadata": {},
   "outputs": [],
   "source": [
    "num.groups"
   ]
  },
  {
   "cell_type": "code",
   "execution_count": null,
   "metadata": {
    "collapsed": true
   },
   "outputs": [],
   "source": [
    "mean.psi <- unlist(lapply(psi.imdb, mean))\n",
    "lambda.star <- which.min(mean.psi)"
   ]
  },
  {
   "cell_type": "code",
   "execution_count": null,
   "metadata": {},
   "outputs": [],
   "source": [
    "num.samples <- 5\n",
    "# grp.idxs <- match(sort(sapply(psi.mnist, mean)), sapply(psi.mnist, mean))[1:num.samples]\n",
    "mean.sample <- sample(sapply(psi.imdb, mean), 100)\n",
    "grp.idxs <- match(sort(mean.sample), sapply(psi.imdb, mean))[1:num.samples]\n",
    "plot.df <- data.frame(MinValLoss=rep(NA, num.samples*25), Hyperparameters=rep(NA, num.samples*25))\n",
    "for(i in 1:num.samples){\n",
    "    plot.df$MinValLoss[((i-1)*25 + 1):((i)*25)] <- 1.-psi.imdb[[grp.idxs[i]]]\n",
    "    plot.df$Hyperparameters[((i-1)*25 + 1):((i)*25)] <- paste(\"lambda\", grp.idxs[i], sep=\"\")\n",
    "}\n",
    "p <- ggplot(plot.df, aes(x=MinValLoss, fill=Hyperparameters))\n",
    "p <- p + geom_density(alpha=0.4)\n",
    "p <- p + labs(fill = \"HP Setting\", x=\"Validation Accuracy\", y=\"Density\")\n",
    "p"
   ]
  },
  {
   "cell_type": "code",
   "execution_count": null,
   "metadata": {
    "collapsed": true
   },
   "outputs": [],
   "source": [
    "ggsave(\"figures/IMDB-density.pdf\", plot=p, width=8, height=4)"
   ]
  },
  {
   "cell_type": "code",
   "execution_count": null,
   "metadata": {},
   "outputs": [],
   "source": [
    "N <- 50\n",
    "n.rows <- 4\n",
    "imdb.results <- data.frame('1'=rep(NA, n.rows),\n",
    "                            '5'=rep(NA, n.rows),\n",
    "                            '10'=rep(NA, n.rows),\n",
    "                            '3,6,9'=rep(NA, n.rows))\n",
    "rownames(imdb.results) <- c('$\\\\hat{\\\\Pr}(\\\\lambda^* \\\\in \\\\mathcal{H}_0)$',\n",
    "                             '$\\\\bar{|\\\\mathcal{H}_0|}$',\n",
    "                             '$\\\\hat{\\\\Pr}(\\\\lambda \\\\in \\\\mathcal{H}_0^c | \\\\lambda \\\\neq \\\\lambda^*)$',\n",
    "                             'Avg Evaluations')\n",
    "colnames(imdb.results) <- c('1', '5', '10', '(3,6,9)')\n",
    "num.runs <- 1000\n",
    "\n",
    "rval <- EvalMetrics(psi=psi.imdb, n.lambda=c(1), alpha=0.05, num.runs=num.runs, N=N)\n",
    "imdb.results[,1] <- unlist(rval)\n",
    "\n",
    "rval <- EvalMetrics(psi=psi.imdb, n.lambda=c(5), alpha=0.05, num.runs=num.runs, N=N)\n",
    "imdb.results[,2] <- unlist(rval)\n",
    "\n",
    "rval <- EvalMetrics(psi=psi.imdb, n.lambda=c(10), alpha=0.05, num.runs=num.runs, N=N)\n",
    "imdb.results[,3] <- unlist(rval)\n",
    "\n",
    "rval <- EvalMetrics(psi=psi.imdb, n.lambda=c(3,6,9), alpha=0.05, num.runs=num.runs, N=N)\n",
    "imdb.results[,4] <- unlist(rval)\n",
    "\n",
    "imdb.results <- round(imdb.results,2)\n",
    "imdb.results[4,] <- as.character(imdb.results[4,])\n",
    "imdb.results"
   ]
  },
  {
   "cell_type": "code",
   "execution_count": null,
   "metadata": {},
   "outputs": [],
   "source": [
    "print(xtable(imdb.results), type=\"latex\", sanitize.text.function = function(x){x})"
   ]
  },
  {
   "cell_type": "code",
   "execution_count": null,
   "metadata": {},
   "outputs": [],
   "source": [
    "N <- 100\n",
    "n.rows <- 4\n",
    "imdb.results <- data.frame('1'=rep(NA, n.rows),\n",
    "                            '5'=rep(NA, n.rows),\n",
    "                            '10'=rep(NA, n.rows),\n",
    "                            '3,6,9'=rep(NA, n.rows))\n",
    "rownames(imdb.results) <- c('$\\\\hat{\\\\Pr}(\\\\lambda^* \\\\in \\\\mathcal{H}_0)$',\n",
    "                             '$\\\\bar{|\\\\mathcal{H}_0|}$',\n",
    "                             '$\\\\hat{\\\\Pr}(\\\\lambda \\\\in \\\\mathcal{H}_0^c | \\\\lambda \\\\neq \\\\lambda^*)$',\n",
    "                             'Avg Evaluations')\n",
    "colnames(imdb.results) <- c('1', '5', '10', '(3,6,9)')\n",
    "num.runs <- 1000\n",
    "\n",
    "rval <- EvalMetrics(psi=psi.imdb, n.lambda=c(1), alpha=0.05, num.runs=num.runs, N=N)\n",
    "imdb.results[,1] <- unlist(rval)\n",
    "\n",
    "rval <- EvalMetrics(psi=psi.imdb, n.lambda=c(5), alpha=0.05, num.runs=num.runs, N=N)\n",
    "imdb.results[,2] <- unlist(rval)\n",
    "\n",
    "rval <- EvalMetrics(psi=psi.imdb, n.lambda=c(10), alpha=0.05, num.runs=num.runs, N=N)\n",
    "imdb.results[,3] <- unlist(rval)\n",
    "\n",
    "rval <- EvalMetrics(psi=psi.imdb, n.lambda=c(3,6,9), alpha=0.05, num.runs=num.runs, N=N)\n",
    "imdb.results[,4] <- unlist(rval)\n",
    "\n",
    "imdb.results <- round(imdb.results,2)\n",
    "imdb.results[4,] <- as.character(imdb.results[4,])\n",
    "imdb.results"
   ]
  },
  {
   "cell_type": "code",
   "execution_count": null,
   "metadata": {},
   "outputs": [],
   "source": [
    "print(xtable(imdb.results), type=\"latex\", sanitize.text.function = function(x){x})"
   ]
  },
  {
   "cell_type": "code",
   "execution_count": null,
   "metadata": {},
   "outputs": [],
   "source": [
    "N <- 150\n",
    "n.rows <- 4\n",
    "imdb.results <- data.frame('1'=rep(NA, n.rows),\n",
    "                            '5'=rep(NA, n.rows),\n",
    "                            '10'=rep(NA, n.rows),\n",
    "                            '3,6,9'=rep(NA, n.rows))\n",
    "rownames(imdb.results) <- c('$\\\\hat{\\\\Pr}(\\\\lambda^* \\\\in \\\\mathcal{H}_0)$',\n",
    "                             '$\\\\bar{|\\\\mathcal{H}_0|}$',\n",
    "                             '$\\\\hat{\\\\Pr}(\\\\lambda \\\\in \\\\mathcal{H}_0^c | \\\\lambda \\\\neq \\\\lambda^*)$',\n",
    "                             'Avg Evaluations')\n",
    "colnames(imdb.results) <- c('1', '5', '10', '(3,6,9)')\n",
    "num.runs <- 1000\n",
    "\n",
    "rval <- EvalMetrics(psi=psi.imdb, n.lambda=c(1), alpha=0.05, num.runs=num.runs, N=N)\n",
    "imdb.results[,1] <- unlist(rval)\n",
    "\n",
    "rval <- EvalMetrics(psi=psi.imdb, n.lambda=c(5), alpha=0.05, num.runs=num.runs, N=N)\n",
    "imdb.results[,2] <- unlist(rval)\n",
    "\n",
    "rval <- EvalMetrics(psi=psi.imdb, n.lambda=c(10), alpha=0.05, num.runs=num.runs, N=N)\n",
    "imdb.results[,3] <- unlist(rval)\n",
    "\n",
    "rval <- EvalMetrics(psi=psi.imdb, n.lambda=c(3,6,9), alpha=0.05, num.runs=num.runs, N=N)\n",
    "imdb.results[,4] <- unlist(rval)\n",
    "\n",
    "imdb.results <- round(imdb.results,2)\n",
    "imdb.results[4,] <- as.character(imdb.results[4,])\n",
    "imdb.results"
   ]
  },
  {
   "cell_type": "code",
   "execution_count": null,
   "metadata": {},
   "outputs": [],
   "source": [
    "print(xtable(imdb.results), type=\"latex\", sanitize.text.function = function(x){x})"
   ]
  },
  {
   "cell_type": "markdown",
   "metadata": {},
   "source": [
    "# Mean and Var of Results"
   ]
  },
  {
   "cell_type": "code",
   "execution_count": null,
   "metadata": {
    "collapsed": true
   },
   "outputs": [],
   "source": [
    "rval.seq <- EvalMeanVar(psi.imdb, n.lambda=c(3,6,9), alpha=0.05, num.runs=1000, N=45, post.opt.runs=25, sample.lambda = F)"
   ]
  },
  {
   "cell_type": "code",
   "execution_count": null,
   "metadata": {},
   "outputs": [],
   "source": [
    "rval.seq$mean\n",
    "rval.seq$var"
   ]
  },
  {
   "cell_type": "code",
   "execution_count": null,
   "metadata": {
    "collapsed": true
   },
   "outputs": [],
   "source": [
    "# hist(rval.seq$expected.prediction.error)"
   ]
  },
  {
   "cell_type": "code",
   "execution_count": null,
   "metadata": {
    "collapsed": true
   },
   "outputs": [],
   "source": [
    "rval.reg <- EvalMeanVar(psi.imdb, n.lambda=c(1), alpha=0.05, num.runs=1000, N=155, post.opt.runs=25)"
   ]
  },
  {
   "cell_type": "code",
   "execution_count": null,
   "metadata": {},
   "outputs": [],
   "source": [
    "rval.reg$mean\n",
    "rval.reg$var"
   ]
  },
  {
   "cell_type": "code",
   "execution_count": null,
   "metadata": {
    "collapsed": true
   },
   "outputs": [],
   "source": [
    "# hist(rval.reg$expected.prediction.error)"
   ]
  },
  {
   "cell_type": "markdown",
   "metadata": {},
   "source": [
    "# Mean and Var of Results Test"
   ]
  },
  {
   "cell_type": "code",
   "execution_count": null,
   "metadata": {
    "collapsed": true
   },
   "outputs": [],
   "source": [
    "rval.seq <- EvalMeanVar(psi.imdb, n.lambda=c(3,6,9), alpha=0.05, num.runs=1000, N=45, post.opt.runs=25, sample.lambda = F)"
   ]
  },
  {
   "cell_type": "code",
   "execution_count": null,
   "metadata": {},
   "outputs": [],
   "source": [
    "rval.seq$mean\n",
    "rval.seq$var"
   ]
  },
  {
   "cell_type": "code",
   "execution_count": null,
   "metadata": {
    "collapsed": true
   },
   "outputs": [],
   "source": [
    "# hist(rval.seq$expected.prediction.error)"
   ]
  },
  {
   "cell_type": "code",
   "execution_count": null,
   "metadata": {
    "collapsed": true
   },
   "outputs": [],
   "source": [
    "rval.reg <- EvalMeanVar(psi.imdb, n.lambda=c(1), alpha=0.05, num.runs=1000, N=155, post.opt.runs=25)"
   ]
  },
  {
   "cell_type": "code",
   "execution_count": null,
   "metadata": {},
   "outputs": [],
   "source": [
    "rval.reg$mean\n",
    "rval.reg$var"
   ]
  },
  {
   "cell_type": "code",
   "execution_count": null,
   "metadata": {
    "collapsed": true
   },
   "outputs": [],
   "source": [
    "# hist(rval.reg$expected.prediction.error)"
   ]
  },
  {
   "cell_type": "markdown",
   "metadata": {},
   "source": [
    "# Mean and Var of Results"
   ]
  },
  {
   "cell_type": "code",
   "execution_count": null,
   "metadata": {
    "collapsed": true
   },
   "outputs": [],
   "source": [
    "rval.seq <- EvalMeanVar(psi.imdb, n.lambda=c(3,6,9), alpha=0.05, num.runs=1000, N=45, post.opt.runs=25, sample.lambda = F, psi.test=psi.imdb.test)"
   ]
  },
  {
   "cell_type": "code",
   "execution_count": null,
   "metadata": {},
   "outputs": [],
   "source": [
    "rval.seq$mean\n",
    "rval.seq$var"
   ]
  },
  {
   "cell_type": "code",
   "execution_count": null,
   "metadata": {
    "collapsed": true
   },
   "outputs": [],
   "source": [
    "# hist(rval.seq$expected.prediction.error)"
   ]
  },
  {
   "cell_type": "code",
   "execution_count": null,
   "metadata": {
    "collapsed": true
   },
   "outputs": [],
   "source": [
    "rval.reg <- EvalMeanVar(psi.imdb, n.lambda=c(1), alpha=0.05, num.runs=1000, N=155, post.opt.runs=25, psi.test=psi.imdb.test)"
   ]
  },
  {
   "cell_type": "code",
   "execution_count": null,
   "metadata": {},
   "outputs": [],
   "source": [
    "rval.reg$mean\n",
    "rval.reg$var"
   ]
  },
  {
   "cell_type": "code",
   "execution_count": null,
   "metadata": {
    "collapsed": true
   },
   "outputs": [],
   "source": [
    "# hist(rval.reg$expected.prediction.error)"
   ]
  },
  {
   "cell_type": "markdown",
   "metadata": {},
   "source": [
    "# Average Expected Difference"
   ]
  },
  {
   "cell_type": "code",
   "execution_count": null,
   "metadata": {
    "collapsed": true
   },
   "outputs": [],
   "source": [
    "diff <- EvalComparisonDiff(psi.imdb, n.lambda=c(3,6,9), alpha=0.05, num.runs=1000, N=45, post.opt.runs=25, sample.lambda = T)"
   ]
  },
  {
   "cell_type": "code",
   "execution_count": null,
   "metadata": {},
   "outputs": [],
   "source": [
    "round(mean(abs(diff)), 5)"
   ]
  },
  {
   "cell_type": "code",
   "execution_count": null,
   "metadata": {},
   "outputs": [],
   "source": [
    "diff <- EvalComparisonDiff(psi.imdb, n.lambda=c(3,6,9), alpha=0.05, num.runs=1000, N=45, post.opt.runs=25, sample.lambda = F)"
   ]
  },
  {
   "cell_type": "code",
   "execution_count": null,
   "metadata": {},
   "outputs": [],
   "source": [
    "round(mean(abs(diff)), 5)"
   ]
  },
  {
   "cell_type": "code",
   "execution_count": null,
   "metadata": {
    "collapsed": true
   },
   "outputs": [],
   "source": [
    "diff <- EvalComparisonDiff(psi.imdb, n.lambda=c(1), alpha=0.05, num.runs=1000, N=155, post.opt.runs=25)"
   ]
  },
  {
   "cell_type": "code",
   "execution_count": null,
   "metadata": {},
   "outputs": [],
   "source": [
    "round(mean(abs(diff)), 5)"
   ]
  },
  {
   "cell_type": "code",
   "execution_count": null,
   "metadata": {
    "collapsed": true
   },
   "outputs": [],
   "source": [
    "diff <- EvalComparisonDiff(psi.imdb, n.lambda=c(3,6,9), alpha=0.05, num.runs=1000, N=45, post.opt.runs=25, sample.lambda = T, psi.test=psi.imdb.test)"
   ]
  },
  {
   "cell_type": "code",
   "execution_count": null,
   "metadata": {},
   "outputs": [],
   "source": [
    "round(mean(abs(diff)), 5)"
   ]
  },
  {
   "cell_type": "code",
   "execution_count": null,
   "metadata": {
    "collapsed": true
   },
   "outputs": [],
   "source": [
    "diff <- EvalComparisonDiff(psi.imdb, n.lambda=c(3,6,9), alpha=0.05, num.runs=1000, N=45, post.opt.runs=25, sample.lambda = F, psi.test=psi.imdb.test)"
   ]
  },
  {
   "cell_type": "code",
   "execution_count": null,
   "metadata": {},
   "outputs": [],
   "source": [
    "round(mean(abs(diff)), 5)"
   ]
  },
  {
   "cell_type": "code",
   "execution_count": null,
   "metadata": {
    "collapsed": true
   },
   "outputs": [],
   "source": [
    "diff <- EvalComparisonDiff(psi.imdb, n.lambda=c(1), alpha=0.05, num.runs=1000, N=155, post.opt.runs=25, psi.test=psi.imdb.test)"
   ]
  },
  {
   "cell_type": "code",
   "execution_count": null,
   "metadata": {},
   "outputs": [],
   "source": [
    "round(mean(abs(diff)), 5)"
   ]
  },
  {
   "cell_type": "markdown",
   "metadata": {},
   "source": [
    "# Boston"
   ]
  },
  {
   "cell_type": "code",
   "execution_count": null,
   "metadata": {
    "collapsed": true
   },
   "outputs": [],
   "source": [
    "results <- read.csv(\"./bostongbrt/boston_results.csv\", header = T)\n",
    "completed <- subset(results, Status == 'COMPLETED')\n",
    "completed <- completed[order(completed$Trial.ID),]\n",
    "\n",
    "subsample.unique <- unique(completed$subsample)\n",
    "num.groups <- length(subsample.unique)\n",
    "\n",
    "psi.boston <- list()\n",
    "for(i in 1:num.groups){\n",
    "    this.df <- subset(completed, subsample == subsample.unique[i])\n",
    "    psi.boston[[i]] <- this.df$Objective\n",
    "}\n",
    "lambda.star <- which.min(unlist(lapply(psi.boston, mean)))"
   ]
  },
  {
   "cell_type": "code",
   "execution_count": null,
   "metadata": {},
   "outputs": [],
   "source": [
    "num.samples <- 5\n",
    "mean.sample <- sample(sapply(psi.boston, mean), 100)\n",
    "grp.idxs <- match(sort(mean.sample), sapply(psi.boston, mean))[1:num.samples]\n",
    "plot.df <- data.frame(MinValLoss=rep(NA, num.samples*25), Hyperparameters=rep(NA, num.samples*25))\n",
    "for(i in 1:num.samples){\n",
    "    plot.df$MinValLoss[((i-1)*25 + 1):((i)*25)] <- psi.boston[[grp.idxs[i]]]\n",
    "    plot.df$Hyperparameters[((i-1)*25 + 1):((i)*25)] <- paste(\"\", grp.idxs[i], sep=\"\")\n",
    "#     plot.df$Group[((i-1)*25 + 1):((i)*25)] <- TeX(paste(\"$\\\\lambda_\", grp.idxs[i], \"$\", sep=\"\"))\n",
    "}\n",
    "p <- ggplot(plot.df, aes(x=MinValLoss, fill=Hyperparameters))\n",
    "p <- p + geom_density(alpha=0.4)\n",
    "p <- p + labs(fill = \"HP Setting\", x=\"Validation Mean Squared Error\", y=\"Density\")\n",
    "p"
   ]
  },
  {
   "cell_type": "code",
   "execution_count": null,
   "metadata": {
    "collapsed": true
   },
   "outputs": [],
   "source": [
    "ggsave(\"figures/Boston-density.pdf\", plot=p, width=8, height=4)"
   ]
  },
  {
   "cell_type": "code",
   "execution_count": null,
   "metadata": {},
   "outputs": [],
   "source": [
    "N <- 50\n",
    "\n",
    "n.rows <- 4\n",
    "boston.results <- data.frame('1'=rep(NA, n.rows),\n",
    "                            '5'=rep(NA, n.rows),\n",
    "                            '10'=rep(NA, n.rows),\n",
    "                            '3,6,9'=rep(NA, n.rows))\n",
    "rownames(boston.results) <- c('$\\\\hat{\\\\Pr}(\\\\lambda^* \\\\in \\\\mathcal{H}_0)$',\n",
    "                             '$\\\\bar{|\\\\mathcal{H}_0|}$',\n",
    "                             '$\\\\hat{\\\\Pr}(\\\\lambda \\\\in \\\\mathcal{H}_0^c | \\\\lambda \\\\neq \\\\lambda^*)$',\n",
    "                             'Avg Evaluations')\n",
    "colnames(boston.results) <- c('1', '5', '10', '(3,6,9)')\n",
    "num.runs <- 1000\n",
    "\n",
    "rval <- EvalMetrics(psi=psi.boston, n.lambda=c(1), alpha=0.05, num.runs=num.runs, N=N)\n",
    "boston.results[,1] <- unlist(rval)\n",
    "\n",
    "rval <- EvalMetrics(psi=psi.boston, n.lambda=c(5), alpha=0.05, num.runs=num.runs, N=N)\n",
    "boston.results[,2] <- unlist(rval)\n",
    "\n",
    "rval <- EvalMetrics(psi=psi.boston, n.lambda=c(10), alpha=0.05, num.runs=num.runs, N=N)\n",
    "boston.results[,3] <- unlist(rval)\n",
    "\n",
    "rval <- EvalMetrics(psi=psi.boston, n.lambda=c(3,6,9), alpha=0.05, num.runs=num.runs, N=N)\n",
    "boston.results[,4] <- unlist(rval)\n",
    "\n",
    "boston.results <- round(boston.results,2)\n",
    "boston.results[4,] <- as.character(boston.results[4,])\n",
    "boston.results"
   ]
  },
  {
   "cell_type": "code",
   "execution_count": null,
   "metadata": {},
   "outputs": [],
   "source": [
    "print(xtable(boston.results), type=\"latex\", sanitize.text.function = function(x){x})"
   ]
  },
  {
   "cell_type": "code",
   "execution_count": null,
   "metadata": {},
   "outputs": [],
   "source": [
    "N <- 100\n",
    "\n",
    "n.rows <- 4\n",
    "boston.results <- data.frame('1'=rep(NA, n.rows),\n",
    "                            '5'=rep(NA, n.rows),\n",
    "                            '10'=rep(NA, n.rows),\n",
    "                            '3,6,9'=rep(NA, n.rows))\n",
    "rownames(boston.results) <- c('$\\\\hat{\\\\Pr}(\\\\lambda^* \\\\in \\\\mathcal{H}_0)$',\n",
    "                             '$\\\\bar{|\\\\mathcal{H}_0|}$',\n",
    "                             '$\\\\hat{\\\\Pr}(\\\\lambda \\\\in \\\\mathcal{H}_0^c | \\\\lambda \\\\neq \\\\lambda^*)$',\n",
    "                             'Avg Evaluations')\n",
    "colnames(boston.results) <- c('1', '5', '10', '(3,6,9)')\n",
    "num.runs <- 1000\n",
    "\n",
    "rval <- EvalMetrics(psi=psi.boston, n.lambda=c(1), alpha=0.05, num.runs=num.runs, N=N)\n",
    "boston.results[,1] <- unlist(rval)\n",
    "\n",
    "rval <- EvalMetrics(psi=psi.boston, n.lambda=c(5), alpha=0.05, num.runs=num.runs, N=N)\n",
    "boston.results[,2] <- unlist(rval)\n",
    "\n",
    "rval <- EvalMetrics(psi=psi.boston, n.lambda=c(10), alpha=0.05, num.runs=num.runs, N=N)\n",
    "boston.results[,3] <- unlist(rval)\n",
    "\n",
    "rval <- EvalMetrics(psi=psi.boston, n.lambda=c(3,6,9), alpha=0.05, num.runs=num.runs, N=N)\n",
    "boston.results[,4] <- unlist(rval)\n",
    "\n",
    "boston.results <- round(boston.results,2)\n",
    "boston.results[4,] <- as.character(boston.results[4,])\n",
    "boston.results"
   ]
  },
  {
   "cell_type": "code",
   "execution_count": null,
   "metadata": {},
   "outputs": [],
   "source": [
    "print(xtable(boston.results), type=\"latex\", sanitize.text.function = function(x){x})"
   ]
  },
  {
   "cell_type": "code",
   "execution_count": null,
   "metadata": {},
   "outputs": [],
   "source": [
    "N <- 150\n",
    "\n",
    "n.rows <- 4\n",
    "boston.results <- data.frame('1'=rep(NA, n.rows),\n",
    "                            '5'=rep(NA, n.rows),\n",
    "                            '10'=rep(NA, n.rows),\n",
    "                            '3,6,9'=rep(NA, n.rows))\n",
    "rownames(boston.results) <- c('$\\\\hat{\\\\Pr}(\\\\lambda^* \\\\in \\\\mathcal{H}_0)$',\n",
    "                             '$\\\\bar{|\\\\mathcal{H}_0|}$',\n",
    "                             '$\\\\hat{\\\\Pr}(\\\\lambda \\\\in \\\\mathcal{H}_0^c | \\\\lambda \\\\neq \\\\lambda^*)$',\n",
    "                             'Avg Evaluations')\n",
    "colnames(boston.results) <- c('1', '5', '10', '(3,6,9)')\n",
    "num.runs <- 1000\n",
    "\n",
    "rval <- EvalMetrics(psi=psi.boston, n.lambda=c(1), alpha=0.05, num.runs=num.runs, N=N)\n",
    "boston.results[,1] <- unlist(rval)\n",
    "\n",
    "rval <- EvalMetrics(psi=psi.boston, n.lambda=c(5), alpha=0.05, num.runs=num.runs, N=N)\n",
    "boston.results[,2] <- unlist(rval)\n",
    "\n",
    "rval <- EvalMetrics(psi=psi.boston, n.lambda=c(10), alpha=0.05, num.runs=num.runs, N=N)\n",
    "boston.results[,3] <- unlist(rval)\n",
    "\n",
    "rval <- EvalMetrics(psi=psi.boston, n.lambda=c(3,6,9), alpha=0.05, num.runs=num.runs, N=N)\n",
    "boston.results[,4] <- unlist(rval)\n",
    "\n",
    "boston.results <- round(boston.results,2)\n",
    "boston.results[4,] <- as.character(boston.results[4,])\n",
    "boston.results"
   ]
  },
  {
   "cell_type": "code",
   "execution_count": null,
   "metadata": {},
   "outputs": [],
   "source": [
    "print(xtable(boston.results), type=\"latex\", sanitize.text.function = function(x){x})"
   ]
  },
  {
   "cell_type": "markdown",
   "metadata": {},
   "source": [
    "# Mean and Var of Results"
   ]
  },
  {
   "cell_type": "code",
   "execution_count": null,
   "metadata": {},
   "outputs": [],
   "source": [
    "length(psi.boston)"
   ]
  },
  {
   "cell_type": "code",
   "execution_count": null,
   "metadata": {
    "collapsed": true
   },
   "outputs": [],
   "source": [
    "rval.seq <- EvalMeanVar(psi.boston, n.lambda=c(3,6,9), alpha=0.05, num.runs=1000, N=100, post.opt.runs=25, sample.lambda = F)"
   ]
  },
  {
   "cell_type": "code",
   "execution_count": null,
   "metadata": {},
   "outputs": [],
   "source": [
    "rval.seq$mean\n",
    "rval.seq$var"
   ]
  },
  {
   "cell_type": "code",
   "execution_count": null,
   "metadata": {
    "collapsed": true
   },
   "outputs": [],
   "source": [
    "# hist(rval.seq$expected.prediction.error)"
   ]
  },
  {
   "cell_type": "code",
   "execution_count": null,
   "metadata": {
    "collapsed": true
   },
   "outputs": [],
   "source": [
    "rval.reg <- EvalMeanVar(psi.boston, n.lambda=c(1), alpha=0.05, num.runs=1000, N=700, post.opt.runs=25)"
   ]
  },
  {
   "cell_type": "code",
   "execution_count": null,
   "metadata": {},
   "outputs": [],
   "source": [
    "rval.reg$mean\n",
    "rval.reg$var"
   ]
  },
  {
   "cell_type": "code",
   "execution_count": null,
   "metadata": {
    "collapsed": true
   },
   "outputs": [],
   "source": [
    "# hist(rval.reg$expected.prediction.error)"
   ]
  },
  {
   "cell_type": "markdown",
   "metadata": {},
   "source": [
    "# Average Expected Difference"
   ]
  },
  {
   "cell_type": "code",
   "execution_count": null,
   "metadata": {
    "collapsed": true
   },
   "outputs": [],
   "source": [
    "diff <- EvalComparisonDiff(psi.boston, n.lambda=c(3,6,9), alpha=0.05, num.runs=1000, N=50, post.opt.runs=25, sample.lambda = T)"
   ]
  },
  {
   "cell_type": "code",
   "execution_count": null,
   "metadata": {},
   "outputs": [],
   "source": [
    "round(mean(abs(diff)), 5)"
   ]
  },
  {
   "cell_type": "code",
   "execution_count": null,
   "metadata": {
    "collapsed": true
   },
   "outputs": [],
   "source": [
    "diff <- EvalComparisonDiff(psi.boston, n.lambda=c(3,6,9), alpha=0.05, num.runs=1000, N=50, post.opt.runs=25, sample.lambda = F)"
   ]
  },
  {
   "cell_type": "code",
   "execution_count": null,
   "metadata": {},
   "outputs": [],
   "source": [
    "round(mean(abs(diff)), 5)"
   ]
  },
  {
   "cell_type": "code",
   "execution_count": null,
   "metadata": {
    "collapsed": true
   },
   "outputs": [],
   "source": [
    "diff <- EvalComparisonDiff(psi.boston, n.lambda=c(1), alpha=0.05, num.runs=1000, N=320, post.opt.runs=25)"
   ]
  },
  {
   "cell_type": "code",
   "execution_count": null,
   "metadata": {},
   "outputs": [],
   "source": [
    "round(mean(abs(diff)), 5)"
   ]
  },
  {
   "cell_type": "markdown",
   "metadata": {},
   "source": [
    "# Cartpole"
   ]
  },
  {
   "cell_type": "code",
   "execution_count": null,
   "metadata": {
    "collapsed": true
   },
   "outputs": [],
   "source": [
    "completed <- read.csv(\"./cartpole/cartpole_results.csv\", header = T)\n",
    "completed <- completed[order(completed$Trial.ID),]\n",
    "\n",
    "gamma.unique <- unique(completed$gamma)\n",
    "num.groups <- length(gamma.unique)\n",
    "\n",
    "psi.cartpole <- list()\n",
    "for(i in 1:num.groups){\n",
    "    this.df <- subset(completed, gamma == gamma.unique[i])\n",
    "    psi.cartpole[[i]] <- 1-this.df$auc\n",
    "}\n",
    "lambda.star <- which.min(unlist(lapply(psi.cartpole, mean)))"
   ]
  },
  {
   "cell_type": "code",
   "execution_count": null,
   "metadata": {},
   "outputs": [],
   "source": [
    "num.samples <- 5\n",
    "grp.idxs <- match(sort(sapply(psi.cartpole, mean)), sapply(psi.cartpole, mean))[1:num.samples]\n",
    "# mean.sample <- sample(sapply(psi.cartpole, mean), 100)\n",
    "# grp.idxs <- match(sort(mean.sample), sapply(psi.cartpole, mean))[1:num.samples]\n",
    "plot.df <- data.frame(MinValLoss=rep(NA, num.samples*25), Hyperparameters=rep(NA, num.samples*25))\n",
    "for(i in 1:num.samples){\n",
    "    plot.df$MinValLoss[((i-1)*25 + 1):((i)*25)] <- 1.-psi.cartpole[[grp.idxs[i]]]\n",
    "    plot.df$Hyperparameters[((i-1)*25 + 1):((i)*25)] <- paste(\"\", grp.idxs[i], sep=\"\")\n",
    "}\n",
    "p <- ggplot(plot.df, aes(x=MinValLoss, fill=Hyperparameters))\n",
    "p <- p + geom_density(alpha=0.4)\n",
    "p <- p + labs(fill = \"HP Setting\", x=\"AUC\", y=\"Density\")\n",
    "p"
   ]
  },
  {
   "cell_type": "code",
   "execution_count": null,
   "metadata": {
    "collapsed": true
   },
   "outputs": [],
   "source": [
    "ggsave(\"figures/Cartpole-density.pdf\", plot=p, width=8, height=4)"
   ]
  },
  {
   "cell_type": "code",
   "execution_count": null,
   "metadata": {},
   "outputs": [],
   "source": [
    "N <- 50\n",
    "\n",
    "n.rows <- 4\n",
    "cartpole.results <- data.frame('1'=rep(NA, n.rows),\n",
    "                            '5'=rep(NA, n.rows),\n",
    "                            '10'=rep(NA, n.rows),\n",
    "                            '3,6,9'=rep(NA, n.rows))\n",
    "rownames(cartpole.results) <- c('$\\\\hat{\\\\Pr}(\\\\lambda^* \\\\in \\\\mathcal{H}_0)$',\n",
    "                             '$\\\\bar{|\\\\mathcal{H}_0|}$',\n",
    "                             '$\\\\hat{\\\\Pr}(\\\\lambda \\\\in \\\\mathcal{H}_0^c | \\\\lambda \\\\neq \\\\lambda^*)$',\n",
    "                             'Avg Evaluations')\n",
    "colnames(cartpole.results) <- c('1', '5', '10', '(3,6,9)')\n",
    "num.runs <- 1000\n",
    "\n",
    "rval <- EvalMetrics(psi=psi.cartpole, n.lambda=c(1), alpha=0.05, num.runs=num.runs, N=N)\n",
    "cartpole.results[,1] <- unlist(rval)\n",
    "\n",
    "rval <- EvalMetrics(psi=psi.cartpole, n.lambda=c(5), alpha=0.05, num.runs=num.runs, N=N)\n",
    "cartpole.results[,2] <- unlist(rval)\n",
    "\n",
    "rval <- EvalMetrics(psi=psi.cartpole, n.lambda=c(10), alpha=0.05, num.runs=num.runs, N=N)\n",
    "cartpole.results[,3] <- unlist(rval)\n",
    "\n",
    "rval <- EvalMetrics(psi=psi.cartpole, n.lambda=c(3,6,9), alpha=0.05, num.runs=num.runs, N=N)\n",
    "cartpole.results[,4] <- unlist(rval)\n",
    "\n",
    "cartpole.results <- round(cartpole.results,2)\n",
    "cartpole.results[4,] <- as.character(cartpole.results[4,])\n",
    "cartpole.results"
   ]
  },
  {
   "cell_type": "code",
   "execution_count": null,
   "metadata": {},
   "outputs": [],
   "source": [
    "print(xtable(cartpole.results), type=\"latex\", sanitize.text.function = function(x){x})"
   ]
  },
  {
   "cell_type": "code",
   "execution_count": null,
   "metadata": {},
   "outputs": [],
   "source": [
    "N <- 100\n",
    "\n",
    "n.rows <- 4\n",
    "cartpole.results <- data.frame('1'=rep(NA, n.rows),\n",
    "                            '5'=rep(NA, n.rows),\n",
    "                            '10'=rep(NA, n.rows),\n",
    "                            '3,6,9'=rep(NA, n.rows))\n",
    "rownames(cartpole.results) <- c('$\\\\hat{\\\\Pr}(\\\\lambda^* \\\\in \\\\mathcal{H}_0)$',\n",
    "                             '$\\\\bar{|\\\\mathcal{H}_0|}$',\n",
    "                             '$\\\\hat{\\\\Pr}(\\\\lambda \\\\in \\\\mathcal{H}_0^c | \\\\lambda \\\\neq \\\\lambda^*)$',\n",
    "                             'Avg Evaluations')\n",
    "colnames(cartpole.results) <- c('1', '5', '10', '(3,6,9)')\n",
    "num.runs <- 1000\n",
    "\n",
    "rval <- EvalMetrics(psi=psi.cartpole, n.lambda=c(1), alpha=0.05, num.runs=num.runs, N=N)\n",
    "cartpole.results[,1] <- unlist(rval)\n",
    "\n",
    "rval <- EvalMetrics(psi=psi.cartpole, n.lambda=c(5), alpha=0.05, num.runs=num.runs, N=N)\n",
    "cartpole.results[,2] <- unlist(rval)\n",
    "\n",
    "rval <- EvalMetrics(psi=psi.cartpole, n.lambda=c(10), alpha=0.05, num.runs=num.runs, N=N)\n",
    "cartpole.results[,3] <- unlist(rval)\n",
    "\n",
    "rval <- EvalMetrics(psi=psi.cartpole, n.lambda=c(3,6,9), alpha=0.05, num.runs=num.runs, N=N)\n",
    "cartpole.results[,4] <- unlist(rval)\n",
    "\n",
    "cartpole.results <- round(cartpole.results,2)\n",
    "cartpole.results[4,] <- as.character(cartpole.results[4,])\n",
    "cartpole.results"
   ]
  },
  {
   "cell_type": "code",
   "execution_count": null,
   "metadata": {},
   "outputs": [],
   "source": [
    "print(xtable(cartpole.results), type=\"latex\", sanitize.text.function = function(x){x})"
   ]
  },
  {
   "cell_type": "code",
   "execution_count": null,
   "metadata": {},
   "outputs": [],
   "source": [
    "N <- 150\n",
    "\n",
    "n.rows <- 4\n",
    "cartpole.results <- data.frame('1'=rep(NA, n.rows),\n",
    "                            '5'=rep(NA, n.rows),\n",
    "                            '10'=rep(NA, n.rows),\n",
    "                            '3,6,9'=rep(NA, n.rows))\n",
    "rownames(cartpole.results) <- c('$\\\\hat{\\\\Pr}(\\\\lambda^* \\\\in \\\\mathcal{H}_0)$',\n",
    "                             '$\\\\bar{|\\\\mathcal{H}_0|}$',\n",
    "                             '$\\\\hat{\\\\Pr}(\\\\lambda \\\\in \\\\mathcal{H}_0^c | \\\\lambda \\\\neq \\\\lambda^*)$',\n",
    "                             'Avg Evaluations')\n",
    "colnames(cartpole.results) <- c('1', '5', '10', '(3,6,9)')\n",
    "num.runs <- 1000\n",
    "\n",
    "rval <- EvalMetrics(psi=psi.cartpole, n.lambda=c(1), alpha=0.05, num.runs=num.runs, N=N)\n",
    "cartpole.results[,1] <- unlist(rval)\n",
    "\n",
    "rval <- EvalMetrics(psi=psi.cartpole, n.lambda=c(5), alpha=0.05, num.runs=num.runs, N=N)\n",
    "cartpole.results[,2] <- unlist(rval)\n",
    "\n",
    "rval <- EvalMetrics(psi=psi.cartpole, n.lambda=c(10), alpha=0.05, num.runs=num.runs, N=N)\n",
    "cartpole.results[,3] <- unlist(rval)\n",
    "\n",
    "rval <- EvalMetrics(psi=psi.cartpole, n.lambda=c(3,6,9), alpha=0.05, num.runs=num.runs, N=N)\n",
    "cartpole.results[,4] <- unlist(rval)\n",
    "\n",
    "cartpole.results <- round(cartpole.results,2)\n",
    "cartpole.results[4,] <- as.character(cartpole.results[4,])\n",
    "cartpole.results"
   ]
  },
  {
   "cell_type": "code",
   "execution_count": null,
   "metadata": {},
   "outputs": [],
   "source": [
    "print(xtable(cartpole.results), type=\"latex\", sanitize.text.function = function(x){x})"
   ]
  },
  {
   "cell_type": "markdown",
   "metadata": {},
   "source": [
    "# Mean and Var of Results"
   ]
  },
  {
   "cell_type": "code",
   "execution_count": null,
   "metadata": {},
   "outputs": [],
   "source": [
    "length(psi.cartpole)"
   ]
  },
  {
   "cell_type": "code",
   "execution_count": null,
   "metadata": {
    "collapsed": true
   },
   "outputs": [],
   "source": [
    "rval.seq <- EvalMeanVar(psi.cartpole, n.lambda=c(3,6,9), alpha=0.05, num.runs=1000, N=50, post.opt.runs=25, sample.lambda = F)"
   ]
  },
  {
   "cell_type": "code",
   "execution_count": null,
   "metadata": {},
   "outputs": [],
   "source": [
    "rval.seq$mean\n",
    "rval.seq$var"
   ]
  },
  {
   "cell_type": "code",
   "execution_count": null,
   "metadata": {
    "collapsed": true
   },
   "outputs": [],
   "source": [
    "# hist(rval.seq$expected.prediction.error)"
   ]
  },
  {
   "cell_type": "code",
   "execution_count": null,
   "metadata": {
    "collapsed": true
   },
   "outputs": [],
   "source": [
    "rval.reg <- EvalMeanVar(psi.cartpole, n.lambda=c(1), alpha=0.05, num.runs=1000, N=159, post.opt.runs=25)"
   ]
  },
  {
   "cell_type": "code",
   "execution_count": null,
   "metadata": {},
   "outputs": [],
   "source": [
    "rval.reg$mean\n",
    "rval.reg$var"
   ]
  },
  {
   "cell_type": "code",
   "execution_count": null,
   "metadata": {
    "collapsed": true
   },
   "outputs": [],
   "source": [
    "# hist(rval.reg$expected.prediction.error)"
   ]
  },
  {
   "cell_type": "markdown",
   "metadata": {},
   "source": [
    "# Average Expected Difference"
   ]
  },
  {
   "cell_type": "code",
   "execution_count": null,
   "metadata": {
    "collapsed": true
   },
   "outputs": [],
   "source": [
    "diff <- EvalComparisonDiff(psi.cartpole, n.lambda=c(3,6,9), alpha=0.05, num.runs=1000, N=50, post.opt.runs=25, sample.lambda = T)"
   ]
  },
  {
   "cell_type": "code",
   "execution_count": null,
   "metadata": {},
   "outputs": [],
   "source": [
    "round(mean(abs(diff)), 5)"
   ]
  },
  {
   "cell_type": "code",
   "execution_count": null,
   "metadata": {
    "collapsed": true
   },
   "outputs": [],
   "source": [
    "diff <- EvalComparisonDiff(psi.cartpole, n.lambda=c(3,6,9), alpha=0.05, num.runs=1000, N=50, post.opt.runs=25, sample.lambda = F)"
   ]
  },
  {
   "cell_type": "code",
   "execution_count": null,
   "metadata": {},
   "outputs": [],
   "source": [
    "round(mean(abs(diff)), 5)"
   ]
  },
  {
   "cell_type": "code",
   "execution_count": null,
   "metadata": {
    "collapsed": true
   },
   "outputs": [],
   "source": [
    "diff <- EvalComparisonDiff(psi.cartpole, n.lambda=c(1), alpha=0.05, num.runs=1000, N=159, post.opt.runs=25)"
   ]
  },
  {
   "cell_type": "code",
   "execution_count": null,
   "metadata": {},
   "outputs": [],
   "source": [
    "round(mean(abs(diff)), 5)"
   ]
  },
  {
   "cell_type": "markdown",
   "metadata": {},
   "source": [
    "# CIFAR10 Grid Search"
   ]
  },
  {
   "cell_type": "code",
   "execution_count": null,
   "metadata": {
    "collapsed": true
   },
   "outputs": [],
   "source": [
    "results <- read.csv(\"./cifar10resnet/cifar10_resnet.csv\", header = T)\n",
    "completed <- results[results$Status==\"COMPLETED\",]\n",
    "completed <- completed[order(completed$Trial.ID),]\n",
    "\n",
    "lr.unique <- unique(completed$lr)\n",
    "num.groups <- length(lr.unique)\n",
    "lr <- rep(NA, 10)\n",
    "\n",
    "psi.cifar <- list()\n",
    "for(i in 1:num.groups){\n",
    "    this.df <- subset(completed, lr == lr.unique[i])\n",
    "    psi.cifar[[i]] <- 1-this.df$Objective\n",
    "    lr[i] <- lr.unique[i]\n",
    "}\n",
    "lambda.star <- which.min(unlist(lapply(psi.cifar, mean)))"
   ]
  },
  {
   "cell_type": "code",
   "execution_count": null,
   "metadata": {
    "collapsed": true
   },
   "outputs": [],
   "source": [
    "psi.cifar <- psi.cifar[1:5]\n",
    "num.groups <- length(psi.cifar)\n",
    "lr <- lr[1:5]"
   ]
  },
  {
   "cell_type": "code",
   "execution_count": null,
   "metadata": {},
   "outputs": [],
   "source": [
    "num.samples <- 5\n",
    "grp.idxs <- 1:num.groups\n",
    "plot.df <- data.frame(ValAccuracy=rep(NA, num.samples*25), Hyperparameters=rep(NA, num.samples*25))\n",
    "for(i in 1:num.samples){\n",
    "    plot.df$ValAccuracy[((i-1)*25 + 1):((i)*25)] <- 1.-psi.cifar[[grp.idxs[i]]]\n",
    "    plot.df$Hyperparameters[((i-1)*25 + 1):((i)*25)] <- paste(\"\", grp.idxs[i],\":\", lr.unique[i], sep=\"\")\n",
    "}\n",
    "p <- ggplot(plot.df, aes(x=ValAccuracy, fill=Hyperparameters))\n",
    "p <- p + geom_density(alpha=0.4)\n",
    "p <- p + labs(fill = \"HP Setting\", x=\"AUC\", y=\"Density\")\n",
    "p"
   ]
  }
 ],
 "metadata": {
  "kernelspec": {
   "display_name": "R",
   "language": "R",
   "name": "ir"
  },
  "language_info": {
   "codemirror_mode": "r",
   "file_extension": ".r",
   "mimetype": "text/x-r-source",
   "name": "R",
   "pygments_lexer": "r",
   "version": "3.4.2"
  }
 },
 "nbformat": 4,
 "nbformat_minor": 2
}
