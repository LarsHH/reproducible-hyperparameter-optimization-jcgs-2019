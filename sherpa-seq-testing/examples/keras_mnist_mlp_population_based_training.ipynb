{
 "cells": [
  {
   "cell_type": "markdown",
   "metadata": {},
   "source": [
    "# Population Based Training"
   ]
  },
  {
   "cell_type": "markdown",
   "metadata": {},
   "source": [
    "## Background\n",
    "Population Based Training (PBT) as introduced by Jaderberg et al. 2017\n",
    "is an evolutionary algorithm for hyperparameter search. The diagram below is\n",
    "taken from Jaderberg et al. 2017 and gives an intuition on the algorithm. It\n",
    "starts with a random population of hyperparamater\n",
    "configurations. Each population member is trained for a limited amount\n",
    "of time and evaluated. When every population member has been evaluated,\n",
    "the ones with low scores replace their own weights and hyperparameters\n",
    "with those from population members with high scores (exploit) and\n",
    "perturb the hyperparameters (explore). Then all population members are\n",
    "trained and evaluated again and the process repeats. This process achieves a\n",
    "joint optimization of the model parameters and training hyperparameters.\n",
    "   \n",
    "![PBT Diagram from Jaderberg et al. 2017](pbt.png \"PBT Diagram from Jaderberg et al. 2017\")\n",
    "\n",
    "Note that only parameters can be tuned that can be changed during training. The\n",
    "number of layers in a neural network for example is better tuned with e.g. the\n",
    "[GPyOpt Algorithm](keras_mnist_mlp.ipynb)."
   ]
  },
  {
   "cell_type": "code",
   "execution_count": 119,
   "metadata": {
    "collapsed": true
   },
   "outputs": [],
   "source": [
    "import sherpa\n",
    "import keras\n",
    "from keras.models import Sequential, load_model\n",
    "from keras.layers import Dense, Flatten\n",
    "from keras.datasets import mnist\n",
    "from keras.optimizers import Adam\n",
    "import tempfile\n",
    "import os\n",
    "import shutil\n",
    "import keras.backend as K\n",
    "import numpy as np\n",
    "import matplotlib.pyplot as plt\n",
    "from matplotlib.pyplot import cm\n",
    "%matplotlib inline"
   ]
  },
  {
   "cell_type": "markdown",
   "metadata": {},
   "source": [
    "## Dataset Preparation\n",
    "Training data is normalized to the [0, 1] range."
   ]
  },
  {
   "cell_type": "code",
   "execution_count": 12,
   "metadata": {
    "collapsed": true
   },
   "outputs": [],
   "source": [
    "(x_train, y_train), (x_test, y_test) = mnist.load_data()\n",
    "x_train, x_test = x_train/255.0, x_test/255.0"
   ]
  },
  {
   "cell_type": "markdown",
   "metadata": {},
   "source": [
    "## Sherpa Setup\n",
    "We define one hyperparameter `learning_rate`. The algorithms uses a `population_size` of 5. This means the first 5 trials returned by the algorithm are randomly sampled. Each is trained by the user for say one epoch. This is the first generation. After that the 4 best out of these five are returned one after another (the top 80%). The fifth one (bottom 20%) is resampled from the top 20% (here just the best trial from generation 1) and its parameters are perturbed. For perturbation the parameter, here the `learning_rate` is randomly multiplied by 0.8 or 1.2 (as defined by the `perturbation_factors`). After that the next generation evolves in a similar way. The algorithm stops after `num_generations` generations."
   ]
  },
  {
   "cell_type": "code",
   "execution_count": 102,
   "metadata": {},
   "outputs": [
    {
     "name": "stderr",
     "output_type": "stream",
     "text": [
      "INFO:sherpa.core:\n",
      "-------------------------------------------------------\n",
      "SHERPA Dashboard running. Access via\n",
      "http://128.195.75.106:8997 if on a cluster or\n",
      "http://localhost:8997 if running locally.\n",
      "-------------------------------------------------------\n"
     ]
    }
   ],
   "source": [
    "parameters = [sherpa.Continuous('learning_rate', [1e-4, 1e-2], 'log')]\n",
    "algorithm = sherpa.algorithms.PopulationBasedTraining(population_size=5,\n",
    "                                                      num_generations=5,\n",
    "                                                      perturbation_factors=(0.8, 1.2),\n",
    "                                                      parameter_range={'learning_rate': [1e-6, 1e-1]})\n",
    "study = sherpa.Study(parameters=parameters,\n",
    "                     algorithm=algorithm,\n",
    "                     lower_is_better=False,\n",
    "                     dashboard_port=8997)"
   ]
  },
  {
   "cell_type": "markdown",
   "metadata": {},
   "source": [
    "Make a temporary directory to store model files in. Population based training jointly optimizes a population of models and their hyperparameters. To train all models *at the same time* we train each model for one epoch (or more if you like), save it (using *trial.parameters['save_to']*), and load it again at a later time when needed (using *trial.parameters['load_from']*). For this reason, we need a directory to save these models in."
   ]
  },
  {
   "cell_type": "code",
   "execution_count": 104,
   "metadata": {
    "collapsed": true
   },
   "outputs": [],
   "source": [
    "model_dir = tempfile.mkdtemp()"
   ]
  },
  {
   "cell_type": "markdown",
   "metadata": {},
   "source": [
    "## Hyperparameter Optimization\n",
    "Technically Population Based Training could go on forever, training ever more generations. In reality however we would like to stop at some point. For this reason we set a *max_num_generations*. You can set this to the number of epochs that you would normally train the model for. Here, we choose something small to speed up the example."
   ]
  },
  {
   "cell_type": "code",
   "execution_count": 105,
   "metadata": {},
   "outputs": [
    {
     "name": "stdout",
     "output_type": "stream",
     "text": [
      "----------------------------------------------------------------------------------------------------\n",
      "Generation 1\n",
      "Creating new model with learning rate 0.0033908174916255636\n",
      "\n",
      "Epoch 1/1\n",
      "60000/60000 [==============================] - 7s 120us/step - loss: 0.2279 - acc: 0.9324\n",
      "10000/10000 [==============================] - 1s 117us/step\n",
      "Validation accuracy:  0.962\n",
      "Saving model at:  /var/folders/5v/l788ch2j7tg0q0y1rt04c08w0000gn/T/tmpt_1z3upl/1\n",
      "----------------------------------------------------------------------------------------------------\n",
      "Generation 1\n",
      "Creating new model with learning rate 0.00024918992981810167\n",
      "\n",
      "Epoch 1/1\n",
      "60000/60000 [==============================] - 8s 129us/step - loss: 0.4917 - acc: 0.8711\n",
      "10000/10000 [==============================] - 1s 124us/step\n",
      "Validation accuracy:  0.9203\n",
      "Saving model at:  /var/folders/5v/l788ch2j7tg0q0y1rt04c08w0000gn/T/tmpt_1z3upl/2\n",
      "----------------------------------------------------------------------------------------------------\n",
      "Generation 1\n",
      "Creating new model with learning rate 0.006140980350498516\n",
      "\n",
      "Epoch 1/1\n",
      "60000/60000 [==============================] - 8s 125us/step - loss: 0.2292 - acc: 0.9309\n",
      "10000/10000 [==============================] - 1s 124us/step\n",
      "Validation accuracy:  0.9548\n",
      "Saving model at:  /var/folders/5v/l788ch2j7tg0q0y1rt04c08w0000gn/T/tmpt_1z3upl/3\n",
      "----------------------------------------------------------------------------------------------------\n",
      "Generation 1\n",
      "Creating new model with learning rate 0.0010303357974986642\n",
      "\n",
      "Epoch 1/1\n",
      "60000/60000 [==============================] - 7s 122us/step - loss: 0.3119 - acc: 0.9096\n",
      "10000/10000 [==============================] - 1s 124us/step\n",
      "Validation accuracy:  0.948\n",
      "Saving model at:  /var/folders/5v/l788ch2j7tg0q0y1rt04c08w0000gn/T/tmpt_1z3upl/4\n",
      "----------------------------------------------------------------------------------------------------\n",
      "Generation 1\n",
      "Creating new model with learning rate 0.0010189099949300035\n",
      "\n",
      "Epoch 1/1\n",
      "60000/60000 [==============================] - 8s 125us/step - loss: 0.2994 - acc: 0.9150\n",
      "10000/10000 [==============================] - 1s 123us/step\n",
      "Validation accuracy:  0.9517\n",
      "Saving model at:  /var/folders/5v/l788ch2j7tg0q0y1rt04c08w0000gn/T/tmpt_1z3upl/5\n",
      "----------------------------------------------------------------------------------------------------\n",
      "Generation 2\n",
      "Loading model from  /var/folders/5v/l788ch2j7tg0q0y1rt04c08w0000gn/T/tmpt_1z3upl/1 ...\n",
      "\n",
      "Continuing training with learning rate 0.0033908174916255636\n",
      "Epoch 1/1\n",
      "60000/60000 [==============================] - 6s 93us/step - loss: 0.1107 - acc: 0.9669\n",
      "10000/10000 [==============================] - 1s 125us/step\n",
      "Validation accuracy:  0.9678\n",
      "Saving model at:  /var/folders/5v/l788ch2j7tg0q0y1rt04c08w0000gn/T/tmpt_1z3upl/6\n",
      "----------------------------------------------------------------------------------------------------\n",
      "Generation 2\n",
      "Loading model from  /var/folders/5v/l788ch2j7tg0q0y1rt04c08w0000gn/T/tmpt_1z3upl/3 ...\n",
      "\n",
      "Continuing training with learning rate 0.006140980350498516\n",
      "Epoch 1/1\n",
      "60000/60000 [==============================] - 6s 94us/step - loss: 0.1347 - acc: 0.9596\n",
      "10000/10000 [==============================] - 1s 127us/step\n",
      "Validation accuracy:  0.9507\n",
      "Saving model at:  /var/folders/5v/l788ch2j7tg0q0y1rt04c08w0000gn/T/tmpt_1z3upl/7\n",
      "----------------------------------------------------------------------------------------------------\n",
      "Generation 2\n",
      "Loading model from  /var/folders/5v/l788ch2j7tg0q0y1rt04c08w0000gn/T/tmpt_1z3upl/5 ...\n",
      "\n",
      "Continuing training with learning rate 0.0010189099949300035\n",
      "Epoch 1/1\n",
      "60000/60000 [==============================] - 6s 98us/step - loss: 0.1454 - acc: 0.9574\n",
      "10000/10000 [==============================] - ETA:  - 1s 135us/step\n",
      "Validation accuracy:  0.9634\n",
      "Saving model at:  /var/folders/5v/l788ch2j7tg0q0y1rt04c08w0000gn/T/tmpt_1z3upl/8\n",
      "----------------------------------------------------------------------------------------------------\n",
      "Generation 2\n",
      "Loading model from  /var/folders/5v/l788ch2j7tg0q0y1rt04c08w0000gn/T/tmpt_1z3upl/4 ...\n",
      "\n",
      "Continuing training with learning rate 0.0010303357974986642\n",
      "Epoch 1/1\n",
      "60000/60000 [==============================] - 6s 100us/step - loss: 0.1527 - acc: 0.9558\n",
      "10000/10000 [==============================] - 1s 131us/step\n",
      "Validation accuracy:  0.9591\n",
      "Saving model at:  /var/folders/5v/l788ch2j7tg0q0y1rt04c08w0000gn/T/tmpt_1z3upl/9\n",
      "----------------------------------------------------------------------------------------------------\n",
      "Generation 2\n",
      "Loading model from  /var/folders/5v/l788ch2j7tg0q0y1rt04c08w0000gn/T/tmpt_1z3upl/1 ...\n",
      "\n",
      "Perturbing learning rate from 0.0033908174373209476 to 0.004068980989950676\n",
      "Epoch 1/1\n",
      "60000/60000 [==============================] - 6s 98us/step - loss: 0.1178 - acc: 0.9644\n",
      "10000/10000 [==============================] - 1s 134us/step\n",
      "Validation accuracy:  0.9687\n",
      "Saving model at:  /var/folders/5v/l788ch2j7tg0q0y1rt04c08w0000gn/T/tmpt_1z3upl/10\n",
      "----------------------------------------------------------------------------------------------------\n",
      "Generation 3\n",
      "Loading model from  /var/folders/5v/l788ch2j7tg0q0y1rt04c08w0000gn/T/tmpt_1z3upl/10 ...\n",
      "\n",
      "Continuing training with learning rate 0.004068980989950676\n",
      "Epoch 1/1\n",
      "60000/60000 [==============================] - 6s 99us/step - loss: 0.0897 - acc: 0.9720\n",
      "10000/10000 [==============================] - 1s 137us/step\n",
      "Validation accuracy:  0.9711\n",
      "Saving model at:  /var/folders/5v/l788ch2j7tg0q0y1rt04c08w0000gn/T/tmpt_1z3upl/11\n",
      "----------------------------------------------------------------------------------------------------\n",
      "Generation 3\n",
      "Loading model from  /var/folders/5v/l788ch2j7tg0q0y1rt04c08w0000gn/T/tmpt_1z3upl/6 ...\n",
      "\n",
      "Continuing training with learning rate 0.0033908174916255636\n",
      "Epoch 1/1\n",
      "60000/60000 [==============================] - 6s 101us/step - loss: 0.0837 - acc: 0.9742\n",
      "10000/10000 [==============================] - 2s 150us/step\n",
      "Validation accuracy:  0.9697\n",
      "Saving model at:  /var/folders/5v/l788ch2j7tg0q0y1rt04c08w0000gn/T/tmpt_1z3upl/12\n",
      "----------------------------------------------------------------------------------------------------\n",
      "Generation 3\n",
      "Loading model from  /var/folders/5v/l788ch2j7tg0q0y1rt04c08w0000gn/T/tmpt_1z3upl/8 ...\n",
      "\n",
      "Continuing training with learning rate 0.0010189099949300035\n",
      "Epoch 1/1\n",
      "60000/60000 [==============================] - 6s 108us/step - loss: 0.1054 - acc: 0.9687\n",
      "10000/10000 [==============================] - 1s 148us/step\n",
      "Validation accuracy:  0.9646\n",
      "Saving model at:  /var/folders/5v/l788ch2j7tg0q0y1rt04c08w0000gn/T/tmpt_1z3upl/13\n",
      "----------------------------------------------------------------------------------------------------\n",
      "Generation 3\n",
      "Loading model from  /var/folders/5v/l788ch2j7tg0q0y1rt04c08w0000gn/T/tmpt_1z3upl/9 ...\n",
      "\n",
      "Continuing training with learning rate 0.0010303357974986642\n",
      "Epoch 1/1\n",
      "60000/60000 [==============================] - 7s 111us/step - loss: 0.1112 - acc: 0.9675\n",
      "10000/10000 [==============================] - 2s 155us/step\n",
      "Validation accuracy:  0.9687\n",
      "Saving model at:  /var/folders/5v/l788ch2j7tg0q0y1rt04c08w0000gn/T/tmpt_1z3upl/14\n",
      "----------------------------------------------------------------------------------------------------\n",
      "Generation 3\n",
      "Loading model from  /var/folders/5v/l788ch2j7tg0q0y1rt04c08w0000gn/T/tmpt_1z3upl/10 ...\n",
      "\n",
      "Perturbing learning rate from 0.004068980924785137 to 0.004882777187940811\n",
      "Epoch 1/1\n",
      "60000/60000 [==============================] - 7s 114us/step - loss: 0.1022 - acc: 0.9686\n",
      "10000/10000 [==============================] - 2s 153us/step\n",
      "Validation accuracy:  0.9679\n",
      "Saving model at:  /var/folders/5v/l788ch2j7tg0q0y1rt04c08w0000gn/T/tmpt_1z3upl/15\n",
      "----------------------------------------------------------------------------------------------------\n",
      "Generation 4\n",
      "Loading model from  /var/folders/5v/l788ch2j7tg0q0y1rt04c08w0000gn/T/tmpt_1z3upl/11 ...\n",
      "\n",
      "Continuing training with learning rate 0.004068980989950676\n",
      "Epoch 1/1\n",
      "60000/60000 [==============================] - 7s 117us/step - loss: 0.0772 - acc: 0.9759\n",
      "10000/10000 [==============================] - 1s 149us/step\n",
      "Validation accuracy:  0.9669\n",
      "Saving model at:  /var/folders/5v/l788ch2j7tg0q0y1rt04c08w0000gn/T/tmpt_1z3upl/16\n",
      "----------------------------------------------------------------------------------------------------\n",
      "Generation 4\n",
      "Loading model from  /var/folders/5v/l788ch2j7tg0q0y1rt04c08w0000gn/T/tmpt_1z3upl/12 ...\n",
      "\n"
     ]
    },
    {
     "name": "stdout",
     "output_type": "stream",
     "text": [
      "Continuing training with learning rate 0.0033908174916255636\n",
      "Epoch 1/1\n",
      "60000/60000 [==============================] - 7s 109us/step - loss: 0.0728 - acc: 0.9775\n",
      "10000/10000 [==============================] - 1s 148us/step\n",
      "Validation accuracy:  0.9659\n",
      "Saving model at:  /var/folders/5v/l788ch2j7tg0q0y1rt04c08w0000gn/T/tmpt_1z3upl/17\n",
      "----------------------------------------------------------------------------------------------------\n",
      "Generation 4\n",
      "Loading model from  /var/folders/5v/l788ch2j7tg0q0y1rt04c08w0000gn/T/tmpt_1z3upl/14 ...\n",
      "\n",
      "Continuing training with learning rate 0.0010303357974986642\n",
      "Epoch 1/1\n",
      "60000/60000 [==============================] - 7s 112us/step - loss: 0.0885 - acc: 0.9735\n",
      "10000/10000 [==============================] - 2s 185us/step\n",
      "Validation accuracy:  0.9711\n",
      "Saving model at:  /var/folders/5v/l788ch2j7tg0q0y1rt04c08w0000gn/T/tmpt_1z3upl/18\n",
      "----------------------------------------------------------------------------------------------------\n",
      "Generation 4\n",
      "Loading model from  /var/folders/5v/l788ch2j7tg0q0y1rt04c08w0000gn/T/tmpt_1z3upl/15 ...\n",
      "\n",
      "Continuing training with learning rate 0.004882777187940811\n",
      "Epoch 1/1\n",
      "60000/60000 [==============================] - 7s 118us/step - loss: 0.0862 - acc: 0.9740\n",
      "10000/10000 [==============================] - 2s 151us/step\n",
      "Validation accuracy:  0.968\n",
      "Saving model at:  /var/folders/5v/l788ch2j7tg0q0y1rt04c08w0000gn/T/tmpt_1z3upl/19\n",
      "----------------------------------------------------------------------------------------------------\n",
      "Generation 4\n",
      "Loading model from  /var/folders/5v/l788ch2j7tg0q0y1rt04c08w0000gn/T/tmpt_1z3upl/12 ...\n",
      "\n",
      "Perturbing learning rate from 0.0033908174373209476 to 0.002712653993300451\n",
      "Epoch 1/1\n",
      "60000/60000 [==============================] - 7s 112us/step - loss: 0.0625 - acc: 0.9806\n",
      "10000/10000 [==============================] - 2s 151us/step\n",
      "Validation accuracy:  0.9721\n",
      "Saving model at:  /var/folders/5v/l788ch2j7tg0q0y1rt04c08w0000gn/T/tmpt_1z3upl/20\n",
      "----------------------------------------------------------------------------------------------------\n",
      "Generation 5\n",
      "Loading model from  /var/folders/5v/l788ch2j7tg0q0y1rt04c08w0000gn/T/tmpt_1z3upl/20 ...\n",
      "\n",
      "Continuing training with learning rate 0.002712653993300451\n",
      "Epoch 1/1\n",
      "60000/60000 [==============================] - 7s 114us/step - loss: 0.0528 - acc: 0.9835\n",
      "10000/10000 [==============================] - 2s 151us/step\n",
      "Validation accuracy:  0.9734\n",
      "Saving model at:  /var/folders/5v/l788ch2j7tg0q0y1rt04c08w0000gn/T/tmpt_1z3upl/21\n",
      "----------------------------------------------------------------------------------------------------\n",
      "Generation 5\n",
      "Loading model from  /var/folders/5v/l788ch2j7tg0q0y1rt04c08w0000gn/T/tmpt_1z3upl/18 ...\n",
      "\n",
      "Continuing training with learning rate 0.0010303357974986642\n",
      "Epoch 1/1\n",
      "60000/60000 [==============================] - 7s 116us/step - loss: 0.0725 - acc: 0.9778\n",
      "10000/10000 [==============================] - 2s 187us/step\n",
      "Validation accuracy:  0.9718\n",
      "Saving model at:  /var/folders/5v/l788ch2j7tg0q0y1rt04c08w0000gn/T/tmpt_1z3upl/22\n",
      "----------------------------------------------------------------------------------------------------\n",
      "Generation 5\n",
      "Loading model from  /var/folders/5v/l788ch2j7tg0q0y1rt04c08w0000gn/T/tmpt_1z3upl/19 ...\n",
      "\n",
      "Continuing training with learning rate 0.004882777187940811\n",
      "Epoch 1/1\n",
      "60000/60000 [==============================] - 7s 114us/step - loss: 0.0784 - acc: 0.9762\n",
      "10000/10000 [==============================] - 2s 166us/step\n",
      "Validation accuracy:  0.9716\n",
      "Saving model at:  /var/folders/5v/l788ch2j7tg0q0y1rt04c08w0000gn/T/tmpt_1z3upl/23\n",
      "----------------------------------------------------------------------------------------------------\n",
      "Generation 5\n",
      "Loading model from  /var/folders/5v/l788ch2j7tg0q0y1rt04c08w0000gn/T/tmpt_1z3upl/16 ...\n",
      "\n",
      "Continuing training with learning rate 0.004068980989950676\n",
      "Epoch 1/1\n",
      "60000/60000 [==============================] - 7s 122us/step - loss: 0.0653 - acc: 0.9800\n",
      "10000/10000 [==============================] - 2s 177us/step\n",
      "Validation accuracy:  0.9679\n",
      "Saving model at:  /var/folders/5v/l788ch2j7tg0q0y1rt04c08w0000gn/T/tmpt_1z3upl/24\n",
      "----------------------------------------------------------------------------------------------------\n",
      "Generation 5\n",
      "Loading model from  /var/folders/5v/l788ch2j7tg0q0y1rt04c08w0000gn/T/tmpt_1z3upl/11 ...\n",
      "\n",
      "Perturbing learning rate from 0.004068980924785137 to 0.004882777187940811\n",
      "Epoch 1/1\n",
      "60000/60000 [==============================] - 7s 117us/step - loss: 0.0881 - acc: 0.9734\n",
      "10000/10000 [==============================] - 2s 175us/step\n",
      "Validation accuracy:  0.9663\n",
      "Saving model at:  /var/folders/5v/l788ch2j7tg0q0y1rt04c08w0000gn/T/tmpt_1z3upl/25\n"
     ]
    }
   ],
   "source": [
    "for trial in study:\n",
    "    generation = trial.parameters['generation']\n",
    "    load_from = trial.parameters['load_from']\n",
    "    training_lr = trial.parameters['learning_rate']\n",
    "    \n",
    "    print(\"-\"*100)\n",
    "    print(\"Generation {}\".format(generation))\n",
    "    \n",
    "    if load_from == \"\":\n",
    "        print(\"Creating new model with learning rate {}\\n\".format(training_lr))\n",
    "\n",
    "        # Create model\n",
    "        model = Sequential([Flatten(input_shape=(28, 28)),\n",
    "                            Dense(64, activation='relu'),\n",
    "                            Dense(10, activation='softmax')])\n",
    "        \n",
    "        # Use learning rate parameter for optimizer\n",
    "        optimizer = Adam(lr=training_lr)\n",
    "        \n",
    "        model.compile(loss='sparse_categorical_crossentropy',\n",
    "                      optimizer=optimizer,\n",
    "                      metrics=['accuracy'])\n",
    "    else:\n",
    "        print(f\"Loading model from \", os.path.join(model_dir, load_from), \"\\n\")\n",
    "        \n",
    "        # Loading model\n",
    "        model = load_model(os.path.join(model_dir, load_from))\n",
    "        \n",
    "        if not np.isclose(K.get_value(model.optimizer.lr), training_lr):\n",
    "            print(\"Perturbing learning rate from {} to {}\".format(K.get_value(model.optimizer.lr), training_lr))\n",
    "            K.set_value(model.optimizer.lr, training_lr)\n",
    "        else:\n",
    "            print(\"Continuing training with learning rate {}\".format(training_lr))\n",
    "            \n",
    "    # Train model for one epoch\n",
    "    model.fit(x_train, y_train)\n",
    "    loss, accuracy = model.evaluate(x_test, y_test)\n",
    "    \n",
    "    print(\"Validation accuracy: \", accuracy)\n",
    "    study.add_observation(trial=trial, iteration=generation,\n",
    "                          objective=accuracy,\n",
    "                          context={'loss': loss})\n",
    "    study.finalize(trial=trial)\n",
    "    \n",
    "    print(f\"Saving model at: \", os.path.join(model_dir, trial.parameters['save_to']))\n",
    "    model.save(os.path.join(model_dir, trial.parameters['save_to']))\n",
    "    \n",
    "    study.save(model_dir)"
   ]
  },
  {
   "cell_type": "markdown",
   "metadata": {},
   "source": [
    "The best found hyperparameter configuration is:"
   ]
  },
  {
   "cell_type": "code",
   "execution_count": 126,
   "metadata": {},
   "outputs": [
    {
     "data": {
      "text/plain": [
       "{'Iteration': 5,\n",
       " 'Objective': 0.9734,\n",
       " 'Trial-ID': 21,\n",
       " 'generation': 5,\n",
       " 'learning_rate': 0.002712653993300451,\n",
       " 'lineage': '1,6,12,20,',\n",
       " 'load_from': '20',\n",
       " 'loss': 0.09256360807713354,\n",
       " 'save_to': '21'}"
      ]
     },
     "execution_count": 126,
     "metadata": {},
     "output_type": "execute_result"
    }
   ],
   "source": [
    "study.get_best_result()"
   ]
  },
  {
   "cell_type": "markdown",
   "metadata": {},
   "source": [
    "This model is stored at:"
   ]
  },
  {
   "cell_type": "code",
   "execution_count": 107,
   "metadata": {},
   "outputs": [
    {
     "name": "stdout",
     "output_type": "stream",
     "text": [
      "/var/folders/5v/l788ch2j7tg0q0y1rt04c08w0000gn/T/tmpt_1z3upl/21\n"
     ]
    }
   ],
   "source": [
    "print(os.path.join(model_dir, study.get_best_result()['save_to']))"
   ]
  },
  {
   "cell_type": "markdown",
   "metadata": {},
   "source": [
    "These are plots of the evolution of validation accuracy and log learning rates. Lines of equal color indicate that these belong to equal seed trials, that is they stem from the same population member from the first generation."
   ]
  },
  {
   "cell_type": "code",
   "execution_count": 125,
   "metadata": {},
   "outputs": [
    {
     "data": {
      "image/png": "[encoded data removed]",
      "text/plain": [
       "<matplotlib.figure.Figure at 0x162087550>"
      ]
     },
     "metadata": {},
     "output_type": "display_data"
    }
   ],
   "source": [
    "completed = study.results.query(\"Status == 'COMPLETED'\")\n",
    "fig, axis = plt.subplots(ncols=2, figsize=(15, 5))\n",
    "n = 5\n",
    "color=cm.rainbow(np.linspace(0,1,n))\n",
    "for j in range(1, n+1):\n",
    "    descendents = completed[(completed['lineage'].str.startswith('{},'.format(j)).fillna(False))]\n",
    "    for i, row in descendents.iterrows():\n",
    "        x = list(range(1, len(row['lineage'].split(\",\"))+1))\n",
    "        obj = []\n",
    "        lr = []\n",
    "        for tid in row['lineage'].split(\",\")[:-1]:\n",
    "            obj.append(completed.loc[completed['Trial-ID']==int(tid)]['Objective'].values[0])\n",
    "            lr.append(completed.loc[completed['Trial-ID']==int(tid)]['learning_rate'])\n",
    "        obj.append(row['Objective'])\n",
    "        lr.append(row['learning_rate'])\n",
    "        axis[0].plot(x, obj, '-', color=color[j-1], linewidth=2.5)\n",
    "        axis[1].plot(x, lr, '-', color=color[j-1], linewidth=2.5)\n",
    "axis[0].set_xlabel(\"Generation\")\n",
    "axis[0].set_ylabel(\"Validation Accuracy\")\n",
    "axis[1].set_xlabel(\"Generation\")\n",
    "axis[1].set_ylabel(\"Log(Learning Rate)\")\n",
    "axis[1].set_yscale('log')"
   ]
  },
  {
   "cell_type": "markdown",
   "metadata": {},
   "source": [
    "To remove the model directory:"
   ]
  },
  {
   "cell_type": "code",
   "execution_count": 103,
   "metadata": {
    "collapsed": true
   },
   "outputs": [],
   "source": [
    "# Remove model_dir\n",
    "shutil.rmtree(model_dir)"
   ]
  }
 ],
 "metadata": {
  "kernelspec": {
   "display_name": "Python 3",
   "language": "python",
   "name": "python3"
  },
  "language_info": {
   "codemirror_mode": {
    "name": "ipython",
    "version": 3
   },
   "file_extension": ".py",
   "mimetype": "text/x-python",
   "name": "python",
   "nbconvert_exporter": "python",
   "pygments_lexer": "ipython3",
   "version": "3.6.1"
  }
 },
 "nbformat": 4,
 "nbformat_minor": 2
}
