{
 "cells": [
  {
   "cell_type": "code",
   "execution_count": 1,
   "metadata": {
    "collapsed": true
   },
   "outputs": [],
   "source": [
    "import sherpa\n",
    "import time"
   ]
  },
  {
   "cell_type": "code",
   "execution_count": 2,
   "metadata": {
    "collapsed": true
   },
   "outputs": [],
   "source": [
    "parameters = [sherpa.Choice(name=\"param_a\", range=[1, 2, 3]),\n",
    "              sherpa.Continuous(name=\"param_b\", range=[0, 1])]"
   ]
  },
  {
   "cell_type": "code",
   "execution_count": 3,
   "metadata": {
    "collapsed": true
   },
   "outputs": [],
   "source": [
    "algorithm = sherpa.algorithms.RandomSearch(max_num_trials=50)"
   ]
  },
  {
   "cell_type": "code",
   "execution_count": 4,
   "metadata": {},
   "outputs": [
    {
     "name": "stderr",
     "output_type": "stream",
     "text": [
      "INFO:sherpa.core:\n",
      "-------------------------------------------------------\n",
      "SHERPA Dashboard running on http://169.234.51.90:8880\n",
      "-------------------------------------------------------\n"
     ]
    }
   ],
   "source": [
    "study = sherpa.Study(parameters=parameters,\n",
    "                     algorithm=algorithm,\n",
    "                     lower_is_better=True)"
   ]
  },
  {
   "cell_type": "code",
   "execution_count": 5,
   "metadata": {},
   "outputs": [
    {
     "name": "stdout",
     "output_type": "stream",
     "text": [
      "Trial 1:\t{'param_a': 2, 'param_b': 0.08084888753972663}\n",
      "Trial 2:\t{'param_a': 2, 'param_b': 0.8820134057064609}\n",
      "Trial 3:\t{'param_a': 1, 'param_b': 0.3903875343612726}\n",
      "Trial 4:\t{'param_a': 2, 'param_b': 0.7465293335891078}\n",
      "Trial 5:\t{'param_a': 2, 'param_b': 0.3033979025952046}\n",
      "Trial 6:\t{'param_a': 2, 'param_b': 0.16218622092647217}\n",
      "Trial 7:\t{'param_a': 2, 'param_b': 0.19317495265187545}\n",
      "Trial 8:\t{'param_a': 2, 'param_b': 0.7802732619877104}\n",
      "Trial 9:\t{'param_a': 3, 'param_b': 0.17634418966785337}\n",
      "Trial 10:\t{'param_a': 3, 'param_b': 0.6909097220164053}\n",
      "Trial 11:\t{'param_a': 1, 'param_b': 0.4405897577242618}\n",
      "Trial 12:\t{'param_a': 1, 'param_b': 0.004633766511540682}\n",
      "Trial 13:\t{'param_a': 1, 'param_b': 0.9013502459458692}\n",
      "Trial 14:\t{'param_a': 1, 'param_b': 0.14642625620495786}\n",
      "Trial 15:\t{'param_a': 1, 'param_b': 0.7234649897898572}\n",
      "Trial 16:\t{'param_a': 2, 'param_b': 0.39155565444066776}\n",
      "Trial 17:\t{'param_a': 3, 'param_b': 0.8548873976077823}\n",
      "Trial 18:\t{'param_a': 2, 'param_b': 0.8940467319097658}\n",
      "Trial 19:\t{'param_a': 3, 'param_b': 0.16553327711133015}\n",
      "Trial 20:\t{'param_a': 3, 'param_b': 0.751830901346575}\n",
      "Trial 21:\t{'param_a': 1, 'param_b': 0.8228233340538491}\n",
      "Trial 22:\t{'param_a': 2, 'param_b': 0.6299308644942339}\n",
      "Trial 23:\t{'param_a': 1, 'param_b': 0.4892999646375219}\n",
      "Trial 24:\t{'param_a': 3, 'param_b': 0.8643360507213131}\n",
      "Trial 25:\t{'param_a': 1, 'param_b': 0.7357930118404121}\n",
      "Trial 26:\t{'param_a': 1, 'param_b': 0.6321231696968415}\n",
      "Trial 27:\t{'param_a': 1, 'param_b': 0.7830557064623521}\n",
      "Trial 28:\t{'param_a': 2, 'param_b': 0.839976100858873}\n",
      "Trial 29:\t{'param_a': 2, 'param_b': 0.5451209927558733}\n",
      "Trial 30:\t{'param_a': 3, 'param_b': 0.8977435332391672}\n",
      "Trial 31:\t{'param_a': 1, 'param_b': 0.4092628465441944}\n",
      "Trial 32:\t{'param_a': 3, 'param_b': 0.05205444661029224}\n",
      "Trial 33:\t{'param_a': 2, 'param_b': 0.22757697112933406}\n",
      "Trial 34:\t{'param_a': 3, 'param_b': 0.7371476068578808}\n",
      "Trial 35:\t{'param_a': 2, 'param_b': 0.39467713424007667}\n",
      "Trial 36:\t{'param_a': 2, 'param_b': 0.4669129942761705}\n",
      "Trial 37:\t{'param_a': 2, 'param_b': 0.051222219471409036}\n",
      "Trial 38:\t{'param_a': 1, 'param_b': 0.6682534360309409}\n",
      "Trial 39:\t{'param_a': 1, 'param_b': 0.658808122814567}\n",
      "Trial 40:\t{'param_a': 3, 'param_b': 0.23521910092339915}\n",
      "Trial 41:\t{'param_a': 1, 'param_b': 0.4918009427977087}\n",
      "Trial 42:\t{'param_a': 1, 'param_b': 0.8246058519473367}\n",
      "Trial 43:\t{'param_a': 1, 'param_b': 0.9972037609393118}\n",
      "Trial 44:\t{'param_a': 1, 'param_b': 0.7737742297402668}\n",
      "Trial 45:\t{'param_a': 3, 'param_b': 0.2676784820907272}\n",
      "Trial 46:\t{'param_a': 1, 'param_b': 0.2177980662418847}\n",
      "Trial 47:\t{'param_a': 3, 'param_b': 0.4922713453090859}\n",
      "Trial 48:\t{'param_a': 3, 'param_b': 0.33994472341473847}\n",
      "Trial 49:\t{'param_a': 1, 'param_b': 0.9611462438812709}\n",
      "Trial 50:\t{'param_a': 1, 'param_b': 0.8682119285926363}\n"
     ]
    }
   ],
   "source": [
    "for trial in study:\n",
    "    print(\"Trial {}:\\t{}\".format(trial.id, trial.parameters))\n",
    "\n",
    "    num_iterations = 10\n",
    "    for i in range(num_iterations):\n",
    "        \n",
    "        # access parameters via trial.parameters and id via trial.id\n",
    "        pseudo_loss = trial.parameters['param_a'] / float(i + 1) * trial.parameters['param_b']\n",
    "        \n",
    "        # add observations once or multiple times\n",
    "        study.add_observation(trial=trial,\n",
    "                              iteration=i+1,\n",
    "                              objective=pseudo_loss)\n",
    "        time.sleep(0.1)\n",
    "\n",
    "    study.finalize(trial=trial)"
   ]
  },
  {
   "cell_type": "code",
   "execution_count": null,
   "metadata": {
    "collapsed": true
   },
   "outputs": [],
   "source": [
    "print(study.get_best_result())"
   ]
  }
 ],
 "metadata": {
  "kernelspec": {
   "display_name": "Python 3",
   "language": "python",
   "name": "python3"
  },
  "language_info": {
   "codemirror_mode": {
    "name": "ipython",
    "version": 3
   },
   "file_extension": ".py",
   "mimetype": "text/x-python",
   "name": "python",
   "nbconvert_exporter": "python",
   "pygments_lexer": "ipython3",
   "version": "3.6.1"
  }
 },
 "nbformat": 4,
 "nbformat_minor": 2
}
