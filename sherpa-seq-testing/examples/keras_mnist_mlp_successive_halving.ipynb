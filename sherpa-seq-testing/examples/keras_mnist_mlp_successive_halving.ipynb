{
 "cells": [
  {
   "cell_type": "markdown",
   "metadata": {},
   "source": [
    "# Asynchronous Successive Halving (ASHA)\n",
    "Successive halving is an algorithm based on the multi-armed bandit methodology. The ASHA algorithm is a way to combine random search with principled early stopping in an asynchronous way. We highly recommend this blog post by the authors of this method: https://blog.ml.cmu.edu/2018/12/12/massively-parallel-hyperparameter-optimization/ ."
   ]
  },
  {
   "cell_type": "code",
   "execution_count": null,
   "metadata": {
    "collapsed": true
   },
   "outputs": [],
   "source": [
    "import sherpa\n",
    "import sherpa.algorithms.bayesian_optimization as bayesian_optimization\n",
    "import keras\n",
    "from keras.models import Sequential, load_model\n",
    "from keras.layers import Dense, Flatten\n",
    "from keras.datasets import mnist\n",
    "from keras.optimizers import Adam\n",
    "import tempfile\n",
    "import os\n",
    "import shutil"
   ]
  },
  {
   "cell_type": "markdown",
   "metadata": {},
   "source": [
    "## Dataset Preparation"
   ]
  },
  {
   "cell_type": "code",
   "execution_count": 2,
   "metadata": {
    "collapsed": true
   },
   "outputs": [],
   "source": [
    "(x_train, y_train), (x_test, y_test) = mnist.load_data()\n",
    "x_train, x_test = x_train/255.0, x_test/255.0"
   ]
  },
  {
   "cell_type": "markdown",
   "metadata": {},
   "source": [
    "## Sherpa Setup\n",
    "In this example we use $R=9$ and $\\eta=3$. That means to obtain one finished configuration we will train 9 configurations for 1 epochs, pick 3 configurations of those and train for 3 more epochs, then pick one out of those and train for another 9 epochs. You can increase the *max_finished_configs* argument to do a larger search."
   ]
  },
  {
   "cell_type": "code",
   "execution_count": 20,
   "metadata": {},
   "outputs": [
    {
     "name": "stderr",
     "output_type": "stream",
     "text": [
      "INFO:sherpa.core:\n",
      "-------------------------------------------------------\n",
      "SHERPA Dashboard running. Access via\n",
      "http://128.195.75.106:8995 if on a cluster or\n",
      "http://localhost:8995 if running locally.\n",
      "-------------------------------------------------------\n"
     ]
    }
   ],
   "source": [
    "parameters = [sherpa.Continuous('learning_rate', [1e-4, 1e-2], 'log'),\n",
    "              sherpa.Discrete('num_units', [32, 128]),\n",
    "              sherpa.Choice('activation', ['relu', 'tanh', 'sigmoid'])]\n",
    "algorithm = alg = sherpa.algorithms.SuccessiveHalving(r=1, R=9, eta=3, s=0, max_finished_configs=1)\n",
    "study = sherpa.Study(parameters=parameters,\n",
    "                     algorithm=algorithm,\n",
    "                     lower_is_better=False,\n",
    "                     dashboard_port=8995)"
   ]
  },
  {
   "cell_type": "markdown",
   "metadata": {},
   "source": [
    "Make a temporary directory to store model files in. Successive Halving tries hyperparameter configurations for bigger and bigger budgets (training epochs). Therefore, intermediate models have to be saved."
   ]
  },
  {
   "cell_type": "code",
   "execution_count": 21,
   "metadata": {
    "collapsed": true
   },
   "outputs": [],
   "source": [
    "model_dir = tempfile.mkdtemp()"
   ]
  },
  {
   "cell_type": "markdown",
   "metadata": {},
   "source": [
    "## Hyperparameter Optimization\n",
    "**Note**: we manually infer the number of epochs that the model has trained for so we can give this information to Keras."
   ]
  },
  {
   "cell_type": "code",
   "execution_count": 22,
   "metadata": {},
   "outputs": [
    {
     "name": "stdout",
     "output_type": "stream",
     "text": [
      "----------------------------------------------------------------------------------------------------\n",
      "Trial:\t1\n",
      "Epochs:\t0 to 1\n",
      "Parameters:{'learning_rate': 0.0006779922111149317, 'num_units': 67, 'activation': 'tanh', 'resource': 1, 'rung': 0, 'load_from': '', 'save_to': '1'}\n",
      "Creating new model for trial 1...\n",
      "\n",
      "Epoch 1/1\n",
      "60000/60000 [==============================] - 4s 72us/step - loss: 0.3451 - acc: 0.9059\n",
      "10000/10000 [==============================] - 1s 53us/step\n",
      "Validation accuracy:  0.9426\n",
      "Saving model at:  /var/folders/5v/l788ch2j7tg0q0y1rt04c08w0000gn/T/tmpa7vbw5xz/1\n",
      "----------------------------------------------------------------------------------------------------\n",
      "Trial:\t2\n",
      "Epochs:\t0 to 1\n",
      "Parameters:{'learning_rate': 0.0007322493943507595, 'num_units': 53, 'activation': 'sigmoid', 'resource': 1, 'rung': 0, 'load_from': '', 'save_to': '2'}\n",
      "Creating new model for trial 2...\n",
      "\n",
      "Epoch 1/1\n",
      "60000/60000 [==============================] - 4s 71us/step - loss: 0.5720 - acc: 0.8661\n",
      "10000/10000 [==============================] - 0s 47us/step\n",
      "Validation accuracy:  0.9213\n",
      "Saving model at:  /var/folders/5v/l788ch2j7tg0q0y1rt04c08w0000gn/T/tmpa7vbw5xz/2\n",
      "----------------------------------------------------------------------------------------------------\n",
      "Trial:\t3\n",
      "Epochs:\t0 to 1\n",
      "Parameters:{'learning_rate': 0.00013292608500661002, 'num_units': 115, 'activation': 'tanh', 'resource': 1, 'rung': 0, 'load_from': '', 'save_to': '3'}\n",
      "Creating new model for trial 3...\n",
      "\n",
      "Epoch 1/1\n",
      "60000/60000 [==============================] - 5s 80us/step - loss: 0.5496 - acc: 0.8571\n",
      "10000/10000 [==============================] - 0s 48us/step\n",
      "Validation accuracy:  0.9112\n",
      "Saving model at:  /var/folders/5v/l788ch2j7tg0q0y1rt04c08w0000gn/T/tmpa7vbw5xz/3\n",
      "----------------------------------------------------------------------------------------------------\n",
      "Trial:\t4\n",
      "Epochs:\t1 to 4\n",
      "Parameters:{'learning_rate': 0.0006779922111149317, 'num_units': 67, 'activation': 'tanh', 'save_to': '4', 'resource': 3, 'rung': 1, 'load_from': '1'}\n",
      "Loading model from:  /var/folders/5v/l788ch2j7tg0q0y1rt04c08w0000gn/T/tmpa7vbw5xz/1 ...\n",
      "\n",
      "Epoch 2/2\n",
      "60000/60000 [==============================] - 3s 50us/step - loss: 0.1818 - acc: 0.9473\n",
      "10000/10000 [==============================] - 0s 46us/step\n",
      "Validation accuracy:  0.9559\n",
      "Epoch 3/3\n",
      "60000/60000 [==============================] - 3s 51us/step - loss: 0.1353 - acc: 0.9617\n",
      "10000/10000 [==============================] - 0s 39us/step\n",
      "Validation accuracy:  0.9629\n",
      "Epoch 4/4\n",
      "60000/60000 [==============================] - 3s 52us/step - loss: 0.1074 - acc: 0.9687\n",
      "10000/10000 [==============================] - 0s 22us/step\n",
      "Validation accuracy:  0.9659\n",
      "Saving model at:  /var/folders/5v/l788ch2j7tg0q0y1rt04c08w0000gn/T/tmpa7vbw5xz/4\n",
      "----------------------------------------------------------------------------------------------------\n",
      "Trial:\t5\n",
      "Epochs:\t0 to 1\n",
      "Parameters:{'learning_rate': 0.0003139094199248622, 'num_units': 88, 'activation': 'sigmoid', 'resource': 1, 'rung': 0, 'load_from': '', 'save_to': '5'}\n",
      "Creating new model for trial 5...\n",
      "\n",
      "Epoch 1/1\n",
      "60000/60000 [==============================] - 4s 68us/step - loss: 0.7136 - acc: 0.8431\n",
      "10000/10000 [==============================] - 0s 49us/step\n",
      "Validation accuracy:  0.9098\n",
      "Saving model at:  /var/folders/5v/l788ch2j7tg0q0y1rt04c08w0000gn/T/tmpa7vbw5xz/5\n",
      "----------------------------------------------------------------------------------------------------\n",
      "Trial:\t6\n",
      "Epochs:\t0 to 1\n",
      "Parameters:{'learning_rate': 0.0008001577665974275, 'num_units': 36, 'activation': 'sigmoid', 'resource': 1, 'rung': 0, 'load_from': '', 'save_to': '6'}\n",
      "Creating new model for trial 6...\n",
      "\n",
      "Epoch 1/1\n",
      "60000/60000 [==============================] - 4s 59us/step - loss: 0.6274 - acc: 0.8588\n",
      "10000/10000 [==============================] - 0s 48us/step\n",
      "Validation accuracy:  0.9169\n",
      "Saving model at:  /var/folders/5v/l788ch2j7tg0q0y1rt04c08w0000gn/T/tmpa7vbw5xz/6\n",
      "----------------------------------------------------------------------------------------------------\n",
      "Trial:\t7\n",
      "Epochs:\t0 to 1\n",
      "Parameters:{'learning_rate': 0.003299640159323735, 'num_units': 63, 'activation': 'tanh', 'resource': 1, 'rung': 0, 'load_from': '', 'save_to': '7'}\n",
      "Creating new model for trial 7...\n",
      "\n",
      "Epoch 1/1\n",
      "60000/60000 [==============================] - 4s 68us/step - loss: 0.2387 - acc: 0.9294\n",
      "10000/10000 [==============================] - 1s 52us/step\n",
      "Validation accuracy:  0.9521\n",
      "Saving model at:  /var/folders/5v/l788ch2j7tg0q0y1rt04c08w0000gn/T/tmpa7vbw5xz/7\n",
      "----------------------------------------------------------------------------------------------------\n",
      "Trial:\t8\n",
      "Epochs:\t1 to 4\n",
      "Parameters:{'learning_rate': 0.003299640159323735, 'num_units': 63, 'activation': 'tanh', 'save_to': '8', 'resource': 3, 'rung': 1, 'load_from': '7'}\n",
      "Loading model from:  /var/folders/5v/l788ch2j7tg0q0y1rt04c08w0000gn/T/tmpa7vbw5xz/7 ...\n",
      "\n",
      "Epoch 2/2\n",
      "60000/60000 [==============================] - 3s 52us/step - loss: 0.1209 - acc: 0.9641\n",
      "10000/10000 [==============================] - 1s 52us/step\n",
      "Validation accuracy:  0.961\n",
      "Epoch 3/3\n",
      "60000/60000 [==============================] - 3s 53us/step - loss: 0.0953 - acc: 0.9704\n",
      "10000/10000 [==============================] - 0s 24us/step\n",
      "Validation accuracy:  0.9667\n",
      "Epoch 4/4\n",
      "60000/60000 [==============================] - 3s 52us/step - loss: 0.0800 - acc: 0.9756\n",
      "10000/10000 [==============================] - 0s 23us/step\n",
      "Validation accuracy:  0.9679\n",
      "Saving model at:  /var/folders/5v/l788ch2j7tg0q0y1rt04c08w0000gn/T/tmpa7vbw5xz/8\n",
      "----------------------------------------------------------------------------------------------------\n",
      "Trial:\t9\n",
      "Epochs:\t0 to 1\n",
      "Parameters:{'learning_rate': 0.0025750610635902832, 'num_units': 48, 'activation': 'sigmoid', 'resource': 1, 'rung': 0, 'load_from': '', 'save_to': '9'}\n",
      "Creating new model for trial 9...\n",
      "\n",
      "Epoch 1/1\n",
      "60000/60000 [==============================] - 4s 62us/step - loss: 0.3477 - acc: 0.9065\n",
      "10000/10000 [==============================] - 1s 54us/step\n",
      "Validation accuracy:  0.9421\n",
      "Saving model at:  /var/folders/5v/l788ch2j7tg0q0y1rt04c08w0000gn/T/tmpa7vbw5xz/9\n",
      "----------------------------------------------------------------------------------------------------\n",
      "Trial:\t10\n",
      "Epochs:\t0 to 1\n",
      "Parameters:{'learning_rate': 0.0025240507488864423, 'num_units': 124, 'activation': 'tanh', 'resource': 1, 'rung': 0, 'load_from': '', 'save_to': '10'}\n",
      "Creating new model for trial 10...\n",
      "\n",
      "Epoch 1/1\n",
      "60000/60000 [==============================] - 5s 85us/step - loss: 0.2297 - acc: 0.9303\n",
      "10000/10000 [==============================] - 1s 58us/step\n",
      "Validation accuracy:  0.9644\n",
      "Saving model at:  /var/folders/5v/l788ch2j7tg0q0y1rt04c08w0000gn/T/tmpa7vbw5xz/10\n",
      "----------------------------------------------------------------------------------------------------\n",
      "Trial:\t11\n",
      "Epochs:\t1 to 4\n",
      "Parameters:{'learning_rate': 0.0025240507488864423, 'num_units': 124, 'activation': 'tanh', 'save_to': '11', 'resource': 3, 'rung': 1, 'load_from': '10'}\n",
      "Loading model from:  /var/folders/5v/l788ch2j7tg0q0y1rt04c08w0000gn/T/tmpa7vbw5xz/10 ...\n",
      "\n",
      "Epoch 2/2\n",
      "60000/60000 [==============================] - 5s 78us/step - loss: 0.1079 - acc: 0.9670\n",
      "10000/10000 [==============================] - 1s 63us/step\n",
      "Validation accuracy:  0.971\n",
      "Epoch 3/3\n",
      "60000/60000 [==============================] - 5s 77us/step - loss: 0.0761 - acc: 0.9764\n",
      "10000/10000 [==============================] - 0s 28us/step\n",
      "Validation accuracy:  0.9731\n",
      "Epoch 4/4\n",
      "60000/60000 [==============================] - 4s 73us/step - loss: 0.0599 - acc: 0.9811\n",
      "10000/10000 [==============================] - 0s 30us/step\n",
      "Validation accuracy:  0.9692\n",
      "Saving model at:  /var/folders/5v/l788ch2j7tg0q0y1rt04c08w0000gn/T/tmpa7vbw5xz/11\n",
      "----------------------------------------------------------------------------------------------------\n",
      "Trial:\t12\n",
      "Epochs:\t4 to 13\n",
      "Parameters:{'learning_rate': 0.0025240507488864423, 'num_units': 124, 'activation': 'tanh', 'save_to': '12', 'resource': 9, 'rung': 2, 'load_from': '11'}\n",
      "Loading model from:  /var/folders/5v/l788ch2j7tg0q0y1rt04c08w0000gn/T/tmpa7vbw5xz/11 ...\n",
      "\n",
      "Epoch 5/5\n",
      "60000/60000 [==============================] - 5s 77us/step - loss: 0.0466 - acc: 0.9850\n",
      "10000/10000 [==============================] - 1s 60us/step\n",
      "Validation accuracy:  0.973\n",
      "Epoch 6/6\n",
      "60000/60000 [==============================] - 4s 74us/step - loss: 0.0416 - acc: 0.9866\n",
      "10000/10000 [==============================] - 0s 27us/step\n",
      "Validation accuracy:  0.9726\n",
      "Epoch 7/7\n",
      "60000/60000 [==============================] - 5s 75us/step - loss: 0.0354 - acc: 0.9884\n",
      "10000/10000 [==============================] - 0s 27us/step\n",
      "Validation accuracy:  0.9744\n",
      "Epoch 8/8\n",
      "60000/60000 [==============================] - 4s 72us/step - loss: 0.0292 - acc: 0.9908\n",
      "10000/10000 [==============================] - 0s 28us/step\n",
      "Validation accuracy:  0.9739\n",
      "Epoch 9/9\n",
      "60000/60000 [==============================] - 4s 73us/step - loss: 0.0286 - acc: 0.9905\n",
      "10000/10000 [==============================] - 0s 27us/step\n",
      "Validation accuracy:  0.974\n",
      "Epoch 10/10\n",
      "60000/60000 [==============================] - 4s 72us/step - loss: 0.0245 - acc: 0.9919\n",
      "10000/10000 [==============================] - 0s 27us/step\n",
      "Validation accuracy:  0.9725\n",
      "Epoch 11/11\n",
      "60000/60000 [==============================] - 4s 72us/step - loss: 0.0233 - acc: 0.9916\n",
      "10000/10000 [==============================] - 0s 31us/step\n",
      "Validation accuracy:  0.9714\n",
      "Epoch 12/12\n",
      "60000/60000 [==============================] - 4s 72us/step - loss: 0.0203 - acc: 0.9935\n",
      "10000/10000 [==============================] - 0s 28us/step\n",
      "Validation accuracy:  0.972\n",
      "Epoch 13/13\n",
      "60000/60000 [==============================] - 4s 74us/step - loss: 0.0195 - acc: 0.9934\n",
      "10000/10000 [==============================] - 0s 27us/step\n",
      "Validation accuracy:  0.9727\n",
      "Saving model at:  /var/folders/5v/l788ch2j7tg0q0y1rt04c08w0000gn/T/tmpa7vbw5xz/12\n"
     ]
    }
   ],
   "source": [
    "for trial in study:\n",
    "    # Getting number of training epochs\n",
    "    initial_epoch = {1: 0, 3: 1, 9: 4}[trial.parameters['resource']]\n",
    "    epochs = trial.parameters['resource'] + initial_epoch\n",
    "    \n",
    "    print(\"-\"*100)\n",
    "    print(f\"Trial:\\t{trial.id}\\nEpochs:\\t{initial_epoch} to {epochs}\\nParameters:{trial.parameters}\\n\")\n",
    "    \n",
    "    if trial.parameters['load_from'] == \"\":\n",
    "        print(f\"Creating new model for trial {trial.id}...\\n\")\n",
    "        \n",
    "        # Get hyperparameters\n",
    "        lr = trial.parameters['learning_rate']\n",
    "        num_units = trial.parameters['num_units']\n",
    "        act = trial.parameters['activation']\n",
    "\n",
    "        # Create model\n",
    "        model = Sequential([Flatten(input_shape=(28, 28)),\n",
    "                            Dense(num_units, activation=act),\n",
    "                            Dense(10, activation='softmax')])\n",
    "        optimizer = Adam(lr=lr)\n",
    "        model.compile(loss='sparse_categorical_crossentropy',\n",
    "                      optimizer=optimizer,\n",
    "                      metrics=['accuracy'])\n",
    "    else:\n",
    "        print(f\"Loading model from: \", os.path.join(model_dir, trial.parameters['load_from']), \"...\\n\")\n",
    "        \n",
    "        # Loading model\n",
    "        model = load_model(os.path.join(model_dir, trial.parameters['load_from']))\n",
    "        \n",
    "\n",
    "    # Train model\n",
    "    for i in range(initial_epoch, epochs):\n",
    "        model.fit(x_train, y_train, initial_epoch=i, epochs=i+1)\n",
    "        loss, accuracy = model.evaluate(x_test, y_test)\n",
    "        \n",
    "        print(\"Validation accuracy: \", accuracy)\n",
    "        study.add_observation(trial=trial, iteration=i,\n",
    "                              objective=accuracy,\n",
    "                              context={'loss': loss})\n",
    "    \n",
    "    study.finalize(trial=trial)\n",
    "    print(f\"Saving model at: \", os.path.join(model_dir, trial.parameters['save_to']))\n",
    "    model.save(os.path.join(model_dir, trial.parameters['save_to']))\n",
    "    \n",
    "    study.save(model_dir)"
   ]
  },
  {
   "cell_type": "markdown",
   "metadata": {},
   "source": [
    "The best found hyperparameter configuration is:"
   ]
  },
  {
   "cell_type": "code",
   "execution_count": 23,
   "metadata": {},
   "outputs": [
    {
     "data": {
      "text/plain": [
       "{'Iteration': 6,\n",
       " 'Objective': 0.9744,\n",
       " 'Trial-ID': 12,\n",
       " 'activation': 'tanh',\n",
       " 'learning_rate': 0.0025240507488864423,\n",
       " 'load_from': '11',\n",
       " 'loss': 0.08811961327217287,\n",
       " 'num_units': 124,\n",
       " 'resource': 9,\n",
       " 'rung': 2,\n",
       " 'save_to': '12'}"
      ]
     },
     "execution_count": 23,
     "metadata": {},
     "output_type": "execute_result"
    }
   ],
   "source": [
    "study.get_best_result()"
   ]
  },
  {
   "cell_type": "markdown",
   "metadata": {},
   "source": [
    "This model is stored at:"
   ]
  },
  {
   "cell_type": "code",
   "execution_count": 24,
   "metadata": {},
   "outputs": [
    {
     "name": "stdout",
     "output_type": "stream",
     "text": [
      "/var/folders/5v/l788ch2j7tg0q0y1rt04c08w0000gn/T/tmpa7vbw5xz/12\n"
     ]
    }
   ],
   "source": [
    "print(os.path.join(model_dir, study.get_best_result()['save_to']))"
   ]
  },
  {
   "cell_type": "markdown",
   "metadata": {},
   "source": [
    "To remove the model directory:"
   ]
  },
  {
   "cell_type": "code",
   "execution_count": 25,
   "metadata": {
    "collapsed": true
   },
   "outputs": [],
   "source": [
    "# Remove model_dir\n",
    "shutil.rmtree(model_dir)"
   ]
  }
 ],
 "metadata": {
  "kernelspec": {
   "display_name": "Python 3",
   "language": "python",
   "name": "python3"
  },
  "language_info": {
   "codemirror_mode": {
    "name": "ipython",
    "version": 3
   },
   "file_extension": ".py",
   "mimetype": "text/x-python",
   "name": "python",
   "nbconvert_exporter": "python",
   "pygments_lexer": "ipython3",
   "version": "3.6.1"
  }
 },
 "nbformat": 4,
 "nbformat_minor": 2
}
