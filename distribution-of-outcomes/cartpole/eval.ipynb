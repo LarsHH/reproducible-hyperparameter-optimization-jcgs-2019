{
 "cells": [
  {
   "cell_type": "code",
   "execution_count": 62,
   "metadata": {},
   "outputs": [],
   "source": [
    "import pandas as pd\n",
    "import seaborn as sns\n",
    "import numpy as np\n",
    "import matplotlib.pyplot as plt\n",
    "import os\n",
    "from collections import defaultdict\n",
    "%matplotlib inline"
   ]
  },
  {
   "cell_type": "markdown",
   "metadata": {},
   "source": [
    "# 150 Evals"
   ]
  },
  {
   "cell_type": "code",
   "execution_count": 79,
   "metadata": {},
   "outputs": [],
   "source": [
    "best_results = {'25evals': defaultdict(list),\n",
    "                '50evals': defaultdict(list),\n",
    "                'final': defaultdict(list)}\n",
    "best_results_test = {'25evals': defaultdict(list),\n",
    "                '50evals': defaultdict(list),\n",
    "                'final': defaultdict(list)}\n",
    "method_map = {'nei':'BoTorch-qNEI',\n",
    "              'gs': 'GS-3,6,9',\n",
    "              'gs_sampling': 'GS-3,6,9-s',\n",
    "              'ei': 'BO-1',\n",
    "              'lcb': 'GPyOpt-LCB',\n",
    "              'lcb_logregret': 'GPyOpt-LCB(log(Regret))',\n",
    "              'rs':'RS-1',\n",
    "              'rs3': 'Random Search x3',\n",
    "              'rs5': 'Random Search x5',\n",
    "              'ei3': 'GPyOpt-EI x3',\n",
    "              'ei5': 'GPyOpt-EI x5',\n",
    "              'nei_logregret':'BoTorch-qNEI(log(Regret))',\n",
    "              'asha':'ASHA'}\n",
    "\n",
    "skip_results = [\"gs-20201006\", \"gs-20201007\"]\n",
    "evals_used = defaultdict(list)\n",
    "for fname in os.listdir(\"results/\"):\n",
    "    if any(fname.startswith(n) for n in skip_results):\n",
    "        continue\n",
    "    if fname.endswith(\".csv\"):\n",
    "        method_name = method_map[fname.split(\"-\")[0]]\n",
    "        if fname.split(\"-\")[0] == 'nei_logregret':\n",
    "            continue\n",
    "        evals = fname.split(\"_\")[-1][:-4]\n",
    "        df = pd.read_csv(f\"results/{fname}\")\n",
    "        if 'evals' in df.columns:\n",
    "            evals_used[method_name].append(df['evals'].mean())\n",
    "        best_results[evals][method_name].append(np.mean(df['mean_reward']))"
   ]
  },
  {
   "cell_type": "code",
   "execution_count": 80,
   "metadata": {},
   "outputs": [
    {
     "data": {
      "text/plain": [
       "187.4"
      ]
     },
     "execution_count": 80,
     "metadata": {},
     "output_type": "execute_result"
    }
   ],
   "source": [
    "np.mean(evals_used['GS-3,6,9'])"
   ]
  },
  {
   "cell_type": "code",
   "execution_count": 81,
   "metadata": {},
   "outputs": [
    {
     "data": {
      "text/plain": [
       "181.0"
      ]
     },
     "execution_count": 81,
     "metadata": {},
     "output_type": "execute_result"
    }
   ],
   "source": [
    "np.mean(evals_used['GS-3,6,9-s'])"
   ]
  },
  {
   "cell_type": "code",
   "execution_count": 74,
   "metadata": {},
   "outputs": [],
   "source": [
    "validdf = pd.concat([pd.DataFrame({'Method': [k]*len(v), 'EPE':v}) for k, v in best_results['final'].items()]).sort_values(by='Method')"
   ]
  },
  {
   "cell_type": "code",
   "execution_count": 78,
   "metadata": {},
   "outputs": [
    {
     "data": {
      "text/plain": [
       "(array([0, 1, 2, 3]), <a list of 4 Text xticklabel objects>)"
      ]
     },
     "execution_count": 78,
     "metadata": {},
     "output_type": "execute_result"
    },
    {
     "data": {
      "image/png": "[encoded data removed]",
      "text/plain": [
       "<Figure size 864x432 with 2 Axes>"
      ]
     },
     "metadata": {},
     "output_type": "display_data"
    }
   ],
   "source": [
    "sns.set()\n",
    "fig, ax = plt.subplots(ncols=2, figsize=(12, 6))\n",
    "\n",
    "sns.boxplot(data=validdf,\n",
    "            x='Method',\n",
    "            y='EPE',\n",
    "            ax=ax[0],\n",
    "            showmeans=True,\n",
    "            meanprops={\"marker\":\"*\",\"markerfacecolor\":\"white\", \"markeredgecolor\":\"black\"})\n",
    "ax[0].set_title(\"Cartpole PPO\")\n",
    "ax[0].set_xlabel(\"\")\n",
    "ax[0].set_ylabel(\"Reward\")\n",
    "# ax[0].set_ylim([7, 20])\n",
    "\n",
    "plt.sca(ax[0])\n",
    "plt.xticks(rotation=90)\n"
   ]
  },
  {
   "cell_type": "code",
   "execution_count": 77,
   "metadata": {},
   "outputs": [],
   "source": [
    "validdf.to_csv('../csv-results/cartpole-valid.csv')"
   ]
  },
  {
   "cell_type": "code",
   "execution_count": 58,
   "metadata": {
    "scrolled": true
   },
   "outputs": [
    {
     "data": {
      "text/html": [
       "<div>\n",
       "<style scoped>\n",
       "    .dataframe tbody tr th:only-of-type {\n",
       "        vertical-align: middle;\n",
       "    }\n",
       "\n",
       "    .dataframe tbody tr th {\n",
       "        vertical-align: top;\n",
       "    }\n",
       "\n",
       "    .dataframe thead tr th {\n",
       "        text-align: left;\n",
       "    }\n",
       "\n",
       "    .dataframe thead tr:last-of-type th {\n",
       "        text-align: right;\n",
       "    }\n",
       "</style>\n",
       "<table border=\"1\" class=\"dataframe\">\n",
       "  <thead>\n",
       "    <tr>\n",
       "      <th></th>\n",
       "      <th colspan=\"4\" halign=\"left\">value</th>\n",
       "    </tr>\n",
       "    <tr>\n",
       "      <th></th>\n",
       "      <th>count</th>\n",
       "      <th>mean</th>\n",
       "      <th>median</th>\n",
       "      <th>var</th>\n",
       "    </tr>\n",
       "    <tr>\n",
       "      <th>method</th>\n",
       "      <th></th>\n",
       "      <th></th>\n",
       "      <th></th>\n",
       "      <th></th>\n",
       "    </tr>\n",
       "  </thead>\n",
       "  <tbody>\n",
       "    <tr>\n",
       "      <th>Random Search</th>\n",
       "      <td>15</td>\n",
       "      <td>166.714064</td>\n",
       "      <td>169.333780</td>\n",
       "      <td>1648.746522</td>\n",
       "    </tr>\n",
       "    <tr>\n",
       "      <th>GroupSeq-Sampling</th>\n",
       "      <td>15</td>\n",
       "      <td>175.484499</td>\n",
       "      <td>173.441351</td>\n",
       "      <td>725.476348</td>\n",
       "    </tr>\n",
       "    <tr>\n",
       "      <th>GroupSeq</th>\n",
       "      <td>15</td>\n",
       "      <td>189.361816</td>\n",
       "      <td>188.755213</td>\n",
       "      <td>227.396131</td>\n",
       "    </tr>\n",
       "    <tr>\n",
       "      <th>GPyOpt-EI</th>\n",
       "      <td>15</td>\n",
       "      <td>199.281514</td>\n",
       "      <td>203.848225</td>\n",
       "      <td>241.239680</td>\n",
       "    </tr>\n",
       "  </tbody>\n",
       "</table>\n",
       "</div>"
      ],
      "text/plain": [
       "                  value                                     \n",
       "                  count        mean      median          var\n",
       "method                                                      \n",
       "Random Search        15  166.714064  169.333780  1648.746522\n",
       "GroupSeq-Sampling    15  175.484499  173.441351   725.476348\n",
       "GroupSeq             15  189.361816  188.755213   227.396131\n",
       "GPyOpt-EI            15  199.281514  203.848225   241.239680"
      ]
     },
     "execution_count": 58,
     "metadata": {},
     "output_type": "execute_result"
    }
   ],
   "source": [
    "validdf.groupby('method').agg(['count', 'mean', 'median', 'var']).sort_values(by=('value', 'mean'), ascending=True)"
   ]
  },
  {
   "cell_type": "code",
   "execution_count": 152,
   "metadata": {},
   "outputs": [],
   "source": [
    "meandf = pd.DataFrame({'25': df25.groupby('method').agg(['mean'])['value']['mean'],\n",
    "                       '50': df50.groupby('method').agg(['mean'])['value']['mean'],\n",
    "                       '100': finaldf.groupby('method').agg(['mean'])['value']['mean']})"
   ]
  },
  {
   "cell_type": "code",
   "execution_count": 164,
   "metadata": {},
   "outputs": [],
   "source": [
    "meandf = meandf.reindex(['25', '50', '100'], axis=1)"
   ]
  },
  {
   "cell_type": "code",
   "execution_count": 165,
   "metadata": {},
   "outputs": [
    {
     "name": "stdout",
     "output_type": "stream",
     "text": [
      "\\begin{tabular}{lrrr}\n",
      "\\toprule\n",
      "{} &    25 &    50 &   100 \\\\\n",
      "method           &       &       &       \\\\\n",
      "\\midrule\n",
      "ASHA             & 125.2 & 135.0 & 134.4 \\\\\n",
      "BoTorch-qNEI     & 149.7 & 155.2 & 158.3 \\\\\n",
      "GPyOpt-EI        & 136.5 & 143.6 & 148.5 \\\\\n",
      "GPyOpt-EI x3     &  93.7 & 133.5 & 151.9 \\\\\n",
      "GPyOpt-LCB       & 141.1 & 149.7 & 148.7 \\\\\n",
      "Random Search    & 112.0 & 130.3 & 139.1 \\\\\n",
      "Random Search x3 &  85.6 & 102.6 & 123.0 \\\\\n",
      "Random Search x5 &  69.6 &  89.1 & 105.7 \\\\\n",
      "\\bottomrule\n",
      "\\end{tabular}\n",
      "\n"
     ]
    }
   ],
   "source": [
    "print(meandf.to_latex(float_format=lambda x: '%.1f' % x))"
   ]
  }
 ],
 "metadata": {
  "kernelspec": {
   "display_name": "Python 3",
   "language": "python",
   "name": "python3"
  },
  "language_info": {
   "codemirror_mode": {
    "name": "ipython",
    "version": 3
   },
   "file_extension": ".py",
   "mimetype": "text/x-python",
   "name": "python",
   "nbconvert_exporter": "python",
   "pygments_lexer": "ipython3",
   "version": "3.7.2"
  }
 },
 "nbformat": 4,
 "nbformat_minor": 2
}
