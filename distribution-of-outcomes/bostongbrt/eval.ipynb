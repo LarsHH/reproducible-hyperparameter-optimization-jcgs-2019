{
 "cells": [
  {
   "cell_type": "code",
   "execution_count": 131,
   "metadata": {},
   "outputs": [],
   "source": [
    "import pandas as pd\n",
    "import seaborn as sns\n",
    "import numpy as np\n",
    "import matplotlib.pyplot as plt\n",
    "import os\n",
    "from collections import defaultdict\n",
    "%matplotlib inline"
   ]
  },
  {
   "cell_type": "markdown",
   "metadata": {},
   "source": [
    "# 150 Evals"
   ]
  },
  {
   "cell_type": "code",
   "execution_count": 157,
   "metadata": {},
   "outputs": [],
   "source": [
    "best_results = {'25evals': defaultdict(list),\n",
    "                '50evals': defaultdict(list),\n",
    "                'final': defaultdict(list)}\n",
    "best_results_test = {'25evals': defaultdict(list),\n",
    "                '50evals': defaultdict(list),\n",
    "                'final': defaultdict(list)}\n",
    "method_map = {'nei':'BoTorch-qNEI',\n",
    "              'gs': 'GS-3,6,9',\n",
    "              'gs_sampling': 'GS-3,6,9-s',\n",
    "              'ei': 'BO-1',\n",
    "              'lcb': 'GPyOpt-LCB',\n",
    "              'lcb_logregret': 'GPyOpt-LCB(log(Regret))',\n",
    "              'rs':'RS-1',\n",
    "              'rs3': 'Random Search x3',\n",
    "              'rs5': 'Random Search x5',\n",
    "              'ei3': 'GPyOpt-EI x3',\n",
    "              'ei5': 'GPyOpt-EI x5',\n",
    "              'nei_logregret':'BoTorch-qNEI(log(Regret))',\n",
    "              'asha':'ASHA'}\n",
    "evals_used = defaultdict(list)\n",
    "for fname in os.listdir(\"results/\"):\n",
    "    if fname.endswith(\".csv\"):\n",
    "        method_name = method_map[fname.split(\"-\")[0]]\n",
    "        if fname.split(\"-\")[0] == 'nei_logregret':\n",
    "            continue\n",
    "        evals = fname.split(\"_\")[-1][:-4]\n",
    "        df = pd.read_csv(f\"results/{fname}\")\n",
    "        if 'evals' in df.columns:\n",
    "            evals_used[method_name].append(df['evals'].mean())\n",
    "        best_results[evals][method_name].append(np.mean(df['mse']))\n",
    "        best_results_test[evals][method_name].append(np.mean(df['mse_test']))"
   ]
  },
  {
   "cell_type": "code",
   "execution_count": 158,
   "metadata": {
    "scrolled": true
   },
   "outputs": [
    {
     "data": {
      "text/plain": [
       "157.2"
      ]
     },
     "execution_count": 158,
     "metadata": {},
     "output_type": "execute_result"
    }
   ],
   "source": [
    "np.mean(evals_used['GS-3,6,9'])"
   ]
  },
  {
   "cell_type": "code",
   "execution_count": 159,
   "metadata": {
    "scrolled": true
   },
   "outputs": [
    {
     "data": {
      "text/plain": [
       "144.3"
      ]
     },
     "execution_count": 159,
     "metadata": {},
     "output_type": "execute_result"
    }
   ],
   "source": [
    "np.mean(evals_used['GS-3,6,9-s'])"
   ]
  },
  {
   "cell_type": "code",
   "execution_count": 152,
   "metadata": {},
   "outputs": [],
   "source": [
    "validdf = pd.concat([pd.DataFrame({'Method': [k]*len(v), 'EPE':v}) for k, v in best_results['final'].items()]).sort_values(by='Method')\n",
    "testdf = pd.concat([pd.DataFrame({'Method': [k]*len(v), 'EPE':v}) for k, v in best_results_test['final'].items()]).sort_values(by='Method')"
   ]
  },
  {
   "cell_type": "code",
   "execution_count": 153,
   "metadata": {},
   "outputs": [
    {
     "data": {
      "image/png": "[encoded data removed]",
      "text/plain": [
       "<Figure size 864x432 with 2 Axes>"
      ]
     },
     "metadata": {},
     "output_type": "display_data"
    }
   ],
   "source": [
    "sns.set()\n",
    "fig, ax = plt.subplots(ncols=2, figsize=(12, 6))\n",
    "\n",
    "sns.boxplot(data=validdf,\n",
    "            x='Method',\n",
    "            y='EPE',\n",
    "            ax=ax[0],\n",
    "            showmeans=True,\n",
    "            meanprops={\"marker\":\"*\",\"markerfacecolor\":\"white\", \"markeredgecolor\":\"black\"})\n",
    "ax[0].set_title(\"Boston GBRT: Validation Data\")\n",
    "ax[0].set_xlabel(\"\")\n",
    "ax[0].set_ylabel(\"Loss\")\n",
    "# ax[0].set_ylim([7, 20])\n",
    "\n",
    "plt.sca(ax[0])\n",
    "plt.xticks(rotation=90)\n",
    "\n",
    "\n",
    "sns.boxplot(data=testdf,\n",
    "            x='Method',\n",
    "            y='EPE',\n",
    "            ax=ax[1],\n",
    "            showmeans=True,\n",
    "            meanprops={\"marker\":\"*\",\"markerfacecolor\":\"white\", \"markeredgecolor\":\"black\"})\n",
    "ax[1].set_title(\"Boston GBRT: Test Data\")\n",
    "ax[1].set_xlabel(\"\")\n",
    "ax[1].set_ylabel(\"\")\n",
    "# ax[1].set_ylim([7, 20])\n",
    "plt.sca(ax[1])\n",
    "plt.xticks(rotation=90)\n",
    "\n",
    "\n",
    "plt.tight_layout()"
   ]
  },
  {
   "cell_type": "code",
   "execution_count": 154,
   "metadata": {},
   "outputs": [],
   "source": [
    "validdf.to_csv('../csv-results/boston-valid.csv')\n",
    "testdf.to_csv('../csv-results/boston-test.csv')"
   ]
  },
  {
   "cell_type": "code",
   "execution_count": 155,
   "metadata": {
    "scrolled": true
   },
   "outputs": [
    {
     "data": {
      "text/html": [
       "<div>\n",
       "<style scoped>\n",
       "    .dataframe tbody tr th:only-of-type {\n",
       "        vertical-align: middle;\n",
       "    }\n",
       "\n",
       "    .dataframe tbody tr th {\n",
       "        vertical-align: top;\n",
       "    }\n",
       "\n",
       "    .dataframe thead tr th {\n",
       "        text-align: left;\n",
       "    }\n",
       "\n",
       "    .dataframe thead tr:last-of-type th {\n",
       "        text-align: right;\n",
       "    }\n",
       "</style>\n",
       "<table border=\"1\" class=\"dataframe\">\n",
       "  <thead>\n",
       "    <tr>\n",
       "      <th></th>\n",
       "      <th colspan=\"4\" halign=\"left\">EPE</th>\n",
       "    </tr>\n",
       "    <tr>\n",
       "      <th></th>\n",
       "      <th>count</th>\n",
       "      <th>mean</th>\n",
       "      <th>median</th>\n",
       "      <th>var</th>\n",
       "    </tr>\n",
       "    <tr>\n",
       "      <th>Method</th>\n",
       "      <th></th>\n",
       "      <th></th>\n",
       "      <th></th>\n",
       "      <th></th>\n",
       "    </tr>\n",
       "  </thead>\n",
       "  <tbody>\n",
       "    <tr>\n",
       "      <th>BO-1</th>\n",
       "      <td>30</td>\n",
       "      <td>8.967651</td>\n",
       "      <td>8.915417</td>\n",
       "      <td>0.183441</td>\n",
       "    </tr>\n",
       "    <tr>\n",
       "      <th>GS-3,6,9</th>\n",
       "      <td>30</td>\n",
       "      <td>9.066325</td>\n",
       "      <td>9.048320</td>\n",
       "      <td>0.079374</td>\n",
       "    </tr>\n",
       "    <tr>\n",
       "      <th>RS-1</th>\n",
       "      <td>30</td>\n",
       "      <td>9.629329</td>\n",
       "      <td>9.474984</td>\n",
       "      <td>0.397533</td>\n",
       "    </tr>\n",
       "    <tr>\n",
       "      <th>GS-3,6,9-s</th>\n",
       "      <td>30</td>\n",
       "      <td>9.819465</td>\n",
       "      <td>9.694410</td>\n",
       "      <td>0.457728</td>\n",
       "    </tr>\n",
       "  </tbody>\n",
       "</table>\n",
       "</div>"
      ],
      "text/plain": [
       "             EPE                              \n",
       "           count      mean    median       var\n",
       "Method                                        \n",
       "BO-1          30  8.967651  8.915417  0.183441\n",
       "GS-3,6,9      30  9.066325  9.048320  0.079374\n",
       "RS-1          30  9.629329  9.474984  0.397533\n",
       "GS-3,6,9-s    30  9.819465  9.694410  0.457728"
      ]
     },
     "execution_count": 155,
     "metadata": {},
     "output_type": "execute_result"
    }
   ],
   "source": [
    "validdf.groupby('Method').agg(['count', 'mean', 'median', 'var']).sort_values(by=('EPE', 'mean'), ascending=True)"
   ]
  },
  {
   "cell_type": "code",
   "execution_count": 156,
   "metadata": {},
   "outputs": [
    {
     "data": {
      "text/html": [
       "<div>\n",
       "<style scoped>\n",
       "    .dataframe tbody tr th:only-of-type {\n",
       "        vertical-align: middle;\n",
       "    }\n",
       "\n",
       "    .dataframe tbody tr th {\n",
       "        vertical-align: top;\n",
       "    }\n",
       "\n",
       "    .dataframe thead tr th {\n",
       "        text-align: left;\n",
       "    }\n",
       "\n",
       "    .dataframe thead tr:last-of-type th {\n",
       "        text-align: right;\n",
       "    }\n",
       "</style>\n",
       "<table border=\"1\" class=\"dataframe\">\n",
       "  <thead>\n",
       "    <tr>\n",
       "      <th></th>\n",
       "      <th colspan=\"4\" halign=\"left\">EPE</th>\n",
       "    </tr>\n",
       "    <tr>\n",
       "      <th></th>\n",
       "      <th>count</th>\n",
       "      <th>mean</th>\n",
       "      <th>median</th>\n",
       "      <th>var</th>\n",
       "    </tr>\n",
       "    <tr>\n",
       "      <th>Method</th>\n",
       "      <th></th>\n",
       "      <th></th>\n",
       "      <th></th>\n",
       "      <th></th>\n",
       "    </tr>\n",
       "  </thead>\n",
       "  <tbody>\n",
       "    <tr>\n",
       "      <th>GS-3,6,9-s</th>\n",
       "      <td>30</td>\n",
       "      <td>9.320361</td>\n",
       "      <td>9.371040</td>\n",
       "      <td>0.116211</td>\n",
       "    </tr>\n",
       "    <tr>\n",
       "      <th>RS-1</th>\n",
       "      <td>30</td>\n",
       "      <td>9.475262</td>\n",
       "      <td>9.447458</td>\n",
       "      <td>0.132542</td>\n",
       "    </tr>\n",
       "    <tr>\n",
       "      <th>GS-3,6,9</th>\n",
       "      <td>30</td>\n",
       "      <td>9.508863</td>\n",
       "      <td>9.532937</td>\n",
       "      <td>0.032408</td>\n",
       "    </tr>\n",
       "    <tr>\n",
       "      <th>BO-1</th>\n",
       "      <td>30</td>\n",
       "      <td>9.722090</td>\n",
       "      <td>9.708394</td>\n",
       "      <td>0.063703</td>\n",
       "    </tr>\n",
       "  </tbody>\n",
       "</table>\n",
       "</div>"
      ],
      "text/plain": [
       "             EPE                              \n",
       "           count      mean    median       var\n",
       "Method                                        \n",
       "GS-3,6,9-s    30  9.320361  9.371040  0.116211\n",
       "RS-1          30  9.475262  9.447458  0.132542\n",
       "GS-3,6,9      30  9.508863  9.532937  0.032408\n",
       "BO-1          30  9.722090  9.708394  0.063703"
      ]
     },
     "execution_count": 156,
     "metadata": {},
     "output_type": "execute_result"
    }
   ],
   "source": [
    "testdf.groupby('Method').agg(['count', 'mean', 'median', 'var']).sort_values(by=('EPE', 'mean'), ascending=True)"
   ]
  },
  {
   "cell_type": "code",
   "execution_count": 152,
   "metadata": {},
   "outputs": [],
   "source": [
    "meandf = pd.DataFrame({'25': df25.groupby('method').agg(['mean'])['value']['mean'],\n",
    "                       '50': df50.groupby('method').agg(['mean'])['value']['mean'],\n",
    "                       '100': finaldf.groupby('method').agg(['mean'])['value']['mean']})"
   ]
  },
  {
   "cell_type": "code",
   "execution_count": 164,
   "metadata": {},
   "outputs": [],
   "source": [
    "meandf = meandf.reindex(['25', '50', '100'], axis=1)"
   ]
  },
  {
   "cell_type": "code",
   "execution_count": 165,
   "metadata": {},
   "outputs": [
    {
     "name": "stdout",
     "output_type": "stream",
     "text": [
      "\\begin{tabular}{lrrr}\n",
      "\\toprule\n",
      "{} &    25 &    50 &   100 \\\\\n",
      "method           &       &       &       \\\\\n",
      "\\midrule\n",
      "ASHA             & 125.2 & 135.0 & 134.4 \\\\\n",
      "BoTorch-qNEI     & 149.7 & 155.2 & 158.3 \\\\\n",
      "GPyOpt-EI        & 136.5 & 143.6 & 148.5 \\\\\n",
      "GPyOpt-EI x3     &  93.7 & 133.5 & 151.9 \\\\\n",
      "GPyOpt-LCB       & 141.1 & 149.7 & 148.7 \\\\\n",
      "Random Search    & 112.0 & 130.3 & 139.1 \\\\\n",
      "Random Search x3 &  85.6 & 102.6 & 123.0 \\\\\n",
      "Random Search x5 &  69.6 &  89.1 & 105.7 \\\\\n",
      "\\bottomrule\n",
      "\\end{tabular}\n",
      "\n"
     ]
    }
   ],
   "source": [
    "print(meandf.to_latex(float_format=lambda x: '%.1f' % x))"
   ]
  }
 ],
 "metadata": {
  "kernelspec": {
   "display_name": "Python 3",
   "language": "python",
   "name": "python3"
  },
  "language_info": {
   "codemirror_mode": {
    "name": "ipython",
    "version": 3
   },
   "file_extension": ".py",
   "mimetype": "text/x-python",
   "name": "python",
   "nbconvert_exporter": "python",
   "pygments_lexer": "ipython3",
   "version": "3.7.2"
  }
 },
 "nbformat": 4,
 "nbformat_minor": 2
}
